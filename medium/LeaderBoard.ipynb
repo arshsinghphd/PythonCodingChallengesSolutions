{
 "cells": [
  {
   "cell_type": "code",
   "execution_count": null,
   "id": "1ec39591",
   "metadata": {},
   "outputs": [],
   "source": []
  },
  {
   "cell_type": "code",
   "execution_count": 1,
   "id": "ordinary-confidentiality",
   "metadata": {},
   "outputs": [],
   "source": [
    "ranked=\"100 100 50 40 40 20 10\"\n",
    "ranked=\"1\""
   ]
  },
  {
   "cell_type": "code",
   "execution_count": 2,
   "id": "interstate-bangkok",
   "metadata": {},
   "outputs": [],
   "source": [
    "ranked=list(map(int, ranked.rstrip().split()))"
   ]
  },
  {
   "cell_type": "code",
   "execution_count": 3,
   "id": "comprehensive-commons",
   "metadata": {},
   "outputs": [],
   "source": [
    "player=\"5 25 50 120\"\n",
    "player=\"1 1\""
   ]
  },
  {
   "cell_type": "code",
   "execution_count": 4,
   "id": "alpine-gregory",
   "metadata": {},
   "outputs": [],
   "source": [
    "player=list(map(int, player.rstrip().split()))"
   ]
  },
  {
   "cell_type": "code",
   "execution_count": 5,
   "id": "fatty-departure",
   "metadata": {},
   "outputs": [],
   "source": [
    "def climbingLeaderboard(ranked, player):\n",
    "    # Assign rank to player after each game and save it as a list\n",
    "    scores=[]\n",
    "    for r in ranked:\n",
    "        if r not in scores:\n",
    "            scores.append(r)\n",
    "    print(ranked)\n",
    "    print(scores)\n",
    "    print(player)\n",
    "    result=[]\n",
    "    n=len(scores)\n",
    "    for score_p in player:\n",
    "        print(\"player score:\",score_p)\n",
    "        print(\"n:\",n)\n",
    "        while (score_p>=scores[n-1]) and (n>=1):\n",
    "            n-=1\n",
    "        else:\n",
    "            print(\"n:\", n)\n",
    "            result.append(n+1)\n",
    "            print(\"result:\",result)\n",
    "    return result"
   ]
  },
  {
   "cell_type": "code",
   "execution_count": 6,
   "id": "indie-taxation",
   "metadata": {},
   "outputs": [
    {
     "name": "stdout",
     "output_type": "stream",
     "text": [
      "[1]\n",
      "[1]\n",
      "[1, 1]\n",
      "player score: 1\n",
      "n: 1\n",
      "n: 0\n",
      "result: [1]\n",
      "player score: 1\n",
      "n: 0\n",
      "n: 0\n",
      "result: [1, 1]\n"
     ]
    }
   ],
   "source": [
    "result=climbingLeaderboard(ranked, player)"
   ]
  },
  {
   "cell_type": "code",
   "execution_count": 7,
   "id": "extraordinary-berlin",
   "metadata": {},
   "outputs": [
    {
     "name": "stdout",
     "output_type": "stream",
     "text": [
      "1\n",
      "1\n"
     ]
    }
   ],
   "source": [
    "print('\\n'.join(map(str, result)))"
   ]
  },
  {
   "cell_type": "code",
   "execution_count": null,
   "id": "reduced-purple",
   "metadata": {},
   "outputs": [],
   "source": []
  }
 ],
 "metadata": {
  "kernelspec": {
   "display_name": "Python 3 (ipykernel)",
   "language": "python",
   "name": "python3"
  },
  "language_info": {
   "codemirror_mode": {
    "name": "ipython",
    "version": 3
   },
   "file_extension": ".py",
   "mimetype": "text/x-python",
   "name": "python",
   "nbconvert_exporter": "python",
   "pygments_lexer": "ipython3",
   "version": "3.7.4"
  }
 },
 "nbformat": 4,
 "nbformat_minor": 5
}
