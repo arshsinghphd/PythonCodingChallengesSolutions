{
 "cells": [
  {
   "cell_type": "markdown",
   "id": "2b9c59a2",
   "metadata": {},
   "source": [
    "https://www.hackerrank.com/challenges/validate-list-of-email-address-with-filter/problem"
   ]
  },
  {
   "cell_type": "code",
   "execution_count": 1,
   "id": "e0f95f2c",
   "metadata": {},
   "outputs": [],
   "source": [
    "import regex as re\n",
    "n=3\n",
    "l=['lara@hackerrank.com', \n",
    "   'brian-23@hackerrank.com',\n",
    "   'britts_54@hackerrank.com']\n",
    "l=['a mm@asasg.com@com','as$bs@3232313_23.comm','lara@hackerrank.com', \n",
    "   'brian-23@hackerrank.com', 'britts_54@hackerrank.com']"
   ]
  },
  {
   "cell_type": "code",
   "execution_count": 3,
   "id": "170c67e1",
   "metadata": {},
   "outputs": [
    {
     "name": "stdout",
     "output_type": "stream",
     "text": [
      "brian-23@hackerrank.com\n",
      "britts_54@hackerrank.com\n",
      "lara@hackerrank.com\n"
     ]
    }
   ],
   "source": [
    "form=re.compile('^(.*)@(.*)\\.(.*)$')\n",
    "p1=re.compile('^[a-zA-Z0-9_\\-]*$')\n",
    "p2=re.compile('^[a-zA-Z0-9]*$')\n",
    "p3=re.compile('^[a-zA-Z]*$')\n",
    "ans=[]\n",
    "for a in l:\n",
    "    test=form.match(a)\n",
    "    if test:\n",
    "        #print(p1.groups())\n",
    "        user=test.group(1)\n",
    "        website=test.group(2)\n",
    "        ext=test.group(3)\n",
    "        if (p1.match(user) and \n",
    "            p2.match(website) and \n",
    "            p3.match(ext) and \n",
    "            len(ext)==3):\n",
    "            ans.append(a)\n",
    "ans.sort()\n",
    "for a in ans:\n",
    "    print(a)"
   ]
  }
 ],
 "metadata": {
  "kernelspec": {
   "display_name": "Python 3 (ipykernel)",
   "language": "python",
   "name": "python3"
  },
  "language_info": {
   "codemirror_mode": {
    "name": "ipython",
    "version": 3
   },
   "file_extension": ".py",
   "mimetype": "text/x-python",
   "name": "python",
   "nbconvert_exporter": "python",
   "pygments_lexer": "ipython3",
   "version": "3.7.4"
  }
 },
 "nbformat": 4,
 "nbformat_minor": 5
}
