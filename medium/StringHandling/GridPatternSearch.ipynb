{
 "cells": [
  {
   "cell_type": "markdown",
   "id": "bronze-output",
   "metadata": {},
   "source": [
    "#### https://www.hackerrank.com/challenges/the-grid-search/problem"
   ]
  },
  {
   "cell_type": "code",
   "execution_count": 1,
   "id": "intense-consistency",
   "metadata": {},
   "outputs": [],
   "source": [
    "import re"
   ]
  },
  {
   "cell_type": "code",
   "execution_count": 2,
   "id": "trying-customer",
   "metadata": {},
   "outputs": [],
   "source": [
    "P=['9505','3845','3530']"
   ]
  },
  {
   "cell_type": "code",
   "execution_count": 3,
   "id": "tough-cable",
   "metadata": {},
   "outputs": [],
   "source": [
    "G=['7283455864','6731158619','8988242643','3830589324','2229505813','5633845374',\n",
    "   '6473530293','7053106601','0834282956','4607924137']\n"
   ]
  },
  {
   "cell_type": "code",
   "execution_count": 4,
   "id": "finished-armor",
   "metadata": {},
   "outputs": [
    {
     "name": "stdout",
     "output_type": "stream",
     "text": [
      "YES\n"
     ]
    }
   ],
   "source": [
    "prog0=re.compile(P[0][0]) # Seach with first character of first row of P\n",
    "prog=re.compile(P[0]) # Seach all the character of first row of P\n",
    "result='NO'\n",
    "for i in range(len(G)-len(P)+1):\n",
    "    G_i=G[i] # Make a copy of the row of G[i] as G_i\n",
    "    n_m=len(prog0.findall(G_i)) # Find all matches of the first character\n",
    "    # Check all matches of P[0][0]\n",
    "    while n_m>=1: \n",
    "        res0=prog0.search(G_i)\n",
    "        if res0:\n",
    "            # Search the following characters in the same row of G.\n",
    "            res=prog.search(G_i)\n",
    "            # If all match, search the same places in the rows below\n",
    "            if res:\n",
    "                j=1\n",
    "                while j<len(P):\n",
    "                    if P[j]!=G[i+j][res.span()[0]:res.span()[1]]:\n",
    "                        j=len(P)+1\n",
    "                    else:\n",
    "                        j+=1\n",
    "                if j==len(P): # if all line of Pattern match\n",
    "                    result='YES'    \n",
    "        # replace the matched character of G_i with A, \n",
    "            # so that it's not matched in the next iteration.\n",
    "            G_i=str.replace(G_i,G_i[res0.span()[0]],'A',1)\n",
    "            n_m=n_m-1\n",
    "print(result)"
   ]
  }
 ],
 "metadata": {
  "kernelspec": {
   "display_name": "Python 3",
   "language": "python",
   "name": "python3"
  },
  "language_info": {
   "codemirror_mode": {
    "name": "ipython",
    "version": 3
   },
   "file_extension": ".py",
   "mimetype": "text/x-python",
   "name": "python",
   "nbconvert_exporter": "python",
   "pygments_lexer": "ipython3",
   "version": "3.7.4"
  }
 },
 "nbformat": 4,
 "nbformat_minor": 5
}
