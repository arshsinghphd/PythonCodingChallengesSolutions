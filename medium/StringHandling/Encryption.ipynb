{
 "cells": [
  {
   "cell_type": "markdown",
   "id": "binary-nashville",
   "metadata": {},
   "source": [
    "#### https://www.hackerrank.com/challenges/encryption/problem"
   ]
  },
  {
   "cell_type": "code",
   "execution_count": 1,
   "id": "unique-punishment",
   "metadata": {},
   "outputs": [],
   "source": [
    "#s=input()\n",
    "s='chillout'"
   ]
  },
  {
   "cell_type": "code",
   "execution_count": 2,
   "id": "tested-cinema",
   "metadata": {},
   "outputs": [],
   "source": [
    "def encryption(s):\n",
    "    # remove all spaces, this may be a\n",
    "    raw=s.replace(\" \",\"\")\n",
    "    \n",
    "    # decide the n_row and n_col\n",
    "    # fix this part to choose n_row and n_col to min(n_row*n_col)\n",
    "    l=len(raw)\n",
    "    n_col=0\n",
    "    n_row=0\n",
    "    # special case of perfect square\n",
    "    if (int(l**.5))**2==l:\n",
    "        n_col=int(l**.5)\n",
    "        n_row=int(l**.5)\n",
    "    else:\n",
    "        n_row=int(l**.5)\n",
    "        n_col=int(l**.5)+1\n",
    "    # check to see if the matrix will fill all raw\n",
    "        if n_row*n_col<l:\n",
    "            n_row+=1\n",
    "    size=n_col*n_row\n",
    "    m=['']*size\n",
    "    for i in range(l):\n",
    "        m[i]=raw[i]\n",
    "        \n",
    "    result=''\n",
    "    for i in range(n_col):\n",
    "        s=''\n",
    "        for j in range(n_row):\n",
    "            if m[i+n_col*j]!=' ':\n",
    "                s+=m[i+n_col*j]\n",
    "        result+=s\n",
    "        result+=' '\n",
    "    return result"
   ]
  },
  {
   "cell_type": "code",
   "execution_count": 3,
   "id": "changed-artist",
   "metadata": {},
   "outputs": [
    {
     "name": "stdout",
     "output_type": "stream",
     "text": [
      "clu hlt io \n"
     ]
    }
   ],
   "source": [
    "print(encryption(s))"
   ]
  },
  {
   "cell_type": "code",
   "execution_count": null,
   "id": "deadly-fields",
   "metadata": {},
   "outputs": [],
   "source": []
  }
 ],
 "metadata": {
  "kernelspec": {
   "display_name": "Python 3",
   "language": "python",
   "name": "python3"
  },
  "language_info": {
   "codemirror_mode": {
    "name": "ipython",
    "version": 3
   },
   "file_extension": ".py",
   "mimetype": "text/x-python",
   "name": "python",
   "nbconvert_exporter": "python",
   "pygments_lexer": "ipython3",
   "version": "3.7.4"
  }
 },
 "nbformat": 4,
 "nbformat_minor": 5
}
