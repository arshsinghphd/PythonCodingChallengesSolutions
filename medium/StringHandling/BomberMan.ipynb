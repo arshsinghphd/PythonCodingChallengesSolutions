{
 "cells": [
  {
   "cell_type": "markdown",
   "id": "guilty-olive",
   "metadata": {},
   "source": [
    "#### https://www.hackerrank.com/challenges/bomber-man/problem"
   ]
  },
  {
   "cell_type": "raw",
   "id": "touched-summer",
   "metadata": {},
   "source": [
    "r = 6\n",
    "c = 7 \n",
    "n = 3\n",
    "grid =['.......', '...O...', '....O..', '.......', 'OO.....', 'OO.....']\n",
    "# expect ['OOO.OOO','OO...OO','OOO...O','..OO.OO','...OOOO','...OOOO']\n",
    "# works"
   ]
  },
  {
   "cell_type": "code",
   "execution_count": 1,
   "id": "hungry-peninsula",
   "metadata": {},
   "outputs": [],
   "source": [
    "r=6\n",
    "c=7\n",
    "n=5\n",
    "grid=['.......','...O.O.','....O..','..O....','OO...OO','OO.O...']\n",
    "# expect ['.......','...O.O.','...OO..','..OOOO.','OOOOOOO','OOOOOOO']"
   ]
  },
  {
   "cell_type": "raw",
   "id": "sitting-sacrifice",
   "metadata": {},
   "source": [
    "r=3\n",
    "c=3\n",
    "n=3\n",
    "grid=['...','.O.','...']\n",
    "# works"
   ]
  },
  {
   "cell_type": "markdown",
   "id": "convenient-conspiracy",
   "metadata": {},
   "source": [
    "1. Initially, Bomberman arbitrarily plants bombs in some of the cells, the initial state.\n",
    "2. After one second, Bomberman does nothing.\n",
    "3. After one more second, Bomberman plants bombs in all cells without bombs, thus filling the whole grid with bombs. No bombs detonate at this point.\n",
    "4. After one more second, any bombs planted exactly three seconds ago will detonate. Here, Bomberman stands back and observes.\n",
    "5. Bomberman then repeats steps 3 and 4 indefinitely.\n",
    "\n",
    "Initialize empty dictionary \n",
    "\n",
    "Bombs={}\n",
    "\n",
    "t=0, initial grid; Make a list of bombs in initial state Bombs[0]\n",
    "\n",
    "t=1, nothing\n",
    "\n",
    "t=2, plant new bombs in this state Bombs[2]\n",
    "\n",
    "\n",
    "t=3, Bombs[0] blow\n",
    "\n",
    "t=4, plant new bombs in this state Bombs[4]\n",
    "\n",
    "\n",
    "t=5, Bombs[2] blow\n",
    "\n",
    "t=6, plant new bombs in this state Bombs[6]\n",
    "\n",
    "\n",
    "t=7, Bombs[4] blow\n",
    "\n",
    "t=8, plant new bombs in this state Bombs[8]\n",
    "\n",
    "\n",
    "t=9, Bombs[6] blow\n",
    "\n",
    "t=10, plant new bombs in this state Bombs[10]\n",
    "\n",
    "\n",
    "etc."
   ]
  },
  {
   "cell_type": "code",
   "execution_count": 2,
   "id": "engaged-leave",
   "metadata": {},
   "outputs": [],
   "source": [
    "def seekGrid(i,j):\n",
    "    if (0 <= i < r) and (0 <=j < c):\n",
    "        return grid[i][j]\n",
    "    else:\n",
    "        return '.'"
   ]
  },
  {
   "cell_type": "code",
   "execution_count": 3,
   "id": "outstanding-subcommittee",
   "metadata": {},
   "outputs": [],
   "source": [
    "def OddSeconds():\n",
    "    for i in range(r):\n",
    "        for j in range(c):\n",
    "            if (seekGrid(i,j)=='O' or \n",
    "                seekGrid(i+1,j)=='O' or \n",
    "                seekGrid(i-1,j)=='O' or\n",
    "                seekGrid(i,j+1)=='O' or \n",
    "                seekGrid(i,j-1)=='O'):\n",
    "                temp[i][j]='.'\n",
    "            else: \n",
    "                temp[i][j]='O'               \n",
    "    for i in range(r):\n",
    "        for j in range(c):\n",
    "            grid[i]=grid[i][:j]+temp[i][j]+grid[i][j+1:]"
   ]
  },
  {
   "cell_type": "code",
   "execution_count": 4,
   "id": "piano-breath",
   "metadata": {},
   "outputs": [],
   "source": [
    "temp=[[None]*c for i in range(r)]"
   ]
  },
  {
   "cell_type": "code",
   "execution_count": 5,
   "id": "deadly-comparison",
   "metadata": {},
   "outputs": [
    {
     "name": "stdout",
     "output_type": "stream",
     "text": [
      "['.......', '...O.O.', '...OO..', '..OOOO.', 'OOOOOOO', 'OOOOOOO']\n"
     ]
    }
   ],
   "source": [
    "# noticing that the pattern repeats every 4 moves\n",
    "if n>4:\n",
    "    n=(n%4)+4\n",
    "    \n",
    "if n%2==0:\n",
    "    for i in range(r):\n",
    "        grid[i]=str.replace(grid[i],'.','O')\n",
    "else:\n",
    "    for t in range(1,n,2):\n",
    "        OddSeconds()\n",
    "print(grid)"
   ]
  },
  {
   "cell_type": "code",
   "execution_count": 6,
   "id": "personalized-governor",
   "metadata": {},
   "outputs": [
    {
     "data": {
      "text/plain": [
       "['.......', '...O.O.', '...OO..', '..OOOO.', 'OOOOOOO', 'OOOOOOO']"
      ]
     },
     "execution_count": 6,
     "metadata": {},
     "output_type": "execute_result"
    }
   ],
   "source": [
    "['.......','...O.O.','...OO..','..OOOO.','OOOOOOO','OOOOOOO']"
   ]
  }
 ],
 "metadata": {
  "kernelspec": {
   "display_name": "Python 3",
   "language": "python",
   "name": "python3"
  },
  "language_info": {
   "codemirror_mode": {
    "name": "ipython",
    "version": 3
   },
   "file_extension": ".py",
   "mimetype": "text/x-python",
   "name": "python",
   "nbconvert_exporter": "python",
   "pygments_lexer": "ipython3",
   "version": "3.7.4"
  }
 },
 "nbformat": 4,
 "nbformat_minor": 5
}
