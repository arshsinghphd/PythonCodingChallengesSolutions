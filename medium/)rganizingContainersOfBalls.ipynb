{
 "cells": [
  {
   "cell_type": "markdown",
   "id": "fe82f96f",
   "metadata": {},
   "source": [
    "https://www.hackerrank.com/challenges/organizing-containers-of-balls/problem"
   ]
  },
  {
   "cell_type": "code",
   "execution_count": 2,
   "id": "11b993a6",
   "metadata": {},
   "outputs": [],
   "source": [
    "def organizingContainers(container):\n",
    "    A=[]\n",
    "    for Li in container:\n",
    "        for it in Li:  \n",
    "            A.append(it)\n",
    "                 \n",
    "    n=int(len(A)**(1/2))\n",
    "    cols=[0]*n\n",
    "    for i in range(n):\n",
    "            for j in range(n):\n",
    "                it=int(A[i+n*j])\n",
    "                cols[i]+=it\n",
    "    cols.sort()\n",
    "    rows=[0]*n\n",
    "    for i in range(n):\n",
    "            for j in range(n):\n",
    "                it=int(A[n*i+j])\n",
    "                rows[i]+=it\n",
    "                \n",
    "    rows.sort()\n",
    "\n",
    "    if cols==rows:\n",
    "        return \"Possible\"\n",
    "    else:\n",
    "        return \"Impossible\"\n"
   ]
  },
  {
   "cell_type": "code",
   "execution_count": 4,
   "id": "42bcd698",
   "metadata": {},
   "outputs": [
    {
     "data": {
      "text/plain": [
       "'Possible'"
      ]
     },
     "execution_count": 4,
     "metadata": {},
     "output_type": "execute_result"
    }
   ],
   "source": [
    "container=[[1,3,1],[2,1,2],[3,3,3]] # expect Impossible\n",
    "#container=[[0,2,1],[1,1,1],[2,0,0]] # expect Possible\n",
    "organizingContainers(container)"
   ]
  }
 ],
 "metadata": {
  "kernelspec": {
   "display_name": "Python 3 (ipykernel)",
   "language": "python",
   "name": "python3"
  },
  "language_info": {
   "codemirror_mode": {
    "name": "ipython",
    "version": 3
   },
   "file_extension": ".py",
   "mimetype": "text/x-python",
   "name": "python",
   "nbconvert_exporter": "python",
   "pygments_lexer": "ipython3",
   "version": "3.7.4"
  }
 },
 "nbformat": 4,
 "nbformat_minor": 5
}
