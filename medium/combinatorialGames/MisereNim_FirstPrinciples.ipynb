{
 "cells": [
  {
   "cell_type": "markdown",
   "id": "frequent-motion",
   "metadata": {},
   "source": [
    "##### https://www.hackerrank.com/challenges/misere-nim-1/problem"
   ]
  },
  {
   "cell_type": "raw",
   "id": "intelligent-philosophy",
   "metadata": {},
   "source": [
    "Two people are playing game of Misère Nim. The basic rules for this game are as follows: The game starts with piles of stones indexed from 0 to n-1. Each pile i has s_i stones. The players move in alternating turns. During each move, the current player must remove one or more stones from a single pile. The player who removes the last stone loses the game (misere). Given the value of and the number of stones in each pile, determine whether the person who wins the game is the first or second person to move. If the first player to move wins, print First on a new line; otherwise, print Second. Assume both players move optimally."
   ]
  },
  {
   "cell_type": "raw",
   "id": "cooked-granny",
   "metadata": {},
   "source": [
    "For two player misere nim game, P-positions (from which previous player can win) and N-positions (from which next player can win) are defined recursively by the following three statements:\n",
    "(1) All terminal positions (no moves from it are possible) are N-positions. In multiple pile nim games, it would be empty piles. This is the only condition that changes if you go from Misere to Normal play. \n",
    "(2) From every N-position, there is at least one move to a P-position.\n",
    "(3) From every P-position, every move is to an N-position."
   ]
  },
  {
   "cell_type": "code",
   "execution_count": 1,
   "id": "destroyed-cheese",
   "metadata": {},
   "outputs": [],
   "source": [
    "#s=[1,1,1] # expect 'Second'\n",
    "s=[1,2,2] # expect 'First'\n",
    "#s=[2,1,3] # expect 'Second'\n",
    "n=3 # length of s"
   ]
  },
  {
   "cell_type": "code",
   "execution_count": 2,
   "id": "lonely-fantasy",
   "metadata": {},
   "outputs": [],
   "source": [
    "N=[]\n",
    "P=[]\n",
    "# there is exactly one terminal position [0,0,0]. It is an N-position."
   ]
  },
  {
   "cell_type": "code",
   "execution_count": 3,
   "id": "steady-curve",
   "metadata": {},
   "outputs": [],
   "source": [
    "# recursive function that will lead us to lists of all N- and P- positions. \n",
    "# If list s is in P answer is First, else Second.\n"
   ]
  },
  {
   "cell_type": "code",
   "execution_count": 4,
   "id": "thorough-accounting",
   "metadata": {},
   "outputs": [
    {
     "name": "stdout",
     "output_type": "stream",
     "text": [
      "s: [1, 2, 2]\n",
      "[0, 2, 2] not in [[0, 0, 0], [1, 1, 0], [1, 2, 1]]\n",
      "appending [1, 2, 2] to N\n",
      "[1, 1, 2] not in [[0, 0, 0], [1, 1, 0], [1, 2, 1], [1, 2, 2]]\n",
      "[1, 0, 2] not in [[0, 0, 0], [1, 1, 0], [1, 2, 1], [1, 2, 2]]\n",
      "[1, 2, 1] not in [[0, 0, 0], [1, 1, 0], [1, 2, 1], [1, 2, 2]]\n",
      "[1, 2, 0] not in [[0, 0, 0], [1, 1, 0], [1, 2, 1], [1, 2, 2]]\n",
      "[0, 2, 0] not in [[0, 0, 0], [1, 1, 0], [1, 2, 1], [1, 2, 2]]\n",
      "appending [1, 2, 0] to N\n",
      "[1, 1, 0] not in [[0, 0, 0], [1, 1, 0], [1, 2, 1], [1, 2, 2], [1, 2, 0]]\n",
      "[1, 0, 0] not in [[0, 0, 0], [1, 1, 0], [1, 2, 1], [1, 2, 2], [1, 2, 0]]\n",
      "[0, 2, 2] not in [[0, 0, 0], [1, 1, 0], [1, 2, 1], [1, 2, 2], [1, 2, 0], [1, 1, 2]]\n",
      "[1, 1, 2] not in [[0, 0, 0], [1, 1, 0], [1, 2, 1], [1, 2, 2], [1, 2, 0], [1, 1, 2]]\n",
      "[1, 0, 2] not in [[0, 0, 0], [1, 1, 0], [1, 2, 1], [1, 2, 2], [1, 2, 0], [1, 1, 2]]\n",
      "[1, 2, 1] not in [[0, 0, 0], [1, 1, 0], [1, 2, 1], [1, 2, 2], [1, 2, 0], [1, 1, 2]]\n",
      "[1, 2, 0] not in [[0, 0, 0], [1, 1, 0], [1, 2, 1], [1, 2, 2], [1, 2, 0], [1, 1, 2]]\n",
      "[0, 1, 1] not in [[0, 0, 0], [1, 1, 0], [1, 2, 1], [1, 2, 2], [1, 2, 0], [1, 1, 2]]\n",
      "appending [1, 1, 1] to N\n",
      "[1, 0, 1] not in [[0, 0, 0], [1, 1, 0], [1, 2, 1], [1, 2, 2], [1, 2, 0], [1, 1, 2], [1, 1, 1]]\n",
      "[1, 1, 0] not in [[0, 0, 0], [1, 1, 0], [1, 2, 1], [1, 2, 2], [1, 2, 0], [1, 1, 2], [1, 1, 1]]\n",
      "[0, 1, 1] not in [[0, 0, 0], [1, 1, 0], [1, 2, 1], [1, 2, 2], [1, 2, 0], [1, 1, 2], [1, 1, 1], [1, 0, 1]]\n",
      "[1, 0, 1] not in [[0, 0, 0], [1, 1, 0], [1, 2, 1], [1, 2, 2], [1, 2, 0], [1, 1, 2], [1, 1, 1], [1, 0, 1]]\n",
      "[1, 1, 0] not in [[0, 0, 0], [1, 1, 0], [1, 2, 1], [1, 2, 2], [1, 2, 0], [1, 1, 2], [1, 1, 1], [1, 0, 1]]\n",
      "[0, 0, 2] not in [[0, 0, 0], [1, 1, 0], [1, 2, 1], [1, 2, 2], [1, 2, 0], [1, 1, 2], [1, 1, 1], [1, 0, 1]]\n",
      "appending [1, 0, 2] to N\n",
      "[1, 0, 1] not in [[0, 0, 0], [1, 1, 0], [1, 2, 1], [1, 2, 2], [1, 2, 0], [1, 1, 2], [1, 1, 1], [1, 0, 1], [1, 0, 2]]\n",
      "[1, 0, 0] not in [[0, 0, 0], [1, 1, 0], [1, 2, 1], [1, 2, 2], [1, 2, 0], [1, 1, 2], [1, 1, 1], [1, 0, 1], [1, 0, 2]]\n",
      "[0, 0, 0] not in [[0, 0, 0], [1, 1, 0], [1, 2, 1], [1, 2, 2], [1, 2, 0], [1, 1, 2], [1, 1, 1], [1, 0, 1], [1, 0, 2]]\n",
      "[0, 2, 0] not in [[0, 0, 0], [1, 1, 0], [1, 2, 1], [1, 2, 2], [1, 2, 0], [1, 1, 2], [1, 1, 1], [1, 0, 1], [1, 0, 2], [0, 2, 0]]\n",
      "[1, 1, 0] not in [[0, 0, 0], [1, 1, 0], [1, 2, 1], [1, 2, 2], [1, 2, 0], [1, 1, 2], [1, 1, 1], [1, 0, 1], [1, 0, 2], [0, 2, 0]]\n",
      "[1, 0, 0] not in [[0, 0, 0], [1, 1, 0], [1, 2, 1], [1, 2, 2], [1, 2, 0], [1, 1, 2], [1, 1, 1], [1, 0, 1], [1, 0, 2], [0, 2, 0]]\n",
      "[0, 2, 2] not in [[0, 0, 0], [1, 1, 0], [1, 2, 1], [1, 2, 2], [1, 2, 0], [1, 1, 2], [1, 1, 1], [1, 0, 1], [1, 0, 2], [0, 2, 0], [0, 2, 2]]\n",
      "[1, 1, 2] not in [[0, 0, 0], [1, 1, 0], [1, 2, 1], [1, 2, 2], [1, 2, 0], [1, 1, 2], [1, 1, 1], [1, 0, 1], [1, 0, 2], [0, 2, 0], [0, 2, 2]]\n",
      "[1, 0, 2] not in [[0, 0, 0], [1, 1, 0], [1, 2, 1], [1, 2, 2], [1, 2, 0], [1, 1, 2], [1, 1, 1], [1, 0, 1], [1, 0, 2], [0, 2, 0], [0, 2, 2]]\n",
      "[1, 2, 1] not in [[0, 0, 0], [1, 1, 0], [1, 2, 1], [1, 2, 2], [1, 2, 0], [1, 1, 2], [1, 1, 1], [1, 0, 1], [1, 0, 2], [0, 2, 0], [0, 2, 2]]\n",
      "[1, 2, 0] not in [[0, 0, 0], [1, 1, 0], [1, 2, 1], [1, 2, 2], [1, 2, 0], [1, 1, 2], [1, 1, 1], [1, 0, 1], [1, 0, 2], [0, 2, 0], [0, 2, 2]]\n",
      "[0, 1, 1] not in [[0, 0, 0], [1, 1, 0], [1, 2, 1], [1, 2, 2], [1, 2, 0], [1, 1, 2], [1, 1, 1], [1, 0, 1], [1, 0, 2], [0, 2, 0], [0, 2, 2]]\n",
      "appending [0, 2, 1] to N\n",
      "[0, 0, 1] not in [[0, 0, 0], [1, 1, 0], [1, 2, 1], [1, 2, 2], [1, 2, 0], [1, 1, 2], [1, 1, 1], [1, 0, 1], [1, 0, 2], [0, 2, 0], [0, 2, 2], [0, 2, 1]]\n",
      "[0, 2, 0] not in [[0, 0, 0], [1, 1, 0], [1, 2, 1], [1, 2, 2], [1, 2, 0], [1, 1, 2], [1, 1, 1], [1, 0, 1], [1, 0, 2], [0, 2, 0], [0, 2, 2], [0, 2, 1]]\n",
      "[0, 1, 1] not in [[0, 0, 0], [1, 1, 0], [1, 2, 1], [1, 2, 2], [1, 2, 0], [1, 1, 2], [1, 1, 1], [1, 0, 1], [1, 0, 2], [0, 2, 0], [0, 2, 2], [0, 2, 1], [0, 1, 1]]\n",
      "[1, 0, 1] not in [[0, 0, 0], [1, 1, 0], [1, 2, 1], [1, 2, 2], [1, 2, 0], [1, 1, 2], [1, 1, 1], [1, 0, 1], [1, 0, 2], [0, 2, 0], [0, 2, 2], [0, 2, 1], [0, 1, 1]]\n",
      "[1, 1, 0] not in [[0, 0, 0], [1, 1, 0], [1, 2, 1], [1, 2, 2], [1, 2, 0], [1, 1, 2], [1, 1, 1], [1, 0, 1], [1, 0, 2], [0, 2, 0], [0, 2, 2], [0, 2, 1], [0, 1, 1]]\n",
      "[0, 1, 1] not in [[0, 0, 0], [1, 1, 0], [1, 2, 1], [1, 2, 2], [1, 2, 0], [1, 1, 2], [1, 1, 1], [1, 0, 1], [1, 0, 2], [0, 2, 0], [0, 2, 2], [0, 2, 1], [0, 1, 1]]\n",
      "[0, 0, 1] not in [[0, 0, 0], [1, 1, 0], [1, 2, 1], [1, 2, 2], [1, 2, 0], [1, 1, 2], [1, 1, 1], [1, 0, 1], [1, 0, 2], [0, 2, 0], [0, 2, 2], [0, 2, 1], [0, 1, 1]]\n",
      "[0, 2, 0] not in [[0, 0, 0], [1, 1, 0], [1, 2, 1], [1, 2, 2], [1, 2, 0], [1, 1, 2], [1, 1, 1], [1, 0, 1], [1, 0, 2], [0, 2, 0], [0, 2, 2], [0, 2, 1], [0, 1, 1]]\n",
      "[0, 0, 2] not in [[0, 0, 0], [1, 1, 0], [1, 2, 1], [1, 2, 2], [1, 2, 0], [1, 1, 2], [1, 1, 1], [1, 0, 1], [1, 0, 2], [0, 2, 0], [0, 2, 2], [0, 2, 1], [0, 1, 1]]\n",
      "appending [0, 1, 2] to N\n",
      "[0, 1, 1] not in [[0, 0, 0], [1, 1, 0], [1, 2, 1], [1, 2, 2], [1, 2, 0], [1, 1, 2], [1, 1, 1], [1, 0, 1], [1, 0, 2], [0, 2, 0], [0, 2, 2], [0, 2, 1], [0, 1, 1], [0, 1, 2]]\n",
      "[0, 1, 0] not in [[0, 0, 0], [1, 1, 0], [1, 2, 1], [1, 2, 2], [1, 2, 0], [1, 1, 2], [1, 1, 1], [1, 0, 1], [1, 0, 2], [0, 2, 0], [0, 2, 2], [0, 2, 1], [0, 1, 1], [0, 1, 2]]\n",
      "[0, 0, 0] not in [[0, 0, 0], [1, 1, 0], [1, 2, 1], [1, 2, 2], [1, 2, 0], [1, 1, 2], [1, 1, 1], [1, 0, 1], [1, 0, 2], [0, 2, 0], [0, 2, 2], [0, 2, 1], [0, 1, 1], [0, 1, 2]]\n",
      "[0, 0, 2] not in [[0, 0, 0], [1, 1, 0], [1, 2, 1], [1, 2, 2], [1, 2, 0], [1, 1, 2], [1, 1, 1], [1, 0, 1], [1, 0, 2], [0, 2, 0], [0, 2, 2], [0, 2, 1], [0, 1, 1], [0, 1, 2], [0, 0, 2]]\n",
      "[1, 0, 1] not in [[0, 0, 0], [1, 1, 0], [1, 2, 1], [1, 2, 2], [1, 2, 0], [1, 1, 2], [1, 1, 1], [1, 0, 1], [1, 0, 2], [0, 2, 0], [0, 2, 2], [0, 2, 1], [0, 1, 1], [0, 1, 2], [0, 0, 2]]\n",
      "[1, 0, 0] not in [[0, 0, 0], [1, 1, 0], [1, 2, 1], [1, 2, 2], [1, 2, 0], [1, 1, 2], [1, 1, 1], [1, 0, 1], [1, 0, 2], [0, 2, 0], [0, 2, 2], [0, 2, 1], [0, 1, 1], [0, 1, 2], [0, 0, 2]]\n",
      "[0, 0, 2] not in [[0, 0, 0], [1, 1, 0], [1, 2, 1], [1, 2, 2], [1, 2, 0], [1, 1, 2], [1, 1, 1], [1, 0, 1], [1, 0, 2], [0, 2, 0], [0, 2, 2], [0, 2, 1], [0, 1, 1], [0, 1, 2], [0, 0, 2]]\n",
      "[0, 1, 1] not in [[0, 0, 0], [1, 1, 0], [1, 2, 1], [1, 2, 2], [1, 2, 0], [1, 1, 2], [1, 1, 1], [1, 0, 1], [1, 0, 2], [0, 2, 0], [0, 2, 2], [0, 2, 1], [0, 1, 1], [0, 1, 2], [0, 0, 2]]\n",
      "[0, 1, 0] not in [[0, 0, 0], [1, 1, 0], [1, 2, 1], [1, 2, 2], [1, 2, 0], [1, 1, 2], [1, 1, 1], [1, 0, 1], [1, 0, 2], [0, 2, 0], [0, 2, 2], [0, 2, 1], [0, 1, 1], [0, 1, 2], [0, 0, 2]]\n",
      "[0, 0, 0] not in [[0, 0, 0], [1, 1, 0], [1, 2, 1], [1, 2, 2], [1, 2, 0], [1, 1, 2], [1, 1, 1], [1, 0, 1], [1, 0, 2], [0, 2, 0], [0, 2, 2], [0, 2, 1], [0, 1, 1], [0, 1, 2], [0, 0, 2]]\n",
      "P-positions: [[1, 0, 0], [1, 2, 2], [1, 1, 1], [0, 1, 0], [0, 0, 1]]\n",
      "N-positions: [[0, 0, 0], [1, 1, 0], [1, 2, 1], [1, 2, 2], [1, 2, 0], [1, 1, 2], [1, 1, 1], [1, 0, 1], [1, 0, 2], [0, 2, 0], [0, 2, 2], [0, 2, 1], [0, 1, 1], [0, 1, 2], [0, 0, 2]]\n",
      "First\n"
     ]
    }
   ],
   "source": [
    "print('s:',s)\n",
    "getPositions()\n",
    "print('P-positions:',P)\n",
    "print('N-positions:',N)\n",
    "if s in N:\n",
    "    print('First')\n",
    "else:\n",
    "    print('Second')"
   ]
  },
  {
   "cell_type": "code",
   "execution_count": null,
   "id": "acting-buddy",
   "metadata": {},
   "outputs": [],
   "source": []
  },
  {
   "cell_type": "code",
   "execution_count": null,
   "id": "unsigned-antique",
   "metadata": {},
   "outputs": [],
   "source": []
  }
 ],
 "metadata": {
  "kernelspec": {
   "display_name": "Python 3",
   "language": "python",
   "name": "python3"
  },
  "language_info": {
   "codemirror_mode": {
    "name": "ipython",
    "version": 3
   },
   "file_extension": ".py",
   "mimetype": "text/x-python",
   "name": "python",
   "nbconvert_exporter": "python",
   "pygments_lexer": "ipython3",
   "version": "3.7.4"
  }
 },
 "nbformat": 4,
 "nbformat_minor": 5
}
