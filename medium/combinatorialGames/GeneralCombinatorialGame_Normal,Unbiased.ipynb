{
 "cells": [
  {
   "cell_type": "markdown",
   "id": "patient-reflection",
   "metadata": {},
   "source": [
    "GAME THEORY, Class notes for Math 167, Fall 2000\n",
    "Thomas S. Ferguson\n",
    "Ref: http://www.cs.cmu.edu/afs/cs/academic/class/15859-f01/www/notes/intro.pdf"
   ]
  },
  {
   "cell_type": "raw",
   "id": "exotic-collar",
   "metadata": {},
   "source": [
    "We say a position in a game is a terminal position, if no moves from it are possible. This algorithm is just the method\n",
    "we used to solve the take-away game of Section 1.1.\n",
    "\n",
    "Step 1: Label every terminal position as a P-position.\n",
    "Step 2: Label every position that can reach a labelled P-position in one move as an N-position.\n",
    "Step 3: Find those positions whose only moves are to labelled N-positions; label such positions as P-positions.\n",
    "Step 4: If no new P-positions were found in step 3, stop; otherwise return to step 2.\n",
    "\n",
    "It is easy to see that the strategy of moving to P-positions wins. From a P-position, your opponent can move only to an N-position (3). Then you may move back to a P-  kkkposition (2). Eventually the game ends at a terminal position and since this is a P-position, you win (1). Here is a characterization of P-positions and N-positions that is valid for impartial\n",
    "combinatorial games satisfying the ending condition, under the normal play rule. P-positions and N-positions are defined recursively by the following three statements.\n",
    "(1) All terminal positions are P-positions.\n",
    "(2) From every N-position, there is at least one move to a P-position.\n",
    "(3) From every P-position, every move is to an N-position."
   ]
  },
  {
   "cell_type": "code",
   "execution_count": 1,
   "id": "tutorial-advancement",
   "metadata": {},
   "outputs": [],
   "source": [
    "moves=[1,3,4]\n",
    "n=30\n",
    "# n=n%7 Makes it very simple, we do not have to loop"
   ]
  },
  {
   "cell_type": "code",
   "execution_count": 2,
   "id": "controversial-potato",
   "metadata": {},
   "outputs": [
    {
     "name": "stdout",
     "output_type": "stream",
     "text": [
      "N: [1, 3, 4, 5, 6, 8, 10, 11, 12, 13, 15, 17, 18, 19, 20, 22, 24, 25, 26, 27, 29]\n",
      "P: [0, 2, 7, 9, 14, 16, 21, 23, 28, 30]\n"
     ]
    }
   ],
   "source": [
    "N=[]\n",
    "P=[]\n",
    "least=min(moves)\n",
    "for i in range(least):\n",
    "    P.append(i)\n",
    "    #print(P)\n",
    "for pos in P:\n",
    "    for move in moves:\n",
    "        if (pos+move not in N) and ((pos+move)<=n):\n",
    "            #All these positions can reach known \n",
    "            #     P-positions in one move\n",
    "            N.append(pos+move)\n",
    "    #print(N)\n",
    "\n",
    "for j in range(n+1):\n",
    "    #Find more P positions such that\n",
    "    #     the only moves from there are to N-positions\n",
    "    if (j not in P) and (j not in N):\n",
    "        eligible=True\n",
    "        for move in moves:\n",
    "            if ((j-move)>0):\n",
    "                if (j-move not in N):\n",
    "                    eligible=False\n",
    "        if eligible:\n",
    "            if j not in P:\n",
    "                P.append(j)\n",
    "        else:\n",
    "            for pos in P:\n",
    "                for move in moves:\n",
    "                    #All these positions can reach known \n",
    "                    #     P-positions in one move\n",
    "                    if (pos+move not in N) and ((pos+move)<=n):\n",
    "                        N.append(pos+move)\n",
    "print('N:',N)\n",
    "print('P:',P)\n"
   ]
  },
  {
   "cell_type": "raw",
   "id": "passive-plain",
   "metadata": {},
   "source": [
    "there is a clear cyclicity at 7.\n",
    "Instead of trying N we can try n modulo 7."
   ]
  },
  {
   "cell_type": "code",
   "execution_count": 3,
   "id": "falling-morocco",
   "metadata": {},
   "outputs": [],
   "source": [
    "moves=[1,2,3,5,7]\n",
    "n=30"
   ]
  },
  {
   "cell_type": "code",
   "execution_count": 4,
   "id": "champion-azerbaijan",
   "metadata": {},
   "outputs": [
    {
     "name": "stdout",
     "output_type": "stream",
     "text": [
      "N: [1, 2, 3, 5, 7, 6, 9, 11, 10, 13, 15, 14, 17, 19, 18, 21, 23, 22, 25, 27, 26, 29, 30]\n",
      "P: [0, 4, 8, 12, 16, 20, 24, 28]\n"
     ]
    }
   ],
   "source": [
    "N=[]\n",
    "P=[]\n",
    "least=min(moves)\n",
    "for i in range(least):\n",
    "    P.append(i)\n",
    "    #print(P)\n",
    "for pos in P:\n",
    "    for move in moves:\n",
    "        if (pos+move not in N) and ((pos+move)<=n):\n",
    "            #All these positions can reach known \n",
    "            #     P-positions in one move\n",
    "            N.append(pos+move)\n",
    "    #print(N)\n",
    "\n",
    "for j in range(n+1):\n",
    "    #Find more P positions such that\n",
    "    #     the only moves from there are to N-positions\n",
    "    if (j not in P) and (j not in N):\n",
    "        eligible=True\n",
    "        for move in moves:\n",
    "            if ((j-move)>0):\n",
    "                if (j-move not in N):\n",
    "                    eligible=False\n",
    "        if eligible:\n",
    "            if j not in P:\n",
    "                P.append(j)\n",
    "        else:\n",
    "            for pos in P:\n",
    "                for move in moves:\n",
    "                    #All these positions can reach known \n",
    "                    #     P-positions in one move\n",
    "                    if (pos+move not in N) and ((pos+move)<=n):\n",
    "                        N.append(pos+move)\n",
    "print('N:',N)\n",
    "print('P:',P)"
   ]
  },
  {
   "cell_type": "code",
   "execution_count": 5,
   "id": "exterior-mongolia",
   "metadata": {},
   "outputs": [],
   "source": [
    "moves=[1,2,3,5,7]\n",
    "n=30"
   ]
  },
  {
   "cell_type": "code",
   "execution_count": 6,
   "id": "passing-annotation",
   "metadata": {},
   "outputs": [],
   "source": [
    "# recursive\n",
    "def CombGame(N,P,i):\n",
    "    print(i)\n",
    "    if i>n:\n",
    "        print('here')\n",
    "        print(N,P)\n",
    "        D=(N,P)\n",
    "        return D\n",
    "    else:\n",
    "        if (i not in P) and (i not in N):\n",
    "            eligible=True\n",
    "            for move in moves:\n",
    "                if ((i-move)>0) and (i-move not in N):\n",
    "                    eligible=False\n",
    "            if eligible:\n",
    "                if i not in P:\n",
    "                    P.append(i)\n",
    "                    print('P:',P)\n",
    "            else:\n",
    "                for pos in P:\n",
    "                    for move in moves:\n",
    "                        #All these positions can reach known \n",
    "                        #     P-positions in one move\n",
    "                        if (pos+move not in N) and ((pos+move)<=n):\n",
    "                                N.append(pos+move)\n",
    "                print('N:',N)\n",
    "        i+=1\n",
    "        D=CombGame(N,P,i)"
   ]
  },
  {
   "cell_type": "code",
   "execution_count": 7,
   "id": "immune-change",
   "metadata": {},
   "outputs": [
    {
     "name": "stdout",
     "output_type": "stream",
     "text": [
      "P0, [0]\n",
      "N0, [1, 2, 3, 5, 7]\n",
      "0\n",
      "1\n",
      "2\n",
      "3\n",
      "4\n",
      "P: [0, 4]\n",
      "5\n",
      "6\n",
      "N: [1, 2, 3, 5, 7, 6, 9, 11]\n",
      "7\n",
      "8\n",
      "P: [0, 4, 8]\n",
      "9\n",
      "10\n",
      "N: [1, 2, 3, 5, 7, 6, 9, 11, 10, 13, 15]\n",
      "11\n",
      "12\n",
      "P: [0, 4, 8, 12]\n",
      "13\n",
      "14\n",
      "N: [1, 2, 3, 5, 7, 6, 9, 11, 10, 13, 15, 14, 17, 19]\n",
      "15\n",
      "16\n",
      "P: [0, 4, 8, 12, 16]\n",
      "17\n",
      "18\n",
      "N: [1, 2, 3, 5, 7, 6, 9, 11, 10, 13, 15, 14, 17, 19, 18, 21, 23]\n",
      "19\n",
      "20\n",
      "P: [0, 4, 8, 12, 16, 20]\n",
      "21\n",
      "22\n",
      "N: [1, 2, 3, 5, 7, 6, 9, 11, 10, 13, 15, 14, 17, 19, 18, 21, 23, 22, 25, 27]\n",
      "23\n",
      "24\n",
      "P: [0, 4, 8, 12, 16, 20, 24]\n",
      "25\n",
      "26\n",
      "N: [1, 2, 3, 5, 7, 6, 9, 11, 10, 13, 15, 14, 17, 19, 18, 21, 23, 22, 25, 27, 26, 29]\n",
      "27\n",
      "28\n",
      "P: [0, 4, 8, 12, 16, 20, 24, 28]\n",
      "29\n",
      "30\n",
      "N: [1, 2, 3, 5, 7, 6, 9, 11, 10, 13, 15, 14, 17, 19, 18, 21, 23, 22, 25, 27, 26, 29, 30]\n",
      "31\n",
      "here\n",
      "[1, 2, 3, 5, 7, 6, 9, 11, 10, 13, 15, 14, 17, 19, 18, 21, 23, 22, 25, 27, 26, 29, 30] [0, 4, 8, 12, 16, 20, 24, 28]\n",
      "None\n"
     ]
    }
   ],
   "source": [
    "N=[]\n",
    "P=[]\n",
    "least=min(moves)\n",
    "for i in range(least):\n",
    "    P.append(i) \n",
    "    print('P0,',P)\n",
    "    for move in moves:\n",
    "        if (i+move not in N):\n",
    "            #All these positions can reach known \n",
    "            #     P-positions in one move\n",
    "            N.append(i+move)\n",
    "    print('N0,',N)\n",
    "i=0\n",
    "D=CombGame(N,P,i)\n",
    "print(D)"
   ]
  },
  {
   "cell_type": "code",
   "execution_count": 8,
   "id": "willing-russian",
   "metadata": {},
   "outputs": [],
   "source": [
    "D"
   ]
  },
  {
   "cell_type": "code",
   "execution_count": null,
   "id": "wanted-intellectual",
   "metadata": {},
   "outputs": [],
   "source": []
  }
 ],
 "metadata": {
  "kernelspec": {
   "display_name": "Python 3 (ipykernel)",
   "language": "python",
   "name": "python3"
  },
  "language_info": {
   "codemirror_mode": {
    "name": "ipython",
    "version": 3
   },
   "file_extension": ".py",
   "mimetype": "text/x-python",
   "name": "python",
   "nbconvert_exporter": "python",
   "pygments_lexer": "ipython3",
   "version": "3.7.4"
  }
 },
 "nbformat": 4,
 "nbformat_minor": 5
}
