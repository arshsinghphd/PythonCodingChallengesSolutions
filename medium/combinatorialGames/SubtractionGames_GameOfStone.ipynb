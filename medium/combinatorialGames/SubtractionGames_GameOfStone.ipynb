{
 "cells": [
  {
   "cell_type": "markdown",
   "id": "pleasant-trash",
   "metadata": {},
   "source": [
    "##### https://www.hackerrank.com/challenges/game-of-stones-1/problem"
   ]
  },
  {
   "cell_type": "raw",
   "id": "ordinary-receptor",
   "metadata": {},
   "source": [
    "A case of subtraction game with allowed number of subtractions from set [2,3,5].\n",
    "\n",
    "Two players called P1 and  P2 are playing a game with a starting number of stones. Player 1 always plays first, and the two players move in alternating turns. \n",
    "\n",
    "The game's rules are as follows: In a single move, a player can remove either 2, 3, or 5 stones from the game board. If a player is unable to make a move, that player loses the game. Each player plays optimally, meaning they will not make a move that causes them to lose the game if a winning move exists.\n",
    "\n",
    "Given the starting number of stones, find and print the name of the winner. P1 is named First and P2 is named Second. "
   ]
  },
  {
   "cell_type": "raw",
   "id": "developmental-detector",
   "metadata": {},
   "source": [
    "The algorithm is simple: \n",
    "1. terminal positions are 0 and 1, anything smaller than the smallest move. If a player finds herself in it, Previous player wins. \n",
    "2. For range [2,6],square brackets means including 2 and 6, the next player can game so that they win. \n",
    "3. By trying out different ns, there is a clear repeating pattern after 6. e.g. 7 and 8 are P-positions and 9, 10, 11, 12, 13 are in N-. We can use n%7 to keep the big-O constant."
   ]
  },
  {
   "cell_type": "code",
   "execution_count": 1,
   "id": "compact-revision",
   "metadata": {},
   "outputs": [],
   "source": [
    "N=[]\n",
    "P=[]\n",
    "moves=[2,3,5]\n",
    "n=10"
   ]
  },
  {
   "cell_type": "code",
   "execution_count": 2,
   "id": "useful-appliance",
   "metadata": {},
   "outputs": [
    {
     "name": "stdout",
     "output_type": "stream",
     "text": [
      "[0, 1] [2, 3, 5, 4, 6]\n"
     ]
    }
   ],
   "source": [
    "smallest=min(moves)\n",
    "for s in range(smallest):\n",
    "    P.append(s+m)\n",
    "for i in P:\n",
    "    for m in moves:\n",
    "        if i+m not in N:\n",
    "            N.append(i+m)\n",
    "print(P,N)"
   ]
  },
  {
   "cell_type": "code",
   "execution_count": null,
   "id": "precious-manitoba",
   "metadata": {},
   "outputs": [],
   "source": [
    "if n%7 in P:\n",
    "    return 'Second'\n",
    "else: \n",
    "    return 'First'"
   ]
  }
 ],
 "metadata": {
  "kernelspec": {
   "display_name": "Python 3",
   "language": "python",
   "name": "python3"
  },
  "language_info": {
   "codemirror_mode": {
    "name": "ipython",
    "version": 3
   },
   "file_extension": ".py",
   "mimetype": "text/x-python",
   "name": "python",
   "nbconvert_exporter": "python",
   "pygments_lexer": "ipython3",
   "version": "3.7.4"
  }
 },
 "nbformat": 4,
 "nbformat_minor": 5
}
