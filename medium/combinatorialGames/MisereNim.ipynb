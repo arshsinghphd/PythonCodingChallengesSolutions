{
 "cells": [
  {
   "cell_type": "markdown",
   "id": "revised-citation",
   "metadata": {},
   "source": [
    "#### https://www.hackerrank.com/challenges/misere-nim-1/problem"
   ]
  },
  {
   "cell_type": "markdown",
   "id": "careful-factory",
   "metadata": {},
   "source": [
    "##### Two people are playing game of Misère Nim. The basic rules for this game are as follows: \n",
    "##### The game starts with piles of stones indexed from 0 to n. Each pile i has s_i stones. The players move in alternating turns. During each move, the current player must remove one or more stones from a single pile. The player who removes the last stone loses the game. Given the value of and the number of stones in each pile, determine whether the person who wins the game is the first or second person to move. If the first player to move wins, print First on a new line; otherwise, print Second. Assume both players move optimally. "
   ]
  },
  {
   "cell_type": "code",
   "execution_count": 1,
   "id": "bridal-director",
   "metadata": {},
   "outputs": [],
   "source": [
    "n=3\n",
    "s=[3,1,2]"
   ]
  },
  {
   "cell_type": "code",
   "execution_count": 2,
   "id": "focused-uzbekistan",
   "metadata": {},
   "outputs": [],
   "source": [
    "def misereNim(s,n):\n",
    "    \n",
    "    case=2\n",
    "    for i in range(n):\n",
    "        if s[i]>1:\n",
    "            case=1\n",
    "            \n",
    "    xor_sum=0\n",
    "    if case==1:\n",
    "        for i in range(n):\n",
    "             xor_sum^=s[i]\n",
    "        if xor_sum==0:\n",
    "            return 'Second'\n",
    "        else:\n",
    "            return 'First'\n",
    "        \n",
    "    if case==2:\n",
    "        if n%2==1:\n",
    "            return 'Second'\n",
    "        else:\n",
    "            return 'First'\n",
    "            \n",
    "    # if any of s[i]>1        \n",
    "    # xor of all numbers == 0 second wins\n",
    "    # else: first wins\n",
    "    \n",
    "    # elif all of s[i]==1:\n",
    "    # xor of all numbers == 1 OR count is odd, second wins\n",
    "    # else first wins"
   ]
  },
  {
   "cell_type": "code",
   "execution_count": 3,
   "id": "mysterious-freedom",
   "metadata": {},
   "outputs": [
    {
     "name": "stdout",
     "output_type": "stream",
     "text": [
      "Second\n"
     ]
    }
   ],
   "source": [
    "print(misereNim(s,n))"
   ]
  }
 ],
 "metadata": {
  "kernelspec": {
   "display_name": "Python 3",
   "language": "python",
   "name": "python3"
  },
  "language_info": {
   "codemirror_mode": {
    "name": "ipython",
    "version": 3
   },
   "file_extension": ".py",
   "mimetype": "text/x-python",
   "name": "python",
   "nbconvert_exporter": "python",
   "pygments_lexer": "ipython3",
   "version": "3.7.4"
  }
 },
 "nbformat": 4,
 "nbformat_minor": 5
}
