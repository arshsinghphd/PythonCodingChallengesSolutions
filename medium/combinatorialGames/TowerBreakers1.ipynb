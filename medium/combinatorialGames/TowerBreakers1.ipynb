{
 "cells": [
  {
   "cell_type": "markdown",
   "id": "32dd3b0a",
   "metadata": {},
   "source": [
    "https://www.hackerrank.com/challenges/tower-breakers-1/problem"
   ]
  },
  {
   "cell_type": "markdown",
   "id": "b139e2a3",
   "metadata": {},
   "source": [
    "Two players are playing a game of Tower Breakers. \n",
    "\n",
    "Player 1 always moves first, and both players always play optimally.\n",
    "\n",
    "The rules of the game are as follows:\n",
    "\n",
    "1. Initially there are n towers. Each tower is of height m.\n",
    "2. The players move in alternating turns.\n",
    "3. In each turn, a player can choose a tower of height x and reduce its height to y, where 1<= y < x and y evenly divides x.\n",
    "4. If the current player is unable to make a move, they lose the game.\n",
    "\n",
    "Given the values of n and m, determine which player will win. If the first player wins, return 1. Otherwise, return 2.\n",
    "\n",
    "Example:\n",
    "\n",
    "n=2, m=6\n",
    "\n",
    "There are 2 towers, each 6 units tall.\n",
    "\n",
    "Player has a choice of two moves:\n",
    "- remove 3 pieces from a tower to leave 3 as 6%3==0\n",
    "- remove 5 pieces to leave 1.\n",
    "\n",
    "Let Player 1 remove 3. Now the towers are 3 and 6 units tall.\n",
    "\n",
    "Player 2 matches the move. Now the towers are both 3 units tall.\n",
    "\n",
    "Now Player 1 has only one move.\n",
    "\n",
    "Player 1 removes 2 pieces leaving 1. Towers are 1 and 3 units tall.\n",
    "\n",
    "Player 2 matches again. Towers are both 1 unit tall.\n",
    "\n",
    "Player 1 has no move and loses. Return 1.\n"
   ]
  },
  {
   "cell_type": "markdown",
   "id": "6dd1eab1",
   "metadata": {},
   "source": [
    "## Solution Approach\n",
    "\n",
    "First, the game is not deterministic for random moves. It is only deterministic for 'rational' moves.\n",
    "\n",
    "Since it is a two player zero-sum game, it has a definite strategy for each player as well. \n",
    "\n",
    "I will analyze the game with backward induction. \n",
    "\n",
    "Let's make L, a set of losing positions and W are positions that lead to it:\n",
    "\n",
    "start with the ultimate losing position:\n",
    "\n",
    "[1, 1, ... n times] is the first L.\n",
    "\n",
    "**Consider Prime no.s:**\n",
    "\n",
    "[One prime , 1, 1, ... n-1 times] will be W there are n such permutations.\n",
    "\n",
    "[Two primes, 1, 1, ... n-2 times] will be L, there are n X n-1 such permutations.\n",
    "\n",
    "Even count of primes, rest 1 are W positions; and \n",
    "\n",
    "Odd count of primes rest 1 are L positions.\n",
    "\n",
    "**Consider Composites:**\n",
    "\n",
    "Odd count of composites and rest 1 is an W position, mover will win at the end.\n",
    "\n",
    "Even number of composites and rest 1 is a L position, mover will lose at the end.\n",
    "\n",
    "Odd count of composites and rest primes is an W position, mover will win at the end.\n",
    "\n",
    "Even count of composites and rest primes is a L position, mover will lose at the end."
   ]
  },
  {
   "cell_type": "code",
   "execution_count": 93,
   "id": "bbd9827a",
   "metadata": {},
   "outputs": [],
   "source": [
    "def isPrime(a):\n",
    "    prime=True\n",
    "    u=int(n**(1/2))+1\n",
    "    for i in range(1,u,-1): # divisible by any number between a and 1, neither included.\n",
    "        if a%i==0:\n",
    "            prime=False\n",
    "    return prime\n",
    "\n",
    "def isEven(a):\n",
    "    return a%2==0\n",
    "    \n",
    "def towerBreakers(n,m):\n",
    "    if m==1:\n",
    "        return 2\n",
    "    \n",
    "    elif n==1: # m>1 and n==1\n",
    "        return 1\n",
    "    \n",
    "    elif (isEven(n) and isPrime(m)) or (not isEven(n) and not isPrime(m)):\n",
    "        return 2\n",
    "    \n",
    "    else:\n",
    "        return 1"
   ]
  },
  {
   "cell_type": "code",
   "execution_count": 30,
   "id": "05fcb4ad",
   "metadata": {},
   "outputs": [],
   "source": [
    "import csv\n",
    "import os"
   ]
  },
  {
   "cell_type": "code",
   "execution_count": 38,
   "id": "d15fce84",
   "metadata": {},
   "outputs": [
    {
     "name": "stdout",
     "output_type": "stream",
     "text": [
      "C:\\Users\\arsha\\OneDrive\\LearningProgramming\\LearningPython\\Code Practice\\PythonCodingChallengesSolutions\\easy\n"
     ]
    }
   ],
   "source": [
    "dir_path=os.getcwd()\n",
    "print(dir_path)\n",
    "test_path=os.path.join(dir_path, 'TowerBreakers1_testcase.txt')\n",
    "sol_path=os.path.join(dir_path,'TowerBreakers1_sol.txt')"
   ]
  },
  {
   "cell_type": "code",
   "execution_count": 79,
   "id": "37ada6b0",
   "metadata": {},
   "outputs": [],
   "source": [
    "with open(test_path, newline='') as csvfile:\n",
    "    file = csv.reader(csvfile)\n",
    "    in_list=[]\n",
    "    for row in file:\n",
    "        in_list+=(row)\n",
    "with open(sol_path, newline='') as csvfile:\n",
    "    file = csv.reader(csvfile)\n",
    "    sol_list=[]\n",
    "    for row in file:\n",
    "        sol_list.append(int(row[0]))"
   ]
  },
  {
   "cell_type": "code",
   "execution_count": 94,
   "id": "203dd21e",
   "metadata": {},
   "outputs": [
    {
     "name": "stdout",
     "output_type": "stream",
     "text": [
      "True\n"
     ]
    }
   ],
   "source": [
    "q=int(in_list[0])\n",
    "all_cases=True\n",
    "for i in range(q):\n",
    "    n=int(in_list[i+1].split()[0])\n",
    "    m=int(in_list[i+1].split()[1])\n",
    "    case=towerBreakers(n,m)==sol_list[i]\n",
    "    all_cases= all_cases and case\n",
    "    if not case:\n",
    "        print(i,'\\n',in_list[i+1],'\\n',towerBreakers(n,m),'\\n',sol_list[i])\n",
    "print(all_cases)\n"
   ]
  }
 ],
 "metadata": {
  "kernelspec": {
   "display_name": "Python 3 (ipykernel)",
   "language": "python",
   "name": "python3"
  },
  "language_info": {
   "codemirror_mode": {
    "name": "ipython",
    "version": 3
   },
   "file_extension": ".py",
   "mimetype": "text/x-python",
   "name": "python",
   "nbconvert_exporter": "python",
   "pygments_lexer": "ipython3",
   "version": "3.7.4"
  }
 },
 "nbformat": 4,
 "nbformat_minor": 5
}
