{
 "cells": [
  {
   "cell_type": "markdown",
   "id": "324d0dfd",
   "metadata": {},
   "source": [
    "https://www.hackerrank.com/challenges/tower-breakers-revisited-1/problem"
   ]
  },
  {
   "cell_type": "markdown",
   "id": "5bec02f8",
   "metadata": {},
   "source": [
    "In this variation of two person, zero-sum game, we are given an integer n number of towers each with different heights, represented in arr. The code returns the winner.\n",
    "\n",
    "### The Game:\n",
    "\n",
    "Each player can reduce the height of one tower in one move from X to Y where Y exactly divides X. \n",
    "\n",
    "The last person to reach [1,... (n times)], and thus unable to move, loses.\n",
    "\n",
    "\n"
   ]
  },
  {
   "cell_type": "markdown",
   "id": "78730124",
   "metadata": {},
   "source": [
    "Solution Approach as first described in  (url)\n",
    "\n",
    "### Solution Approach\n",
    "\n",
    "First, the game is not deterministic for random moves. It is only deterministic for 'rational' moves.\n",
    "\n",
    "Since it is a two player zero-sum game, it has a definite strategy for each player as well.\n",
    "\n",
    "I will analyze the game with backward induction.\n",
    "\n",
    "Let's make L, a set of losing positions and W are positions that lead to it:\n",
    "\n",
    "start with the ultimate losing position:\n",
    "\n",
    "[1, 1, ... n times] is the first L.\n",
    "\n",
    "**Consider Prime no.s:**\n",
    "\n",
    "[One prime , 1, 1, ... n-1 times] will be a W position, there are n such permutations.\n",
    "\n",
    "[Two primes, 1, 1, ... n-2 times] will be an L position, there are n X n-1 such permutations.\n",
    "\n",
    "Even count of primes and rest 1 are W positions; and\n",
    "\n",
    "Odd count of primes rest 1 are L positions.\n",
    "\n",
    "**Consider Composites:**\n",
    "\n",
    "Odd count of composites and rest 1 is an W position, mover will win at the end.\n",
    "\n",
    "Even number of composites and rest 1 is a L position, mover will lose at the end.\n",
    "\n",
    "Odd count of composites and rest primes is an W position, mover will win at the end.\n",
    "\n",
    "Even count of composites and rest primes is a L position, mover will lose at the end.\n"
   ]
  },
  {
   "cell_type": "code",
   "execution_count": 8,
   "id": "aedf2aa0",
   "metadata": {},
   "outputs": [],
   "source": [
    "def isPrime(a):\n",
    "    prime=True\n",
    "    u=int(a**(1/2))+1\n",
    "    for i in range(2,u+1,1): # divisible by any number between 2 and a**(1/2)+1, both included.\n",
    "        if a%i==0:\n",
    "            prime=False\n",
    "    return prime\n",
    "\n",
    "def isEven(a):\n",
    "    return a%2==0\n",
    "    \n",
    "def towerBreakers2(arr):\n",
    "    arr_g1=[]\n",
    "    for i in arr:\n",
    "        if i > 1:\n",
    "            arr_g1.append(i)\n",
    "    \n",
    "    m=len(arr_g1)        \n",
    "    n=len(arr)\n",
    "    \n",
    "    mp=0 # primes in m\n",
    "    for i in arr_g1:\n",
    "        if isPrime(i):\n",
    "            mp+=1\n",
    "    mc=m-mp # composites in m\n",
    "    \n",
    "    if m==1:\n",
    "        return 1\n",
    "    \n",
    "    # all prime or all composite\n",
    "    elif mp==0 or mc==0:\n",
    "        if isEven(m):\n",
    "            return 2\n",
    "        else:\n",
    "            return 1\n",
    "    # mix of prime and composites\n",
    "    # odd composites, even or odd primes: 1 wins\n",
    "    elif not isEven(mc):\n",
    "        return 1\n",
    "    \n",
    "    # even composites, even primes:\n",
    "    # even composites, odd primes: 2 wins\n",
    "    \n",
    "    \n",
    "    \n",
    "    "
   ]
  },
  {
   "cell_type": "code",
   "execution_count": 15,
   "id": "29e2b2b2",
   "metadata": {
    "scrolled": true
   },
   "outputs": [
    {
     "data": {
      "text/plain": [
       "1"
      ]
     },
     "execution_count": 15,
     "metadata": {},
     "output_type": "execute_result"
    }
   ],
   "source": [
    "towerBreakers2([6,8,4])"
   ]
  }
 ],
 "metadata": {
  "kernelspec": {
   "display_name": "Python 3 (ipykernel)",
   "language": "python",
   "name": "python3"
  },
  "language_info": {
   "codemirror_mode": {
    "name": "ipython",
    "version": 3
   },
   "file_extension": ".py",
   "mimetype": "text/x-python",
   "name": "python",
   "nbconvert_exporter": "python",
   "pygments_lexer": "ipython3",
   "version": "3.7.4"
  }
 },
 "nbformat": 4,
 "nbformat_minor": 5
}
