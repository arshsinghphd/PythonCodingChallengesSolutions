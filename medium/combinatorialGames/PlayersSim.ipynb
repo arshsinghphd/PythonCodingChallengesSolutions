{
 "cells": [
  {
   "cell_type": "markdown",
   "id": "7645d34d",
   "metadata": {},
   "source": [
    "In this code I will create a class game and player that play a game and store it's possible outcomes."
   ]
  },
  {
   "cell_type": "code",
   "execution_count": 1,
   "id": "0c9c7e90",
   "metadata": {},
   "outputs": [],
   "source": [
    "def getFactors(i):\n",
    "    factors=[]\n",
    "    for j in range(1,i,1):\n",
    "        if i%j==0:\n",
    "            factors.append(j)\n",
    "    return factors"
   ]
  },
  {
   "cell_type": "code",
   "execution_count": 19,
   "id": "b0399aa5",
   "metadata": {},
   "outputs": [],
   "source": [
    "class Player:\n",
    "    def __init__(self, name):\n",
    "        self.name=name\n",
    "        \n",
    "    def play(self,game,stage): \n",
    "        arr=stage.array\n",
    "        n=len(stage.array)\n",
    "        test=True\n",
    "        \n",
    "        for h in arr: # test if all h's are 1\n",
    "            test = test and h==1\n",
    "        \n",
    "        if test: # if yes, return False\n",
    "            print('the given array',arr,'is terminal, player has no moves')\n",
    "            return False\n",
    "        \n",
    "        else: # otherwise, make a list of all possible arrays that can be reached. \n",
    "              # If these are not already stages make stages\n",
    "            for i in range(n):\n",
    "                h=arr[i]\n",
    "                if h>1:\n",
    "                    for f in getFactors(h):\n",
    "                        n_a=arr[:i]+(f,)+arr[i+1:]\n",
    "                        \n",
    "                        # if n_a is not in keys of game's stages create a new stage,\n",
    "                        if n_a not in game.stages.keys():\n",
    "                            newStage=Stage(n_a,stage)\n",
    "                        else:\n",
    "                            newStage=game.stages[n_a]\n",
    "                        \n",
    "                        game.addStage(newStage,stage)\n",
    "                        stage.addNext(game.stages[n_a])\n",
    "                        \n",
    "            return stage.next\n",
    "        "
   ]
  },
  {
   "cell_type": "code",
   "execution_count": 3,
   "id": "8743d603",
   "metadata": {},
   "outputs": [],
   "source": [
    "class Stage:\n",
    "    def __init__(self,arr,prev):\n",
    "        self.array=arr\n",
    "        self.prev=[prev]\n",
    "        self.next=[]\n",
    "    def addPrev(self,stage):\n",
    "        self.prev.append(stage)\n",
    "    def addNext(self,stage):\n",
    "        self.next.append(stage)        "
   ]
  },
  {
   "cell_type": "code",
   "execution_count": 22,
   "id": "ddfbc93f",
   "metadata": {},
   "outputs": [],
   "source": [
    "class Game:\n",
    "    def __init__(self,arr,end_arr,n_p=2):\n",
    "        self.start=arr\n",
    "        self.end=end_arr\n",
    "        self.n_players=n_p\n",
    "        self.players=[]\n",
    "        for i in range(1,n_p+1,1):\n",
    "            newPlayer=Player(i)\n",
    "            self.players.append(newPlayer)\n",
    "        self.game_winner=None\n",
    "        init_stage=Stage(arr,None)\n",
    "        self.stages={}\n",
    "        self.stages[arr]=init_stage\n",
    "        \n",
    "    def addStage(self,newStage,prevStage):\n",
    "        if newStage.array in self.stages.keys():\n",
    "            newStage.addPrev(prevStage)\n",
    "        else: \n",
    "            self.stages[newStage.array]=newStage\n",
    "            \n",
    "    def __iter__(self):\n",
    "        return iter(self.stages.values())  \n",
    "    \n",
    "  #  def playGame():\n",
    "        "
   ]
  },
  {
   "cell_type": "code",
   "execution_count": 41,
   "id": "dbc76501",
   "metadata": {
    "scrolled": true
   },
   "outputs": [
    {
     "name": "stdout",
     "output_type": "stream",
     "text": [
      "the given array (1,) is terminal, player has no moves\n",
      "the given array (1,) is terminal, player has no moves\n",
      "the given array (1,) is terminal, player has no moves\n",
      "prev\tcurr\tnext \n",
      "_None_\n",
      "\t (10,)\n",
      "\t\t (1,)\n",
      "\t\t (2,)\n",
      "\t\t (5,)\n",
      "prev\tcurr\tnext \n",
      "(10,)\n",
      "(2,)\n",
      "(5,)\n",
      "\t (1,)\n",
      "prev\tcurr\tnext \n",
      "(10,)\n",
      "\t (2,)\n",
      "\t\t (1,)\n",
      "prev\tcurr\tnext \n",
      "(10,)\n",
      "\t (5,)\n",
      "\t\t (1,)\n"
     ]
    }
   ],
   "source": [
    "tb2=Game((10,),(1,),1)\n",
    "player_1=tb2.players[0]\n",
    "turns=0\n",
    "next_lstage=[tb2.stages[tb2.start]]\n",
    "while turns<100 and len(next_lstage)>0:\n",
    "    curr_lstage=next_lstage\n",
    "    next_lstage=[]\n",
    "    for stage in curr_lstage:\n",
    "        n_s=player_1.play(tb2,stage)\n",
    "        if n_s:\n",
    "            next_lstage+=n_s\n",
    "    turns+=1\n",
    "\n",
    "for stage in tb2:\n",
    "    print('prev\\tcurr\\tnext ')\n",
    "    for s1 in stage.prev:    \n",
    "        if s1:\n",
    "            print(s1.array)\n",
    "        else:\n",
    "            print('_None_')\n",
    "    print('\\t',stage.array)\n",
    "    for s in stage.next:\n",
    "        if s:\n",
    "            print('\\t\\t',s.array)\n",
    "        else:\n",
    "            print('\\t\\t None')\n",
    "        \n",
    "    \n"
   ]
  }
 ],
 "metadata": {
  "kernelspec": {
   "display_name": "Python 3 (ipykernel)",
   "language": "python",
   "name": "python3"
  },
  "language_info": {
   "codemirror_mode": {
    "name": "ipython",
    "version": 3
   },
   "file_extension": ".py",
   "mimetype": "text/x-python",
   "name": "python",
   "nbconvert_exporter": "python",
   "pygments_lexer": "ipython3",
   "version": "3.7.4"
  }
 },
 "nbformat": 4,
 "nbformat_minor": 5
}
