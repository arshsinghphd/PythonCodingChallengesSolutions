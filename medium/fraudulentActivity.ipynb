{
 "cells": [
  {
   "cell_type": "markdown",
   "id": "c8a4ca41",
   "metadata": {},
   "source": [
    "https://www.hackerrank.com/challenges/fraudulent-activity-notifications/problem"
   ]
  },
  {
   "cell_type": "code",
   "execution_count": 1,
   "id": "868f0819",
   "metadata": {},
   "outputs": [],
   "source": [
    "import statistics as stat\n",
    "from bisect import insort_left, bisect_left\n",
    "\n",
    "def activityNotifications(expenditure, d):\n",
    "    n_e=len(expenditure)\n",
    "    noti=0\n",
    "    lag=sorted(expenditure[:d])\n",
    "    for i in range(d,n_e):\n",
    "        if d%2==0: # even d\n",
    "            m=(lag[(d//2)-1]+lag[d//2])/2\n",
    "        else: # odd d\n",
    "            m=lag[d//2]\n",
    "        if expenditure[i]>=2*m: # condition for notification\n",
    "            noti+=1\n",
    "        del lag[bisect_left(lag,expenditure[i-d])]\n",
    "        insort_left(lag,expenditure[i])\n",
    "        assert(len(lag)==d)\n",
    "    return noti\n",
    "\n",
    "def activityNotifications2(expenditure, d):\n",
    "    n_e=len(expenditure)\n",
    "    noti=0\n",
    "    lag=sorted(expenditure[:d])\n",
    "    for i in range(d,n_e):\n",
    "        if d%2==0: # even d\n",
    "            m=(lag[(d//2)-1]+lag[d//2])/2\n",
    "        else: # odd d\n",
    "            m=lag[d//2]\n",
    "        if expenditure[i]>=2*m: # condition for notification\n",
    "            noti+=1\n",
    "        #del lag[bisect_left(lag,expenditure[i-d])]\n",
    "        lag.remove(expenditure[i-d])\n",
    "        insort_left(lag,expenditure[i])\n",
    "        assert(len(lag)==d)\n",
    "    return noti"
   ]
  },
  {
   "cell_type": "code",
   "execution_count": 2,
   "id": "b7e11176",
   "metadata": {},
   "outputs": [],
   "source": [
    "e_in='1 2 3 4 4 8'\n",
    "expenditure=[int(i) for i in e_in.split()]\n",
    "d=2"
   ]
  },
  {
   "cell_type": "raw",
   "id": "d6b89ed4",
   "metadata": {},
   "source": [
    "import random\n",
    "n=random.randint(1,2*10**6)\n",
    "expenditure=list(random.sample(range(n),n))\n",
    "n_e=len(expenditure)\n",
    "d=random.randint(1,n)\n",
    "print(d,n_e)"
   ]
  },
  {
   "cell_type": "code",
   "execution_count": 3,
   "id": "e4c96a3f",
   "metadata": {},
   "outputs": [
    {
     "name": "stdout",
     "output_type": "stream",
     "text": [
      "2\n",
      "1 0.00034679999999998046\n",
      "2\n",
      "2 8.520000000000749e-05\n"
     ]
    }
   ],
   "source": [
    "import time\n",
    "s=time.perf_counter()\n",
    "print(activityNotifications(expenditure, d))\n",
    "e=time.perf_counter()\n",
    "print('1',e-s)\n",
    "s=time.perf_counter()\n",
    "print(activityNotifications2(expenditure, d))\n",
    "e=time.perf_counter()\n",
    "print('2',e-s)\n",
    "# using remove takes 18 or so times more time compared to bisect_left for longer lists"
   ]
  },
  {
   "cell_type": "code",
   "execution_count": null,
   "id": "a1b80949",
   "metadata": {},
   "outputs": [],
   "source": []
  }
 ],
 "metadata": {
  "kernelspec": {
   "display_name": "Python 3 (ipykernel)",
   "language": "python",
   "name": "python3"
  },
  "language_info": {
   "codemirror_mode": {
    "name": "ipython",
    "version": 3
   },
   "file_extension": ".py",
   "mimetype": "text/x-python",
   "name": "python",
   "nbconvert_exporter": "python",
   "pygments_lexer": "ipython3",
   "version": "3.7.4"
  }
 },
 "nbformat": 4,
 "nbformat_minor": 5
}
