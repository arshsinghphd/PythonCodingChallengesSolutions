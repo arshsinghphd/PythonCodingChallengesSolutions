{
 "cells": [
  {
   "cell_type": "markdown",
   "id": "balanced-branch",
   "metadata": {},
   "source": [
    "#### https://www.hackerrank.com/challenges/non-divisible-subset/problem"
   ]
  },
  {
   "cell_type": "code",
   "execution_count": 1,
   "id": "intellectual-incentive",
   "metadata": {},
   "outputs": [],
   "source": [
    "k=3\n",
    "s=[1,2,4,7]"
   ]
  },
  {
   "cell_type": "code",
   "execution_count": 2,
   "id": "atomic-childhood",
   "metadata": {},
   "outputs": [],
   "source": [
    "# k=7\n",
    "# S=[278, 576, 496, 727, 410, 124, 338, 149, 209, 702, 282, 718, 771, 575, 436]"
   ]
  },
  {
   "cell_type": "code",
   "execution_count": 3,
   "id": "b2aea635",
   "metadata": {},
   "outputs": [],
   "source": [
    "def nonDivisibleSubset(k, s):\n",
    "    # Write your code here\n",
    "    cnt = [0] * k\n",
    "    for x in s:\n",
    "        cnt[x % k] += 1\n",
    "        ans = min(cnt[0], 1)\n",
    "    for rem in range(1, (k + 1) // 2):\n",
    "        ans += max(cnt[rem], cnt[k - rem])\n",
    "    if k % 2 == 0:\n",
    "        ans += min(cnt[k // 2], 1)\n",
    "    return ans"
   ]
  },
  {
   "cell_type": "code",
   "execution_count": 4,
   "id": "a58827d0",
   "metadata": {},
   "outputs": [
    {
     "data": {
      "text/plain": [
       "3"
      ]
     },
     "execution_count": 4,
     "metadata": {},
     "output_type": "execute_result"
    }
   ],
   "source": [
    "nonDivisibleSubset(k,s)"
   ]
  }
 ],
 "metadata": {
  "kernelspec": {
   "display_name": "Python 3 (ipykernel)",
   "language": "python",
   "name": "python3"
  },
  "language_info": {
   "codemirror_mode": {
    "name": "ipython",
    "version": 3
   },
   "file_extension": ".py",
   "mimetype": "text/x-python",
   "name": "python",
   "nbconvert_exporter": "python",
   "pygments_lexer": "ipython3",
   "version": "3.7.4"
  }
 },
 "nbformat": 4,
 "nbformat_minor": 5
}
