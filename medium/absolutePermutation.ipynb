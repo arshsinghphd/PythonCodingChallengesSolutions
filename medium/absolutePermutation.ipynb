{
 "cells": [
  {
   "cell_type": "markdown",
   "id": "870a8da6",
   "metadata": {},
   "source": [
    "https://www.hackerrank.com/challenges/absolute-permutation/problem"
   ]
  },
  {
   "cell_type": "code",
   "execution_count": 49,
   "id": "3c93a138",
   "metadata": {},
   "outputs": [],
   "source": [
    "def absolutePermutation(n, k):\n",
    "    l=[i for i in range(1,n+1)]\n",
    "    if k==0:\n",
    "        l1=l\n",
    "    else:\n",
    "        l1=l[k:]+l[:k]\n",
    "    test=[abs(l1[i-1]-i)==k for i in range(1,n+1,1)]\n",
    "    print(l)\n",
    "    print(l1)\n",
    "    print(test)\n",
    "    \n",
    "    if sum(test)==n:\n",
    "        return l1\n",
    "    else:\n",
    "        return -1"
   ]
  },
  {
   "cell_type": "code",
   "execution_count": 70,
   "id": "23617904",
   "metadata": {},
   "outputs": [
    {
     "name": "stdout",
     "output_type": "stream",
     "text": [
      "2 1\n",
      "[1, 2]\n",
      "[2, 1]\n",
      "[True, True]\n"
     ]
    },
    {
     "data": {
      "text/plain": [
       "[2, 1]"
      ]
     },
     "execution_count": 70,
     "metadata": {},
     "output_type": "execute_result"
    }
   ],
   "source": [
    "import random\n",
    "n=random.randint(2,9)\n",
    "k=random.randint(1,int(n/2))\n",
    "print(n,k)\n",
    "absolutePermutation(n,k)"
   ]
  },
  {
   "cell_type": "code",
   "execution_count": null,
   "id": "ec32fc94",
   "metadata": {},
   "outputs": [],
   "source": [
    "\n"
   ]
  }
 ],
 "metadata": {
  "kernelspec": {
   "display_name": "Python 3 (ipykernel)",
   "language": "python",
   "name": "python3"
  },
  "language_info": {
   "codemirror_mode": {
    "name": "ipython",
    "version": 3
   },
   "file_extension": ".py",
   "mimetype": "text/x-python",
   "name": "python",
   "nbconvert_exporter": "python",
   "pygments_lexer": "ipython3",
   "version": "3.7.4"
  }
 },
 "nbformat": 4,
 "nbformat_minor": 5
}
