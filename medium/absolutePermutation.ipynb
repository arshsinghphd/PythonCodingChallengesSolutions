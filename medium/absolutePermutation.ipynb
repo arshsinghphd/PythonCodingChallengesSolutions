{
 "cells": [
  {
   "cell_type": "markdown",
   "id": "5613b1ac",
   "metadata": {},
   "source": [
    "https://www.hackerrank.com/challenges/absolute-permutation/problem"
   ]
  },
  {
   "cell_type": "code",
   "execution_count": 19,
   "id": "e26996ca",
   "metadata": {},
   "outputs": [],
   "source": [
    "def absolutePermutation(n, k):\n",
    "    l=[i for i in range(1,n+1)]\n",
    "    if k==0:\n",
    "        return l\n",
    "    elif n%(2*k)==0:\n",
    "        l1=[]\n",
    "        for i in range(0,n,2*k):\n",
    "                l1+=l[i+k:i+2*k]\n",
    "                l1+=l[i:i+k]\n",
    "        return l1\n",
    "    else:\n",
    "        return [-1]"
   ]
  },
  {
   "cell_type": "code",
   "execution_count": 26,
   "id": "c22d624f",
   "metadata": {},
   "outputs": [
    {
     "data": {
      "text/plain": [
       "[1, 2, 3, 4, 5, 6, 7, 8, 9, 10, 11, 12]"
      ]
     },
     "execution_count": 26,
     "metadata": {},
     "output_type": "execute_result"
    }
   ],
   "source": [
    "'''import random\n",
    "n=random.randint(2,9)\n",
    "k=random.randint(1,int(n/2))\n",
    "print(n,k)\n",
    "'''\n",
    "absolutePermutation(12,0)"
   ]
  },
  {
   "cell_type": "code",
   "execution_count": null,
   "id": "60470005",
   "metadata": {},
   "outputs": [],
   "source": [
    "8, 2\n",
    "3 4 1 2 7 8 5 6\n",
    "\n",
    "10, 1\n",
    "2 1 4 3 6 5 8 7 10 9"
   ]
  }
 ],
 "metadata": {
  "kernelspec": {
   "display_name": "Python 3 (ipykernel)",
   "language": "python",
   "name": "python3"
  },
  "language_info": {
   "codemirror_mode": {
    "name": "ipython",
    "version": 3
   },
   "file_extension": ".py",
   "mimetype": "text/x-python",
   "name": "python",
   "nbconvert_exporter": "python",
   "pygments_lexer": "ipython3",
   "version": "3.7.4"
  }
 },
 "nbformat": 4,
 "nbformat_minor": 5
}
