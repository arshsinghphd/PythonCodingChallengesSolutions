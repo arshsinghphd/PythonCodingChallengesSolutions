{
 "cells": [
  {
   "cell_type": "markdown",
   "id": "reverse-crossing",
   "metadata": {},
   "source": [
    "https://www.hackerrank.com/challenges/magic-square-forming/problem"
   ]
  },
  {
   "cell_type": "code",
   "execution_count": 1,
   "id": "fixed-census",
   "metadata": {},
   "outputs": [],
   "source": [
    "#s=[[4,8,2],[4,5,7],[6,1,6]]\n",
    "s=[[4,9,2],[3,5,7],[8,1,5]]"
   ]
  },
  {
   "cell_type": "code",
   "execution_count": 2,
   "id": "worthy-dimension",
   "metadata": {},
   "outputs": [
    {
     "data": {
      "text/plain": [
       "[4, 9, 2, 3, 5, 7, 8, 1, 5]"
      ]
     },
     "execution_count": 2,
     "metadata": {},
     "output_type": "execute_result"
    }
   ],
   "source": [
    "X=[]\n",
    "X.extend(s[0])\n",
    "X.extend(s[1])\n",
    "X.extend(s[2])\n",
    "X"
   ]
  },
  {
   "cell_type": "code",
   "execution_count": 3,
   "id": "attended-today",
   "metadata": {},
   "outputs": [],
   "source": [
    "from itertools import *\n",
    "Ans=45"
   ]
  },
  {
   "cell_type": "code",
   "execution_count": 4,
   "id": "round-compiler",
   "metadata": {},
   "outputs": [
    {
     "name": "stdout",
     "output_type": "stream",
     "text": [
      "1\n"
     ]
    }
   ],
   "source": [
    "for P in permutations(range(1,10)):\n",
    "    if sum(P[0:3]) == 15 and sum(P[3:6])==15 and sum(P[6:9]) == 15 and sum(P[3:6])==15 and sum(P[0::3])==15 and sum(P[1::3]) and sum(P[2::3])==15 and sum(P[1::3])==15:\n",
    "        Ans = min(Ans, sum(abs(P[i] - X[i]) for i in range(0,9)))\n",
    "print(Ans)"
   ]
  },
  {
   "cell_type": "code",
   "execution_count": 5,
   "id": "cead2e59",
   "metadata": {},
   "outputs": [],
   "source": [
    "def formingMagicSquare(s):\n",
    "    X=[]\n",
    "    X.extend(s[0])\n",
    "    X.extend(s[1])\n",
    "    X.extend(s[2])\n",
    "    Ans=45\n",
    "    for P in permutations(range(1,10)):\n",
    "        if sum(P[0:3]) == 15 and sum(P[3:6]) == 15 and sum(P[0::3]) == 15 and sum(P[1::3]) == 15 and P[0] + P[4] + P[8] == 15 and (P[2] + P[4] + P[6] == 15):\n",
    "            Ans = min(Ans, sum(abs(P[i] - X[i]) for i in range(0,9)))\n",
    "    return Ans"
   ]
  },
  {
   "cell_type": "code",
   "execution_count": 6,
   "id": "d93695d0",
   "metadata": {},
   "outputs": [
    {
     "data": {
      "text/plain": [
       "1"
      ]
     },
     "execution_count": 6,
     "metadata": {},
     "output_type": "execute_result"
    }
   ],
   "source": [
    "formingMagicSquare(s)"
   ]
  }
 ],
 "metadata": {
  "kernelspec": {
   "display_name": "Python 3 (ipykernel)",
   "language": "python",
   "name": "python3"
  },
  "language_info": {
   "codemirror_mode": {
    "name": "ipython",
    "version": 3
   },
   "file_extension": ".py",
   "mimetype": "text/x-python",
   "name": "python",
   "nbconvert_exporter": "python",
   "pygments_lexer": "ipython3",
   "version": "3.7.4"
  }
 },
 "nbformat": 4,
 "nbformat_minor": 5
}
