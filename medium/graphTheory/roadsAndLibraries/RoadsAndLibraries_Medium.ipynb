{
 "cells": [
  {
   "cell_type": "code",
   "execution_count": 1,
   "id": "7f3bc57d",
   "metadata": {},
   "outputs": [],
   "source": [
    "class Vertex:\n",
    "    def __init__(self,key):\n",
    "        self.id = key\n",
    "        self.connectedToN = 0\n",
    "        self.connectedTo = []\n",
    "        self.color='white'\n",
    "        \n",
    "    def addNeighbor(self,nbr):\n",
    "        self.connectedTo.append(nbr)\n",
    "        self.connectedToN+=1\n",
    "    \n",
    "    def getConnections(self):\n",
    "        return self.connectedTo\n",
    "    \n",
    "    def getId(self):\n",
    "        return self.id\n",
    "    \n",
    "    def getColor(self):\n",
    "        return self.color\n",
    "    \n",
    "    def setColor(self,newColor):\n",
    "        self.color=newColor\n",
    "\n",
    "class Graph:\n",
    "    def __init__(self):\n",
    "        self.vertList = {}\n",
    "        self.numVertices = 0\n",
    "        \n",
    "    def addVertex(self,key):\n",
    "        self.numVertices = self.numVertices + 1\n",
    "        newVertex = Vertex(key)\n",
    "        self.vertList[key] = newVertex\n",
    "        return newVertex\n",
    "    \n",
    "    def addEdge(self,f,t):\n",
    "        if f not in self.vertList:\n",
    "            nv = self.addVertex(f)\n",
    "        if t not in self.vertList:\n",
    "            nv = self.addVertex(t)\n",
    "        self.vertList[f].addNeighbor(self.vertList[t])\n",
    "        self.vertList[t].addNeighbor(self.vertList[f])\n",
    "        \n",
    "    def getVertices(self):\n",
    "        return self.vertList.keys()\n",
    "\n",
    "    def __iter__(self):\n",
    "        return iter(self.vertList.values())        \n",
    "\n",
    "def countCircuitCities(v,counter,lead):\n",
    "    if v.getColor()=='white':\n",
    "        lead+='\\t'\n",
    "        v.setColor('grey')\n",
    "        for w in v.getConnections():\n",
    "            if w.getColor()=='white':\n",
    "                counter+=1\n",
    "                #print(lead,w.getId())\n",
    "                v.setColor('grey')\n",
    "                counter=countCircuitCities(w,counter,lead)\n",
    "    return counter    \n",
    "\n",
    "def roadsAndLibraries(n,m,c_lib, c_road,cities):\n",
    "    if m==0 or c_road>c_lib:\n",
    "        return n*c_lib\n",
    "    \n",
    "    if m>0 and c_lib>=c_road:\n",
    "        all_cities=list(range(1,n+1))\n",
    "\n",
    "        g=Graph()\n",
    "\n",
    "        for city in all_cities:\n",
    "            g.addVertex(city)\n",
    "\n",
    "        for road in cities:\n",
    "            a=road[0]\n",
    "            b=road[1]\n",
    "            g.addEdge(a,b)\n",
    "\n",
    "        n_circs=0\n",
    "        r=0\n",
    "        counter=1\n",
    "        for v in g:\n",
    "            #print(v.getId())\n",
    "            lead=''\n",
    "            if v.getColor()=='white':\n",
    "                c=countCircuitCities(v,counter,lead)\n",
    "                n_circs+=(c>0)\n",
    "                r+=(c-1)\n",
    "        #print('n_circs={},r={}'.format(n_circs,r))\n",
    "        return r*c_road+ n_circs*c_lib"
   ]
  },
  {
   "cell_type": "code",
   "execution_count": 2,
   "id": "5635402c",
   "metadata": {},
   "outputs": [
    {
     "name": "stdout",
     "output_type": "stream",
     "text": [
      "['5649516', '8432327200', '5948772399', '1713294016', '7902963560', '7246913654', '5405604', '1739991079', '787818609', '9896100000']\n"
     ]
    }
   ],
   "source": [
    "import os\n",
    "import csv\n",
    "dir_path=os.getcwd()\n",
    "#file_name='Roads_Libraries_Medium_testcase_1.txt'\n",
    "#file_name='Roads_Libraries_Medium_testcase_9.txt'\n",
    "file_name='Roads_Libraries_Medium_testcase_10.txt'\n",
    "file_path=os.path.join(dir_path, file_name)\n",
    "with open(file_path, newline='') as csvfile:\n",
    "    file = csv.reader(csvfile)\n",
    "    in_list=[]\n",
    "    for row in file:\n",
    "        in_list+=row\n",
    "        \n",
    "#sol_name='Roads_Libraries_Medium_testcase_1_sols.txt'\n",
    "#sol_name='Roads_Libraries_Medium_testcase_9_sols.txt'\n",
    "sol_name='Roads_Libraries_Medium_testcase_10_sols.txt'\n",
    "sol_path=os.path.join(dir_path, sol_name)\n",
    "with open(sol_path, newline='') as csvfile:\n",
    "    file = csv.reader(csvfile)\n",
    "    sol_list=[]\n",
    "    for row in file:\n",
    "        sol_list+=row"
   ]
  },
  {
   "cell_type": "code",
   "execution_count": 7,
   "id": "9c151f8b",
   "metadata": {},
   "outputs": [
    {
     "name": "stdout",
     "output_type": "stream",
     "text": [
      "True\n",
      "True\n",
      "True\n",
      "True\n",
      "True\n",
      "True\n",
      "True\n",
      "True\n",
      "True\n",
      "True\n"
     ]
    }
   ],
   "source": [
    "q=int(in_list[0])\n",
    "i=1\n",
    "for j in range(q):\n",
    "    params=list(map(int,in_list[i].rstrip().split()))\n",
    "    #print(params)\n",
    "    n=params[0]\n",
    "    m=params[1]\n",
    "    c_lib=params[2]\n",
    "    c_road=params[3]\n",
    "    cities=[]\n",
    "    for k in range(m):\n",
    "        cities.append(list(map(int,in_list[i+k+1].rstrip().split())))\n",
    "    print(int(roadsAndLibraries(n,m,c_lib, c_road,cities))==int(sol_list[j]))\n",
    "    i+=m+1"
   ]
  },
  {
   "cell_type": "code",
   "execution_count": 4,
   "id": "0b082613",
   "metadata": {},
   "outputs": [],
   "source": [
    "n=5 \n",
    "m=3 \n",
    "c_lib=6 \n",
    "c_road=1\n",
    "cities=[[1,2],[2,3],[3,4]]"
   ]
  },
  {
   "cell_type": "code",
   "execution_count": 5,
   "id": "b41a0ccc",
   "metadata": {},
   "outputs": [
    {
     "data": {
      "text/plain": [
       "15"
      ]
     },
     "execution_count": 5,
     "metadata": {},
     "output_type": "execute_result"
    }
   ],
   "source": [
    "roadsAndLibraries(n,m,c_lib, c_road,cities)"
   ]
  }
 ],
 "metadata": {
  "kernelspec": {
   "display_name": "Python 3 (ipykernel)",
   "language": "python",
   "name": "python3"
  },
  "language_info": {
   "codemirror_mode": {
    "name": "ipython",
    "version": 3
   },
   "file_extension": ".py",
   "mimetype": "text/x-python",
   "name": "python",
   "nbconvert_exporter": "python",
   "pygments_lexer": "ipython3",
   "version": "3.7.4"
  }
 },
 "nbformat": 4,
 "nbformat_minor": 5
}
