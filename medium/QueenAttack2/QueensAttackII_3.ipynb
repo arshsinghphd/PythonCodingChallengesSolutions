{
 "cells": [
  {
   "cell_type": "markdown",
   "id": "nervous-antenna",
   "metadata": {},
   "source": [
    "#### https://www.hackerrank.com/challenges/queens-attack-2/problem"
   ]
  },
  {
   "cell_type": "raw",
   "id": "409cbf0f",
   "metadata": {},
   "source": [
    "''' Input\n",
    "5 3\n",
    "4 3\n",
    "5 5\n",
    "4 2\n",
    "2 3\n",
    "Expect 10\n",
    "'''\n",
    "\n",
    "'''\n",
    "4 0\n",
    "4 4\n",
    "expect 9\n",
    "'''\n",
    "\n",
    "'''\n",
    "1 0\n",
    "1 1\n",
    "expect 0\n",
    "'''"
   ]
  },
  {
   "cell_type": "code",
   "execution_count": 1,
   "id": "concrete-savage",
   "metadata": {},
   "outputs": [],
   "source": [
    "n=4 # grid size\n",
    "k=0 # no. of obstacles\n",
    "\n",
    "r_q=4 # row loc. queen\n",
    "c_q=4 # col. loc. queen\n",
    "# expect 9"
   ]
  },
  {
   "cell_type": "code",
   "execution_count": 2,
   "id": "approved-furniture",
   "metadata": {},
   "outputs": [
    {
     "name": "stdout",
     "output_type": "stream",
     "text": [
      "9\n",
      "True\n",
      "[0, 0, 0, 0, 3, 3, 3, 0]\n"
     ]
    }
   ],
   "source": [
    "# CASE I no obstacles\n",
    "directions=list(8*[0])\n",
    "\n",
    "# find the edges and corners on queens path:\n",
    "# 6 7 8\n",
    "# 5 Q 1\n",
    "# 4 3 2\n",
    "\n",
    "moves=0\n",
    "\n",
    "# EDGE/CORNER ON THE PATH OF QUEEN IN ODD NUMBERED DIRECTIONS ARE EASY:\n",
    "O={\n",
    "    1:[r_q,n], # n-c_q moves\n",
    "    3:[n,c_q], # n-r_q moves\n",
    "    5:[r_q,1], # c_q-1 moves\n",
    "    7:[1,c_q], # r_q-1 moves\n",
    "}\n",
    "\n",
    "if r_q>=c_q:\n",
    "    O[2]=[n,c_q-r_q+n]\n",
    "    O[6]=[r_q-c_q+1,1]\n",
    "else:\n",
    "    O[2]=[r_q-c_q+n,n]\n",
    "    O[6]=[1,c_q-r_q+1]\n",
    "    \n",
    "if r_q+c_q>=n+1:\n",
    "    O[4]: [n,r_q+c_q-n]\n",
    "    O[8]: [r_q+c_q-n,n]\n",
    "else:\n",
    "    O[4]:[r_q+c_q-1,1]\n",
    "    O[8]:[1,r_q+c_q-1]\n",
    "\n",
    "m=list(8*[0])\n",
    "\n",
    "for k in O:\n",
    "    m[k-1]=max(abs(O[k][0]-r_q),abs(O[k][1]-c_q))\n",
    "\n",
    "moves=sum(m)\n",
    "print(moves)\n",
    "print(moves==9)\n",
    "print(m)"
   ]
  },
  {
   "cell_type": "code",
   "execution_count": 3,
   "id": "d4eb3166",
   "metadata": {},
   "outputs": [],
   "source": [
    "n=5 # grid size\n",
    "k=3 # no. of obstacles\n",
    "\n",
    "r_q=4 # row loc. queen\n",
    "c_q=3 # col. loc. queen\n",
    "\n",
    "obstacles=[[5,5],[4,2],[2,3]] # obstacles locations\n",
    "#expect 10"
   ]
  },
  {
   "cell_type": "code",
   "execution_count": 7,
   "id": "01987e98",
   "metadata": {},
   "outputs": [
    {
     "ename": "SyntaxError",
     "evalue": "invalid syntax (1753944950.py, line 65)",
     "output_type": "error",
     "traceback": [
      "\u001b[1;36m  File \u001b[1;32m\"C:\\Users\\arsha\\AppData\\Local\\Temp\\ipykernel_14664\\1753944950.py\"\u001b[1;36m, line \u001b[1;32m65\u001b[0m\n\u001b[1;33m    print(m)\u001b[0m\n\u001b[1;37m        ^\u001b[0m\n\u001b[1;31mSyntaxError\u001b[0m\u001b[1;31m:\u001b[0m invalid syntax\n"
     ]
    }
   ],
   "source": [
    "# EDGE/CORNER ON THE PATH OF QUEEN IN ODD NUMBERED DIRECTIONS ARE EASY:\n",
    "O={\n",
    "    1:[r_q,n], # n-c_q moves\n",
    "    3:[n,c_q], # n-r_q moves\n",
    "    5:[r_q,1], # c_q-1 moves\n",
    "    7:[1,c_q], # r_q-1 moves\n",
    "}\n",
    "\n",
    "if r_q>=c_q:\n",
    "    O[2]=[n,c_q-r_q+n]\n",
    "    O[6]=[r_q-c_q+1,1]\n",
    "else:\n",
    "    O[2]=[r_q-c_q+n,n]\n",
    "    O[6]=[1,c_q-r_q+1]\n",
    "    \n",
    "if r_q+c_q>=n+1:\n",
    "    print('r_q+c_q>=n+1')\n",
    "    O[4]= [n,r_q+c_q-n]\n",
    "    O[8]= [r_q+c_q-n,n]\n",
    "else:\n",
    "    print('r_q+c_q<n+1')\n",
    "    O[4]=[r_q+c_q-1,1]\n",
    "    O[8]=[1,r_q+c_q-1]\n",
    "\n",
    "import collections\n",
    "O = collections.OrderedDict(sorted(O.items()))\n",
    "print(O)        \n",
    "# Check to see if any of the obstacles lie on the paths 1, 3, 5, or 7.\n",
    "# if the rows are same \n",
    "# if the cols are same\n",
    "# Check to see if any of the obstacles lie on the paths 2, 4, 6, or 8.\n",
    "# if ratio of the line between Ob and queen is 1 or -1\n",
    "\n",
    "for ob in obstacles:\n",
    "    r_o=ob[0]\n",
    "    c_o=ob[1]\n",
    "    if r_o==r_q:\n",
    "        if c_o>=c_q:\n",
    "            O[1]=[r_o, c_o]\n",
    "        else:\n",
    "            O[5]=[r_o, c_o]\n",
    "    elif c_o==c_q:\n",
    "        if r_o>=r_q:\n",
    "            O[3]=[r_o, c_o]\n",
    "        else:\n",
    "            O[7]=[r_o, c_o]\n",
    "    elif abs((c_o-c_q)/(r_o-r_q))==1:\n",
    "        if (c_o-c_q)>0 and (r_o-r_q)>0:\n",
    "            O[2]=[r_o,c_o]\n",
    "        elif (c_o-c_q)<0 and (r_o-r_q)>0:\n",
    "            O[4]=[r_o,c_o]\n",
    "        elif (c_o-c_q)<0 and (r_o-r_q)<0:\n",
    "            O[6]=[r_o,c_o]\n",
    "        else: # (c_o-c_q)>0 and (r_o-r_q)<0\n",
    "            O[8]=[r_o,c_o]\n",
    "\n",
    "print(O)\n",
    "m=list(8*[0])\n",
    "print(m)\n",
    "for k in O:\n",
    "    r_o=O[k][0]\n",
    "    c_o=O[k][1]\n",
    "    m[k]=max(abs(r_o-r_q),abs(c_o-c_q)\n",
    "\n",
    "print(m)\n",
    "moves=sum(m)\n",
    "print(moves)\n",
    "print(moves==10)\n",
    "print(m)"
   ]
  }
 ],
 "metadata": {
  "kernelspec": {
   "display_name": "Python 3 (ipykernel)",
   "language": "python",
   "name": "python3"
  },
  "language_info": {
   "codemirror_mode": {
    "name": "ipython",
    "version": 3
   },
   "file_extension": ".py",
   "mimetype": "text/x-python",
   "name": "python",
   "nbconvert_exporter": "python",
   "pygments_lexer": "ipython3",
   "version": "3.7.4"
  }
 },
 "nbformat": 4,
 "nbformat_minor": 5
}
