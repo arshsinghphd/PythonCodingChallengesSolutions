{
 "cells": [
  {
   "cell_type": "markdown",
   "id": "nervous-antenna",
   "metadata": {},
   "source": [
    "#### https://www.hackerrank.com/challenges/queens-attack-2/problem"
   ]
  },
  {
   "cell_type": "markdown",
   "id": "2f2c6467",
   "metadata": {},
   "source": [
    "Queen can move in 8 directions. There are two parts to doing this problem in O[k+8], where k is the length of obstacles:"
   ]
  },
  {
   "cell_type": "raw",
   "id": "b00d8a93",
   "metadata": {},
   "source": [
    " lu  u  ru\n",
    " l  _Q_  r\n",
    " ld  d  rd"
   ]
  },
  {
   "cell_type": "code",
   "execution_count": 1,
   "id": "382edd02",
   "metadata": {},
   "outputs": [],
   "source": [
    "def moveOne(d,n,k,r,c,obstacles,steps): # d is a list of what happens to r and c each step\n",
    "    c+=d[0]\n",
    "    r+=d[1]\n",
    "    steps=steps+1\n",
    "    if ([r,c] in obstacles) or (r>n or r<=0 or c>n or c<=0):\n",
    "        steps=steps-1\n",
    "        #print('steps',steps)\n",
    "        return steps\n",
    "    else:\n",
    "        return moveOne(d,n,k,r,c,obstacles,steps)   \n",
    "\n",
    "def queensAttack(n, r_q, c_q, obstacles): \n",
    "    k=len(obstacles)\n",
    "    D=[[1,0],     # 3'o clock\n",
    "       [1,-1],    # 4:30\n",
    "       [0,-1],    # 6\n",
    "       [-1,-1],   # 7:30\n",
    "       [-1,0],    # 9\n",
    "       [-1,1],    # 10:30\n",
    "       [0,1],     # 12\n",
    "       [1,1]      # 1:30\n",
    "      ]\n",
    "    i=0\n",
    "    steps=0\n",
    "    ans=0\n",
    "    for d in D:\n",
    "        r=r_q\n",
    "        c=c_q\n",
    "        d_moves=moveOne(d,n,k,r,c,obstacles,steps) \n",
    "        #print('Direction {} moves={}'.format(i,d_moves))\n",
    "        ans+=d_moves\n",
    "        i+=1\n",
    "    return ans"
   ]
  },
  {
   "cell_type": "code",
   "execution_count": 2,
   "id": "17b4e2fe",
   "metadata": {},
   "outputs": [],
   "source": [
    "n=5 \n",
    "k=3\n",
    "r_q=4 \n",
    "c_q=3\n",
    "obstacles=[[5,5],[4,2],[2,3]]\n",
    "#expect 10"
   ]
  },
  {
   "cell_type": "code",
   "execution_count": 3,
   "id": "3f88b06b",
   "metadata": {},
   "outputs": [
    {
     "data": {
      "text/plain": [
       "True"
      ]
     },
     "execution_count": 3,
     "metadata": {},
     "output_type": "execute_result"
    }
   ],
   "source": [
    "queensAttack(n,r_q,c_q,obstacles)==10"
   ]
  }
 ],
 "metadata": {
  "kernelspec": {
   "display_name": "Python 3 (ipykernel)",
   "language": "python",
   "name": "python3"
  },
  "language_info": {
   "codemirror_mode": {
    "name": "ipython",
    "version": 3
   },
   "file_extension": ".py",
   "mimetype": "text/x-python",
   "name": "python",
   "nbconvert_exporter": "python",
   "pygments_lexer": "ipython3",
   "version": "3.7.4"
  }
 },
 "nbformat": 4,
 "nbformat_minor": 5
}
