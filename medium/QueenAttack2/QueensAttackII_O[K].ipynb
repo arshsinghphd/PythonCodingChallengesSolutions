{
 "cells": [
  {
   "cell_type": "markdown",
   "id": "nervous-antenna",
   "metadata": {},
   "source": [
    "#### https://www.hackerrank.com/challenges/queens-attack-2/problem"
   ]
  },
  {
   "cell_type": "markdown",
   "id": "febca9d9",
   "metadata": {},
   "source": [
    "Queen can move in 8 directions. There are two parts to doing this problem in O[k+8], where k is the length of obstacles:"
   ]
  },
  {
   "cell_type": "raw",
   "id": "8dd1c722",
   "metadata": {},
   "source": [
    " lu  u  ru\n",
    " l  _Q_  r\n",
    " ld  d  rd"
   ]
  },
  {
   "cell_type": "markdown",
   "id": "69860eba",
   "metadata": {},
   "source": [
    "1. Make a list of obstacles in each direction. These can be obstacles or edge/corner.\n",
    "\n",
    "2. Count the number of moves in each direction.\n",
    "\n",
    "\n",
    "Step 1: Make a list of default points where queen ends up, endpoints:\n",
    "\n",
    "4 directions are easy: [c_q,n],[c_q,1],[1,r_q],[0,r_q]\n",
    "\n",
    "For the other directions: the r and c change by 1, +/- depending on the direction. We will find which of the r or c meets n or 1 first, respective to +/-.\n",
    "\n",
    "Step 2: Go through the list of obstacles to see if:\n",
    "\n",
    "A. row or col of the obstacle is the same as the queen (slope 0 or INF), or\n",
    "\n",
    "B. absolute value of slope of the line joining the queen and obstacle is 1, i.e. abs(r_q - r_o)==abs(c_q - c_o).\n",
    "\n",
    "If that is true we figure out the direction, and call one square before the obstacle as the new endpoint."
   ]
  },
  {
   "cell_type": "markdown",
   "id": "90da3722",
   "metadata": {},
   "source": [
    "STEP 1: Default Endpoints\n",
    "\n",
    "Note, cartesian x, y = col, row\n",
    "\n",
    "direction, obstruction:\n",
    "\n",
    "'u',[c_q,n] # Up\n",
    "\n",
    "'d,[c_q,1] # Down\n",
    "\n",
    "'r',[n,r_q] # Right\n",
    "\n",
    "'l',[1,r_q] # Left\n",
    "\n",
    "'ld': -1,-1\n",
    "\n",
    "    if c_q > r_q:\n",
    "\n",
    "        ends['ld']=[c_q-n+r_q,1]\n",
    "\n",
    "    else:\n",
    "\n",
    "        ends['ld']=[1,r_q-n+c_q]\n",
    "\n",
    "'ru': 1,1\n",
    "\n",
    "    if c_q > r_q:\n",
    "\n",
    "        ends['ru']=[n,r_q+n-c_q]\n",
    "\n",
    "    else:\n",
    "\n",
    "        ends['ru']=[c_q+n-r_q,n]\n",
    "\n",
    "'rd': 1,-1\n",
    "    \n",
    "    if n-c_q>r_q-1:\n",
    "        \n",
    "        ends['rd']=[c_q+r_q-1,1]\n",
    "    \n",
    "    else: # same as  c_q-1>n-r_q\n",
    "        \n",
    "        ends['rd']=[n,r_q-n+c_q]\n",
    "\n",
    "'lu': -1,1\n",
    "\n",
    "    if c_q-1>n-r_q:\n",
    "    \n",
    "        ends['lu']=[c_q-n+r_q,n]\n",
    "\n",
    "    else:\n",
    "    \n",
    "        ends['lu']=[1,r_q+c_q-1]\n",
    "               "
   ]
  },
  {
   "cell_type": "code",
   "execution_count": 1,
   "id": "7fd9aa93",
   "metadata": {},
   "outputs": [],
   "source": [
    "def defaultEndpoints(n,c_q,r_q): # This works!\n",
    "    ends={} \n",
    "    \n",
    "    ends['u']=[c_q,n] # up \n",
    "    ends['d']=[c_q,1] # down\n",
    "    ends['r']=[n,r_q] # right\n",
    "    ends['l']=[1,r_q] # left\n",
    "    \n",
    "    if c_q > r_q: \n",
    "        # -1,-1\n",
    "        ends['ld']=[c_q-r_q+1,1]\n",
    "        # 1,1\n",
    "        ends['ru']=[n,r_q+n-c_q]\n",
    "    else: # r_q>=c_q\n",
    "        # -1,-1\n",
    "        ends['ld']=[1,r_q-c_q+1]\n",
    "        # 1,1\n",
    "        ends['ru']=[c_q+n-r_q,n]\n",
    "    \n",
    "    if (n-c_q)>(r_q-1): \n",
    "        # 1,-1    \n",
    "        ends['rd']=[c_q+r_q-1,1]\n",
    "        # -1,1\n",
    "        ends['lu']=[1,r_q+c_q-1]        \n",
    "    else:\n",
    "        # 1,-1\n",
    "        ends['rd']=[n,r_q-n+c_q]\n",
    "        # -1,1\n",
    "        ends['lu']=[c_q-n+r_q,n]\n",
    "    \n",
    "    return ends"
   ]
  },
  {
   "cell_type": "code",
   "execution_count": 2,
   "id": "aaab9601",
   "metadata": {},
   "outputs": [],
   "source": [
    "def finalEndpoints(n,c_q,r_q,obstacles,ends): # This works\n",
    "    final=ends.copy()\n",
    "    for o in obstacles: # obstacles are given as r,c \n",
    "        c_o=o[1]\n",
    "        r_o=o[0]\n",
    "        if r_o==r_q:\n",
    "            if c_o>=c_q and c_o<=ends['r'][0]:\n",
    "                final['r']=[c_o-1,r_o] # replace right end\n",
    "            elif c_o<=c_q and c_o>=ends['l'][0]:\n",
    "                final['l']=[c_o+1,r_o] # replace left end\n",
    "        elif c_o==c_q:\n",
    "            if r_o>=r_q and r_o<=ends['u'][1]:\n",
    "                final['u']=[c_o,r_o-1] # replace up end\n",
    "            if r_o<=r_q and r_o>=ends['d'][1]:\n",
    "                final['d']=[c_o,r_o+1] # replace down end\n",
    "        elif (abs(c_o-c_q)==abs(r_o-r_q)):\n",
    "            if c_o>=c_q and r_o>=r_q:\n",
    "                if c_o<=final['ru'][0]:\n",
    "                    final['ru']=[c_o-1,r_o-1]\n",
    "            elif c_o>=c_q and r_o<=r_q:\n",
    "                if c_o<=final['rd'][0]:\n",
    "                    final['rd']=[c_o-1,r_o+1]\n",
    "            elif c_o<=c_q and r_o>=r_q:\n",
    "                if c_o>=final['lu'][0]:\n",
    "                    final['lu']=[c_o+1,r_o-1]\n",
    "            elif c_o<=c_q and r_o<=r_q:\n",
    "                if c_o>=final['ld'][0]:\n",
    "                    final['ld']=[c_o+1,r_o+1]\n",
    "    return final"
   ]
  },
  {
   "cell_type": "raw",
   "id": "93033265",
   "metadata": {},
   "source": [
    "# Make your own obstacles\n",
    "\n",
    "import random\n",
    "random.state=42\n",
    "I=10\n",
    "n=random.randint(1,I)\n",
    "c_q=random.randint(1,n)\n",
    "r_q=random.randint(1,n)\n",
    "k=random.randint(1,n*n)\n",
    "obstacles=[]\n",
    "for i in range(k):\n",
    "    c_o=random.randint(1,n)\n",
    "    r_o=random.randint(1,n)\n",
    "    o=[c_o,r_o]\n",
    "    if o!=[c_q,r_q] and (o not in obstacles):\n",
    "        obstacles.append([r_o,c_o])\n",
    "\n",
    "k=len(obstacles)\n",
    "print(n,k,c_q,r_q, obstacles)\n",
    "\n",
    "'''\n",
    "directions={\n",
    "    'u':[0,1],\n",
    "    'd':[0,-1],\n",
    "    'r':[1,0],\n",
    "    'l':[-1,0],\n",
    "    'ld':[-1,-1],\n",
    "    'ru':[1,1],\n",
    "    'rd':[1,-1],\n",
    "    'lu':[-1,1]\n",
    "}\n",
    "'''"
   ]
  },
  {
   "cell_type": "code",
   "execution_count": 3,
   "id": "a7435891",
   "metadata": {},
   "outputs": [],
   "source": [
    "n=5 \n",
    "k=3\n",
    "r_q=4 \n",
    "c_q=3\n",
    "obstacles=[[5,5],[4,2],[2,3]]\n",
    "#expect 10"
   ]
  },
  {
   "cell_type": "code",
   "execution_count": 4,
   "id": "24796539",
   "metadata": {},
   "outputs": [
    {
     "data": {
      "text/plain": [
       "(5, 3, [3, 4])"
      ]
     },
     "execution_count": 4,
     "metadata": {},
     "output_type": "execute_result"
    }
   ],
   "source": [
    "n, k, [c_q, r_q]"
   ]
  },
  {
   "cell_type": "code",
   "execution_count": 5,
   "id": "ba00342b",
   "metadata": {},
   "outputs": [
    {
     "data": {
      "text/plain": [
       "[[5, 5], [4, 2], [2, 3]]"
      ]
     },
     "execution_count": 5,
     "metadata": {},
     "output_type": "execute_result"
    }
   ],
   "source": [
    "obstacles # given as r,c"
   ]
  },
  {
   "cell_type": "code",
   "execution_count": 6,
   "id": "fe607930",
   "metadata": {},
   "outputs": [],
   "source": [
    "def queensAttack(n,k,r_q,c_q,obstacles):\n",
    "    ends=defaultEndpoints(n,c_q,r_q)\n",
    "    final=finalEndpoints(n,c_q,r_q,obstacles,ends)\n",
    "    moves=0\n",
    "    for k in final:\n",
    "        c=final[k][0]\n",
    "        r=final[k][1]\n",
    "        moves+=max(abs(c-c_q), abs(r-r_q))\n",
    "    return moves"
   ]
  },
  {
   "cell_type": "code",
   "execution_count": 7,
   "id": "9449db64",
   "metadata": {},
   "outputs": [
    {
     "data": {
      "text/plain": [
       "True"
      ]
     },
     "execution_count": 7,
     "metadata": {},
     "output_type": "execute_result"
    }
   ],
   "source": [
    "queensAttack(n,k,r_q,c_q,obstacles)==10"
   ]
  }
 ],
 "metadata": {
  "kernelspec": {
   "display_name": "Python 3 (ipykernel)",
   "language": "python",
   "name": "python3"
  },
  "language_info": {
   "codemirror_mode": {
    "name": "ipython",
    "version": 3
   },
   "file_extension": ".py",
   "mimetype": "text/x-python",
   "name": "python",
   "nbconvert_exporter": "python",
   "pygments_lexer": "ipython3",
   "version": "3.7.4"
  }
 },
 "nbformat": 4,
 "nbformat_minor": 5
}
