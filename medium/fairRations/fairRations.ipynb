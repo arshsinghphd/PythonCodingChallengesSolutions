{
 "cells": [
  {
   "cell_type": "markdown",
   "id": "099c36d7",
   "metadata": {},
   "source": [
    "https://www.hackerrank.com/challenges/fair-rations/problem"
   ]
  },
  {
   "cell_type": "markdown",
   "id": "50bb6d08",
   "metadata": {},
   "source": [
    "B is a line of subjects with some bread in their hands. We have to distribute minimum bread loaves. \n",
    "\n",
    "The Rules:\n",
    "1. If we give a loaf to i, also must give to i-1 or i+1\n",
    "2. End with all B[i] even.\n",
    "\n",
    "Return:\n",
    "+ minimum number of bread loaves or NO (for not possible)\n",
    "\n",
    "This can be accomplished easily by collecting the index of odd numbered entries in B\n",
    "+ if these entries are odd: the objective cannot be attained\n",
    "+ if they occur in pairs, the number of loaves can be counted as twice the difference between the indices of the odd numbered entries."
   ]
  },
  {
   "cell_type": "code",
   "execution_count": 1,
   "id": "c6bf0be0",
   "metadata": {},
   "outputs": [],
   "source": [
    "def fairRations(B):\n",
    "    nb=len(B)\n",
    "    O=[]\n",
    "    for i in range(nb):\n",
    "        if B[i]%2==1:\n",
    "            O.append(i)\n",
    "    if len(O)%2==1:\n",
    "        return 'NO'\n",
    "    else:\n",
    "        loaves=0\n",
    "        arr=[O[i:i+2] for i in range(0, len(O), 2)]\n",
    "        for i in arr:\n",
    "            ni=i[1]-i[0]\n",
    "            loaves+=2*ni\n",
    "        return str(loaves)"
   ]
  },
  {
   "cell_type": "code",
   "execution_count": 2,
   "id": "261ceb20",
   "metadata": {},
   "outputs": [
    {
     "data": {
      "text/plain": [
       "'8'"
      ]
     },
     "execution_count": 2,
     "metadata": {},
     "output_type": "execute_result"
    }
   ],
   "source": [
    "B=[2,3,4,5,1,0,1]\n",
    "fairRations(B)"
   ]
  },
  {
   "cell_type": "code",
   "execution_count": 3,
   "id": "ccc908ce",
   "metadata": {},
   "outputs": [
    {
     "name": "stdout",
     "output_type": "stream",
     "text": [
      "correct\n"
     ]
    }
   ],
   "source": [
    "import os\n",
    "dir_path=os.getcwd()\n",
    "file_path=os.path.join(dir_path,'testcase0.txt')\n",
    "sol_path=os.path.join(dir_path,'testcase0_sol.txt')\n",
    "\n",
    "import csv\n",
    "with open(file_path) as file:\n",
    "    csv_file=csv.reader(file)\n",
    "    in_list=[]\n",
    "    for row in csv_file:\n",
    "        in_list.append(row)\n",
    "with open(sol_path) as file:\n",
    "    csv_file=csv.reader(file)\n",
    "    sol_list=[]\n",
    "    for row in csv_file:\n",
    "        sol_list.append(row)\n",
    "n=in_list[0]\n",
    "B_s=in_list[1]\n",
    "B=[int(i) for i in B_s[0].split()]\n",
    "sol=sol_list[0][0]\n",
    "a=fairRations(B)\n",
    "\n",
    "if a!=sol:\n",
    "    print(a)\n",
    "    print(sol)\n",
    "else:\n",
    "    print('correct')"
   ]
  }
 ],
 "metadata": {
  "kernelspec": {
   "display_name": "Python 3 (ipykernel)",
   "language": "python",
   "name": "python3"
  },
  "language_info": {
   "codemirror_mode": {
    "name": "ipython",
    "version": 3
   },
   "file_extension": ".py",
   "mimetype": "text/x-python",
   "name": "python",
   "nbconvert_exporter": "python",
   "pygments_lexer": "ipython3",
   "version": "3.7.4"
  }
 },
 "nbformat": 4,
 "nbformat_minor": 5
}
