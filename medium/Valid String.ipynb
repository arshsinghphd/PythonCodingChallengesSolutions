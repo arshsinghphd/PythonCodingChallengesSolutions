{
 "cells": [
  {
   "cell_type": "markdown",
   "id": "established-calculator",
   "metadata": {},
   "source": [
    "#### https://www.hackerrank.com/challenges/sherlock-and-valid-string/problem"
   ]
  },
  {
   "cell_type": "markdown",
   "id": "tested-ticket",
   "metadata": {},
   "source": [
    "##### Sherlock considers a string to be valid if all characters of the string appear the same number of times. It is also valid if he can remove just character at index in the string, and the remaining characters will occur the same number of times. Given a string , determine if it is valid. If so, return YES, otherwise return NO.\n"
   ]
  },
  {
   "cell_type": "code",
   "execution_count": 1,
   "id": "imperial-retreat",
   "metadata": {},
   "outputs": [],
   "source": [
    "s='ibfdgaeadiaefgbhbdghhhbgdfgeiccbiehhfcggchgghadhdhagfbahhddgghbdehidbibaeaagaeeigffcebfbaieggabcfbiiedcabfihchdfabifahcbhagccbdfifhghcadfiadeeaheeddddiecaicbgigccageicehfdhdgafaddhffadigfhhcaedcedecafeacbdacgfgfeeibgaiffdehigebhhehiaahfidibccdcdagifgaihacihadecgifihbebffebdfbchbgigeccahgihbcbcaggebaaafgfedbfgagfediddghdgbgehhhifhgcedechahidcbchebheihaadbbbiaiccededchdagfhccfdefigfibifabeiaccghcegfbcghaefifbachebaacbhbfgfddeceababbacgffbagidebeadfihaefefegbghgddbbgddeehgfbhafbccidebgehifafgbghafacgfdccgifdcbbbidfifhdaibgigebigaedeaaiadegfefbhacgddhchgcbgcaeaieiegiffchbgbebgbehbbfcebciiagacaiechdigbgbghefcahgbhfibhedaeeiffebdiabcifgccdefabccdghehfibfiifdaicfedagahhdcbhbicdgibgcedieihcichadgchgbdcdagaihebbabhibcihicadgadfcihdheefbhffiageddhgahaidfdhhdbgciiaciegchiiebfbcbhaeagccfhbfhaddagnfieihghfbaggiffbbfbecgaiiidccdceadbbdfgigibgcgchafccdchgifdeieicbaididhfcfdedbhaadedfageigfdehgcdaecaebebebfcieaecfagfdieaefdiedbcadchabhebgehiidfcgahcdhcdhgchhiiheffiifeegcfdgbdeffhgeghdfhbfbifgidcafbfcd'\n",
    "#expect YES\n"
   ]
  },
  {
   "cell_type": "code",
   "execution_count": 2,
   "id": "therapeutic-denver",
   "metadata": {},
   "outputs": [],
   "source": [
    "def isValid(s):\n",
    "    # Make a dictionary of frequency of characters\n",
    "    f_chars={}\n",
    "    for char in s:\n",
    "        if char not in f_chars:\n",
    "            f_chars[char]=1\n",
    "        else:\n",
    "            f_chars[char]+=1\n",
    "    print(f_chars)\n",
    "    \n",
    "    # Find which freq is most common\n",
    "    # Make a dictionary d_f with the values in f_chars as keys\n",
    "    # If all characters in s have same frequency this dictionary has len 1\n",
    "    # If only one character has different frequency d_f has len 2 and 1 as a key\n",
    "    d_f={}\n",
    "    for f in f_chars.values():\n",
    "        if f not in d_f:\n",
    "            d_f[f]=1\n",
    "        else:\n",
    "            d_f[f]+=1\n",
    "    print(d_f, len(d_f))\n",
    "    \n",
    "    answer='NO' #Base cases: \n",
    "                # A) More than two values of d_f, removing one character won't help.\n",
    "                # B) Two or more characters occur as often as each other, but not as others.\n",
    "    \n",
    "    if len(d_f)==1: # Same frequency for all characters\n",
    "        answer='YES'\n",
    "        \n",
    "    elif len(d_f)==2: # Only two values of d_f\n",
    "        for key in d_f:\n",
    "            if d_f[key]==1:\n",
    "                if key==1:  # If the key is 1, that character occurs only once. \n",
    "                            # Removing it will make valid string.\n",
    "                    answer='YES'\n",
    "                else:\n",
    "                    l=[k for k in d_f]\n",
    "                    l.sort()\n",
    "                    print(l)\n",
    "                    if l[1]-l[0]==1: # That character occurs only once more often,\n",
    "                                     # can make it valid by removing one occurence\n",
    "                        answer='YES'\n",
    "    return answer"
   ]
  },
  {
   "cell_type": "code",
   "execution_count": 3,
   "id": "directed-overview",
   "metadata": {},
   "outputs": [
    {
     "name": "stdout",
     "output_type": "stream",
     "text": [
      "{'i': 111, 'b': 111, 'f': 111, 'd': 111, 'g': 111, 'a': 111, 'e': 111, 'h': 111, 'c': 111, 'n': 1}\n",
      "{111: 9, 1: 1} 2\n",
      "YES\n"
     ]
    }
   ],
   "source": [
    "answer=isValid(s)\n",
    "print(answer)"
   ]
  },
  {
   "cell_type": "code",
   "execution_count": null,
   "id": "muslim-decline",
   "metadata": {},
   "outputs": [],
   "source": []
  },
  {
   "cell_type": "code",
   "execution_count": null,
   "id": "direct-dependence",
   "metadata": {},
   "outputs": [],
   "source": []
  }
 ],
 "metadata": {
  "kernelspec": {
   "display_name": "Python 3",
   "language": "python",
   "name": "python3"
  },
  "language_info": {
   "codemirror_mode": {
    "name": "ipython",
    "version": 3
   },
   "file_extension": ".py",
   "mimetype": "text/x-python",
   "name": "python",
   "nbconvert_exporter": "python",
   "pygments_lexer": "ipython3",
   "version": "3.7.4"
  }
 },
 "nbformat": 4,
 "nbformat_minor": 5
}
