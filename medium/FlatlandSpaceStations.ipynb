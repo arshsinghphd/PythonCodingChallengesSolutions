{
 "cells": [
  {
   "cell_type": "markdown",
   "id": "instrumental-thirty",
   "metadata": {},
   "source": [
    "##### https://www.hackerrank.com/challenges/flatland-space-stations/problem"
   ]
  },
  {
   "cell_type": "code",
   "execution_count": 1,
   "id": "driving-champagne",
   "metadata": {},
   "outputs": [],
   "source": [
    "'''import random\n",
    "n=random.randint(10**5)\n",
    "m=random.randint(n)\n",
    "c=[]\n",
    "for i in range(m):\n",
    "    s=random.randint(n)\n",
    "    if s not in c:\n",
    "        c.append(s)\n",
    "m=len(c)\n",
    "'''\n",
    "n=5\n",
    "m=2\n",
    "c=[0,4]\n",
    "# expected answer=2"
   ]
  },
  {
   "cell_type": "markdown",
   "id": "literary-trade",
   "metadata": {},
   "source": [
    "##### O(n) solution:"
   ]
  },
  {
   "cell_type": "code",
   "execution_count": 2,
   "id": "lesser-official",
   "metadata": {},
   "outputs": [
    {
     "data": {
      "text/plain": [
       "2"
      ]
     },
     "execution_count": 2,
     "metadata": {},
     "output_type": "execute_result"
    }
   ],
   "source": [
    "# since it is a linear city, the candidates we need to look at are:\n",
    "# a. city 0 to the first space station\n",
    "# b. mid-points of distance between space stations\n",
    "# c. last space station to the last city\n",
    "# find the max of these\n",
    "\n",
    "c.sort()\n",
    "\n",
    "l_c=[c[0]] # list of candidates for answer, first is city c[0] - 0\n",
    "if m>1:\n",
    "    for i in range(1,m): \n",
    "        q=(c[i]-c[i-1]-1)//2\n",
    "        r=(c[i]-c[i-1]-1)%2\n",
    "        if r==0:\n",
    "            l_c.append(q)\n",
    "        else:\n",
    "            l_c.append(q+1)\n",
    "    l_c.append(n-1-c[m-1]) # last candidate is n-1 - c[m-1]\n",
    "ans=max(l_c)\n",
    "ans"
   ]
  }
 ],
 "metadata": {
  "kernelspec": {
   "display_name": "Python 3 (ipykernel)",
   "language": "python",
   "name": "python3"
  },
  "language_info": {
   "codemirror_mode": {
    "name": "ipython",
    "version": 3
   },
   "file_extension": ".py",
   "mimetype": "text/x-python",
   "name": "python",
   "nbconvert_exporter": "python",
   "pygments_lexer": "ipython3",
   "version": "3.7.4"
  }
 },
 "nbformat": 4,
 "nbformat_minor": 5
}
