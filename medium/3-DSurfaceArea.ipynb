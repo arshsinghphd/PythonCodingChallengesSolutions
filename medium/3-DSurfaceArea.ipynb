{
 "cells": [
  {
   "cell_type": "markdown",
   "id": "9168c95a",
   "metadata": {},
   "source": [
    "https://www.hackerrank.com/challenges/3d-surface-area/problem"
   ]
  },
  {
   "cell_type": "code",
   "execution_count": 1,
   "id": "7a7e7958",
   "metadata": {},
   "outputs": [],
   "source": [
    "class tower:\n",
    "    def __init__(self,k,r,c,h):\n",
    "        self.key=k\n",
    "        self.r=r\n",
    "        self.c=c\n",
    "        self.h=h\n",
    "    def getR(self):\n",
    "        return self.r\n",
    "    def getC(self):\n",
    "        return self.c\n",
    "    def getH(self):\n",
    "        return self.h\n",
    "    \n",
    "def surfaceArea(A):\n",
    "    h=len(A)\n",
    "    w=len(A[0])\n",
    "    board=[]\n",
    "\n",
    "    counter=0\n",
    "    for r in range(h):\n",
    "        for c in range(w):\n",
    "            newTower=tower(counter,r,c,A[r][c])\n",
    "            board.append(newTower)\n",
    "            counter+=1\n",
    "            \n",
    "    d_r={}\n",
    "    for t in board:\n",
    "        if t.r not in d_r:\n",
    "            d_r[t.r]=t.h\n",
    "        else:\n",
    "            if t.h>d_r[t.r]:\n",
    "                d_r[t.r]=t.h\n",
    "    a_r=0\n",
    "    for r in d_r:\n",
    "        a_r+=d_r[r]\n",
    "    print('a_r',a_r)\n",
    "    \n",
    "    d_c={}\n",
    "    for t in board:\n",
    "        if t.c not in d_c:\n",
    "            d_c[t.c]=t.h\n",
    "        else:\n",
    "            if t.h>d_c[t.c]:\n",
    "                d_c[t.c]=t.h\n",
    "    a_c=0\n",
    "    for c in d_c:\n",
    "        a_c+=d_c[c]\n",
    "    print('a_c',a_c)\n",
    "    \n",
    "    a_t=0\n",
    "    for t in board:\n",
    "        if t.h>0:\n",
    "            a_t+=1\n",
    "    print('a_t',a_t)\n",
    "    \n",
    "    ans=(a_t+a_r+a_c)*2\n",
    "    \n",
    "    return ans"
   ]
  },
  {
   "cell_type": "code",
   "execution_count": 2,
   "id": "c0ff98e7",
   "metadata": {},
   "outputs": [
    {
     "name": "stdout",
     "output_type": "stream",
     "text": [
      "a_r 11\n",
      "a_c 9\n",
      "a_t 9\n"
     ]
    },
    {
     "data": {
      "text/plain": [
       "58"
      ]
     },
     "execution_count": 2,
     "metadata": {},
     "output_type": "execute_result"
    }
   ],
   "source": [
    "A=['1 3 4', '2 2 3', '1 2 4']\n",
    "for i in range(len(A)):\n",
    "    A[i]=[int(i) for i in A[i].split()]\n",
    "surfaceArea(A)"
   ]
  },
  {
   "cell_type": "code",
   "execution_count": 3,
   "id": "3285d509",
   "metadata": {},
   "outputs": [
    {
     "name": "stdout",
     "output_type": "stream",
     "text": [
      "a_r 1\n",
      "a_c 1\n",
      "a_t 1\n"
     ]
    },
    {
     "data": {
      "text/plain": [
       "6"
      ]
     },
     "execution_count": 3,
     "metadata": {},
     "output_type": "execute_result"
    }
   ],
   "source": [
    "A=[[1]]\n",
    "surfaceArea(A)"
   ]
  }
 ],
 "metadata": {
  "kernelspec": {
   "display_name": "Python 3 (ipykernel)",
   "language": "python",
   "name": "python3"
  },
  "language_info": {
   "codemirror_mode": {
    "name": "ipython",
    "version": 3
   },
   "file_extension": ".py",
   "mimetype": "text/x-python",
   "name": "python",
   "nbconvert_exporter": "python",
   "pygments_lexer": "ipython3",
   "version": "3.7.4"
  }
 },
 "nbformat": 4,
 "nbformat_minor": 5
}
