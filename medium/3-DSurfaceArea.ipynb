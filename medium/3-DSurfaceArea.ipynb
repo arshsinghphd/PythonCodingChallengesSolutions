{
 "cells": [
  {
   "cell_type": "markdown",
   "id": "b4ad5e89",
   "metadata": {},
   "source": [
    "https://www.hackerrank.com/challenges/3d-surface-area/problem"
   ]
  },
  {
   "cell_type": "code",
   "execution_count": 1,
   "id": "aef1d151",
   "metadata": {},
   "outputs": [],
   "source": [
    "class tower:\n",
    "    def __init__(self,r,c,h,nrows,ncols):\n",
    "        self.key=(r,c)\n",
    "        self.h=h\n",
    "        self.corner=   ((r==0 and (c==0 or c==ncols-1)) or \\\n",
    "                        (r==nrows-1 and (c==0 or c==ncols-1)) \\\n",
    "                       )*1\n",
    "        self.edge=    (self.corner==0 and \\\n",
    "                       (r==0 or r==nrows-1 or c==0 or c==ncols-1)\n",
    "                       )*1\n",
    "    def getR(self):\n",
    "        return self.key[0]\n",
    "    def getC(self):\n",
    "        return self.key[1]\n",
    "    def getH(self):\n",
    "        return self.h\n",
    "    def getKey(self):\n",
    "        return self.key    \n",
    "    def getAdjKeys(self,nrows,ncols):\n",
    "        neighbors=[]\n",
    "        r=self.getR()\n",
    "        c=self.getC()\n",
    "        if r-1>=0:\n",
    "            neighbors.append((r-1,c))\n",
    "        if c-1>=0:\n",
    "            neighbors.append((r,c-1))\n",
    "        if r+1<=nrows-1:\n",
    "            neighbors.append((r+1,c))\n",
    "        if c+1<=ncols-1:\n",
    "            neighbors.append((r,c+1))\n",
    "        return neighbors\n",
    "        \n",
    "def surfaceArea(A):\n",
    "    ncols=len(A[0])\n",
    "    nrows=len(A)\n",
    "    l_b=[((r,c),tower(r,c,A[r][c],nrows,ncols)) for r in range(nrows) for c in range(ncols)]\n",
    "    board=dict(l_b)\n",
    "    a=0\n",
    "    for t in board.values():\n",
    "        if t.getH()>0:\n",
    "            aa=0\n",
    "            r, c, h, corner, edge, adj_keys=t.getR(), t.getC(), t.getH(), t.corner, t.edge, t.getAdjKeys(nrows,ncols)\n",
    "            h_adj=[board[nt].getH() for nt in adj_keys]\n",
    "            n_n=len(h_adj)\n",
    "            h_adj_comp=[(h-adj_h)*(h>adj_h) for adj_h in h_adj] \n",
    "            \n",
    "            aa+=sum(h_adj_comp)\n",
    "            \n",
    "            if corner==1:\n",
    "                aa+=2*h+2\n",
    "                if n_n<2:\n",
    "                    aa+=(2-n_n)*h\n",
    "            elif edge==1:\n",
    "                aa+=h+2\n",
    "                if n_n<3:\n",
    "                    aa+=(3-n_n)*h\n",
    "            else:\n",
    "                aa+=2\n",
    "                if n_n<4:\n",
    "                    aa+=(4-n_n)*h\n",
    "            \n",
    "            #print((r,c),h,n_n,aa,'edge=',edge,'corner=',corner)\n",
    "            a+=aa\n",
    "    return a"
   ]
  },
  {
   "cell_type": "code",
   "execution_count": 2,
   "id": "a0e4e6a8",
   "metadata": {},
   "outputs": [
    {
     "data": {
      "text/plain": [
       "6"
      ]
     },
     "execution_count": 2,
     "metadata": {},
     "output_type": "execute_result"
    }
   ],
   "source": [
    "A=[[1]]\n",
    "surfaceArea(A)"
   ]
  },
  {
   "cell_type": "code",
   "execution_count": 3,
   "id": "7b56a497",
   "metadata": {},
   "outputs": [
    {
     "data": {
      "text/plain": [
       "30"
      ]
     },
     "execution_count": 3,
     "metadata": {},
     "output_type": "execute_result"
    }
   ],
   "source": [
    "A=['1 1 1','1 1 1','1 1 1']\n",
    "for i in range(len(A)):\n",
    "    A[i]=[int(i) for i in A[i].split()]\n",
    "surfaceArea(A)"
   ]
  },
  {
   "cell_type": "code",
   "execution_count": 4,
   "id": "b9431494",
   "metadata": {},
   "outputs": [
    {
     "data": {
      "text/plain": [
       "60"
      ]
     },
     "execution_count": 4,
     "metadata": {},
     "output_type": "execute_result"
    }
   ],
   "source": [
    "A=['1 3 4','2 2 3','1 2 4']\n",
    "for i in range(len(A)):\n",
    "    A[i]=[int(i) for i in A[i].split()]\n",
    "surfaceArea(A)"
   ]
  }
 ],
 "metadata": {
  "kernelspec": {
   "display_name": "Python 3 (ipykernel)",
   "language": "python",
   "name": "python3"
  },
  "language_info": {
   "codemirror_mode": {
    "name": "ipython",
    "version": 3
   },
   "file_extension": ".py",
   "mimetype": "text/x-python",
   "name": "python",
   "nbconvert_exporter": "python",
   "pygments_lexer": "ipython3",
   "version": "3.7.4"
  }
 },
 "nbformat": 4,
 "nbformat_minor": 5
}
