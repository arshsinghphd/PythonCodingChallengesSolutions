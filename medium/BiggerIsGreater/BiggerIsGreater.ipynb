{
 "cells": [
  {
   "cell_type": "markdown",
   "id": "bridal-transmission",
   "metadata": {},
   "source": [
    "##### https://www.hackerrank.com/challenges/bigger-is-greater/problem"
   ]
  },
  {
   "cell_type": "markdown",
   "id": "2064f5bb",
   "metadata": {},
   "source": [
    "## Problem Statement from the HackerRank website:\n",
    "\n",
    "Lexicographical order is often known as alphabetical order when dealing with strings. A string is greater than another string if it comes later in a lexicographically sorted list.\n",
    "\n",
    "Given a word, create a new word by swapping some or all of its characters. This new word must meet two criteria:\n",
    "\n",
    "1. It must be greater than the original word\n",
    "2. It must be the smallest word that meets the first condition\n",
    "\n",
    "Example: w=abcd\n",
    "\n",
    "The next largest word is: abdc\n",
    "\n",
    "Complete the function biggerIsGreater below to create and return the new string meeting the criteria. If it is not possible, return no answer.\n",
    "\n",
    "### Function Description\n",
    "\n",
    "Complete the _biggerIsGreater_ function in the editor below.\n",
    "\n",
    "_**biggerIsGreater**_ has the following parameter(s):\n",
    "\n",
    "String _w_: a word\n",
    "\n",
    "Returns: string, the smallest lexicographically higher string possible or 'no answer'\n",
    "\n",
    "_**Input Format**_\n",
    "\n",
    "The first line of input contains 1<= _T_ <= 10^5, the number of test cases.\n",
    "\n",
    "Each of the next lines contains 1<= len(_w_) <= 100.\n",
    "\n",
    "_w_ will contain only letters in the range ascii[a..z]."
   ]
  },
  {
   "cell_type": "markdown",
   "id": "1db99a1f",
   "metadata": {},
   "source": [
    "# Solution Approach\n",
    "### Brute Force (takes too much time)\n",
    "1. Use itertools permutations to make a list of all possible words.\n",
    "2. Sort this list. \n",
    "3. Find index of the given word. \n",
    "4. Next word is the answer\n",
    "\n",
    "### Use Sorting Logic\n",
    "1. \n"
   ]
  },
  {
   "cell_type": "raw",
   "id": "cfc0bafe",
   "metadata": {},
   "source": [
    "'''\n",
    "'ab'\n",
    "'bb'\n",
    "'hefg'\n",
    "'dhck'\n",
    "'dkhc'\n",
    "\n",
    "**Expected Answer**\n",
    "'ba'\n",
    "'no answer'\n",
    "'hegf'\n",
    "'dhkc'\n",
    "'hcdk'\n",
    "'''"
   ]
  },
  {
   "cell_type": "code",
   "execution_count": 1,
   "id": "3fd4b05b",
   "metadata": {},
   "outputs": [],
   "source": [
    "import itertools\n",
    "def biggerIsGreater(w):\n",
    "    n=len(w)\n",
    "    o_w=tuple(ord(i) for i in w)\n",
    "    test=[i for i in set(itertools.permutations(o_w,n))]\n",
    "    test.sort()\n",
    "    #print(test)\n",
    "    idx=test.index(o_w)\n",
    "    if idx==(len(test)-1) or test[idx+1]==o_w:\n",
    "        return 'no answer'\n",
    "    else:\n",
    "        lans=test[idx+1]\n",
    "    #print(lans)\n",
    "    ans=''\n",
    "    for i in lans:\n",
    "        ans+=chr(i)\n",
    "    #print(ans)\n",
    "    return ans"
   ]
  },
  {
   "cell_type": "code",
   "execution_count": 2,
   "id": "1fd08d1d",
   "metadata": {},
   "outputs": [],
   "source": [
    "import os\n",
    "import csv\n",
    "dir_path=os.getcwd()\n",
    "file_path=os.path.join(dir_path,'BiggerIsGreater_testcase1.txt')\n",
    "sol_path=os.path.join(dir_path,'BiggerIsGreater_testcase1_sol.txt')\n",
    "\n",
    "with open(file_path, newline='') as csvfile:\n",
    "    file = csv.reader(csvfile)\n",
    "    in_list=[]\n",
    "    for row in file:\n",
    "        in_list+=row\n",
    "        \n",
    "with open(sol_path, newline='') as csvfile:\n",
    "    file = csv.reader(csvfile)\n",
    "    sol_list=[]\n",
    "    for row in file:\n",
    "        sol_list+=row"
   ]
  },
  {
   "cell_type": "code",
   "execution_count": null,
   "id": "ace96b17",
   "metadata": {},
   "outputs": [],
   "source": [
    "q=int(in_list[0])\n",
    "test=True\n",
    "for i in range(1):\n",
    "    a=in_list[i+1]\n",
    "    print(a)\n",
    "    b=(biggerIsGreater(a)==sol_list[i])\n",
    "    test = test and b\n",
    "    if not a:\n",
    "        print(i)\n",
    "test"
   ]
  },
  {
   "cell_type": "code",
   "execution_count": null,
   "id": "0031298c",
   "metadata": {},
   "outputs": [],
   "source": [
    "w='ab'\n",
    "print(biggerIsGreater(w)=='ba')"
   ]
  },
  {
   "cell_type": "code",
   "execution_count": null,
   "id": "41a5880a",
   "metadata": {},
   "outputs": [],
   "source": [
    "w='bb'\n",
    "print(biggerIsGreater(w)=='no answer')"
   ]
  },
  {
   "cell_type": "code",
   "execution_count": null,
   "id": "e6439a04",
   "metadata": {},
   "outputs": [],
   "source": [
    "w='dkhc'\n",
    "print(biggerIsGreater(w)=='hcdk')"
   ]
  },
  {
   "cell_type": "code",
   "execution_count": null,
   "id": "b80b6551",
   "metadata": {},
   "outputs": [],
   "source": []
  }
 ],
 "metadata": {
  "kernelspec": {
   "display_name": "Python 3 (ipykernel)",
   "language": "python",
   "name": "python3"
  },
  "language_info": {
   "codemirror_mode": {
    "name": "ipython",
    "version": 3
   },
   "file_extension": ".py",
   "mimetype": "text/x-python",
   "name": "python",
   "nbconvert_exporter": "python",
   "pygments_lexer": "ipython3",
   "version": "3.7.4"
  }
 },
 "nbformat": 4,
 "nbformat_minor": 5
}
