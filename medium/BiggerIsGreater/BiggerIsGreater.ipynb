{
 "cells": [
  {
   "cell_type": "markdown",
   "id": "bridal-transmission",
   "metadata": {},
   "source": [
    "##### https://www.hackerrank.com/challenges/bigger-is-greater/problem"
   ]
  },
  {
   "cell_type": "markdown",
   "id": "2064f5bb",
   "metadata": {},
   "source": [
    "## Problem Statement from the HackerRank website:\n",
    "\n",
    "Lexicographical order is often known as alphabetical order when dealing with strings. A string is greater than another string if it comes later in a lexicographically sorted list.\n",
    "\n",
    "Given a word, create a new word by swapping some or all of its characters. This new word must meet two criteria:\n",
    "\n",
    "1. It must be greater than the original word\n",
    "2. It must be the smallest word that meets the first condition\n",
    "\n",
    "Example: w=abcd\n",
    "\n",
    "The next largest word is: abdc\n",
    "\n",
    "Complete the function biggerIsGreater below to create and return the new string meeting the criteria. If it is not possible, return no answer.\n",
    "\n",
    "### Function Description\n",
    "\n",
    "Complete the _biggerIsGreater_ function in the editor below.\n",
    "\n",
    "_**biggerIsGreater**_ has the following parameter(s):\n",
    "\n",
    "String _w_: a word\n",
    "\n",
    "Returns: string, the smallest lexicographically higher string possible or 'no answer'\n",
    "\n",
    "_**Input Format**_\n",
    "\n",
    "The first line of input contains 1<= _T_ <= 10^5, the number of test cases.\n",
    "\n",
    "Each of the next lines contains 1<= len(_w_) <= 100.\n",
    "\n",
    "_w_ will contain only letters in the range ascii[a..z]."
   ]
  },
  {
   "cell_type": "markdown",
   "id": "1db99a1f",
   "metadata": {},
   "source": [
    "# Solution Approach\n",
    "\n",
    "The sorting is done in the following way:\n",
    "1. Compare two of the neighbors starting from end. \n",
    "2. If these are not in lex order, exchange them.\n",
    "3. The string before is unchanged, the string after is sorted. \n",
    "    \n",
    "example:\n",
    "\n",
    " _w_ is 'abcde'\n",
    "\n",
    "Start with last two chars 'de', these are in lexicographical order. \n",
    "\n",
    "Next in list will be: 'ed'.\n",
    "\n",
    "Next word is: 'abced'.\n",
    "\n",
    "\n",
    "if _w_ is 'ecdba'\n",
    "\n",
    "Start with 'ba', are in reverse order.\n",
    "\n",
    "Compare 'db', in reverse order.\n",
    "\n",
    "Compare 'cd', in lex. order. Exchange these. \n",
    "\n",
    "Next word is: 'edcba'."
   ]
  },
  {
   "cell_type": "raw",
   "id": "cfc0bafe",
   "metadata": {},
   "source": [
    "'''\n",
    "'ab'\n",
    "'bb'\n",
    "'hefg'\n",
    "'dhck'\n",
    "'dkhc'\n",
    "\n",
    "**Expected Answer**\n",
    "'ba'\n",
    "'no answer'\n",
    "'hegf'\n",
    "'dhkc'\n",
    "'hcdk'\n",
    "'''"
   ]
  },
  {
   "cell_type": "code",
   "execution_count": 1,
   "id": "9cb4c966",
   "metadata": {},
   "outputs": [],
   "source": [
    "import itertools"
   ]
  },
  {
   "cell_type": "code",
   "execution_count": 2,
   "id": "18e5b9ba",
   "metadata": {},
   "outputs": [],
   "source": [
    "def biggerIsGreater(w):\n",
    "    n=len(w)\n",
    "    test=[''.join(i) for i in itertools.permutations(w,n)]\n",
    "    test.sort()\n",
    "    idx=test.index(w)\n",
    "    \n",
    "    if idx==len(test)-1:\n",
    "        return 'no answer'\n",
    "    else:\n",
    "        return test[idx+1]"
   ]
  },
  {
   "cell_type": "code",
   "execution_count": 3,
   "id": "7e866a32",
   "metadata": {
    "scrolled": false
   },
   "outputs": [],
   "source": [
    "import os\n",
    "import csv\n",
    "dir_path=os.getcwd()\n",
    "file_path=os.path.join(dir_path,'BiggerIsGreater_testcase3.txt')\n",
    "sol_path=os.path.join(dir_path,'BiggerIsGreater_testcase3_sol.txt')\n",
    "\n",
    "with open(file_path, newline='') as csvfile:\n",
    "    file = csv.reader(csvfile)\n",
    "    in_list=[]\n",
    "    for row in file:\n",
    "        in_list+=row\n",
    "        \n",
    "with open(sol_path, newline='') as csvfile:\n",
    "    file = csv.reader(csvfile)\n",
    "    sol_list=[]\n",
    "    for row in file:\n",
    "        sol_list+=row"
   ]
  },
  {
   "cell_type": "raw",
   "id": "c161f82f",
   "metadata": {},
   "source": [
    "j=0\n",
    "w=in_list[j+1]\n",
    "biggerIsGreater(w)==sol_list[j]"
   ]
  },
  {
   "cell_type": "code",
   "execution_count": 5,
   "id": "7012507b",
   "metadata": {},
   "outputs": [
    {
     "data": {
      "text/plain": [
       "'acb'"
      ]
     },
     "execution_count": 5,
     "metadata": {},
     "output_type": "execute_result"
    }
   ],
   "source": [
    "w='dkh'\n",
    "biggerIsGreater(w)"
   ]
  }
 ],
 "metadata": {
  "kernelspec": {
   "display_name": "Python 3 (ipykernel)",
   "language": "python",
   "name": "python3"
  },
  "language_info": {
   "codemirror_mode": {
    "name": "ipython",
    "version": 3
   },
   "file_extension": ".py",
   "mimetype": "text/x-python",
   "name": "python",
   "nbconvert_exporter": "python",
   "pygments_lexer": "ipython3",
   "version": "3.7.4"
  }
 },
 "nbformat": 4,
 "nbformat_minor": 5
}
