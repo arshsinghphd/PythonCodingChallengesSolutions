{
 "cells": [
  {
   "cell_type": "markdown",
   "id": "bridal-transmission",
   "metadata": {},
   "source": [
    "##### https://www.hackerrank.com/challenges/bigger-is-greater/problem"
   ]
  },
  {
   "cell_type": "markdown",
   "id": "2064f5bb",
   "metadata": {},
   "source": [
    "## Problem Statement from the HackerRank website:\n",
    "\n",
    "Lexicographical order is often known as alphabetical order when dealing with strings. A string is greater than another string if it comes later in a lexicographically sorted list.\n",
    "\n",
    "Given a word, create a new word by swapping some or all of its characters. This new word must meet two criteria:\n",
    "\n",
    "1. It must be greater than the original word\n",
    "2. It must be the smallest word that meets the first condition\n",
    "\n",
    "Example: w=abcd\n",
    "\n",
    "The next largest word is: abdc\n",
    "\n",
    "Complete the function biggerIsGreater below to create and return the new string meeting the criteria. If it is not possible, return no answer.\n",
    "\n",
    "### Function Description\n",
    "\n",
    "Complete the _biggerIsGreater_ function in the editor below.\n",
    "\n",
    "_**biggerIsGreater**_ has the following parameter(s):\n",
    "\n",
    "String _w_: a word\n",
    "\n",
    "Returns: string, the smallest lexicographically higher string possible or 'no answer'\n",
    "\n",
    "_**Input Format**_\n",
    "\n",
    "The first line of input contains 1<= _T_ <= 10^5, the number of test cases.\n",
    "\n",
    "Each of the next lines contains 1<= len(_w_) <= 100.\n",
    "\n",
    "_w_ will contain only letters in the range ascii[a..z]."
   ]
  },
  {
   "cell_type": "markdown",
   "id": "1db99a1f",
   "metadata": {},
   "source": [
    "# Solution Approach\n",
    "### Brute Force \n",
    "#### takes far too much time for long strings\n",
    "1. Use itertools permutations to make a list of all possible words.\n",
    "2. Sort this list. \n",
    "3. Find index of the given word. \n",
    "4. Next word is the answer\n",
    "\n",
    "### Sorting Logic 1 \n",
    "#### faster than brute force, but still exceeds time limit\n",
    "1. Take last substring: -2 upto -n, where n is the length of the string\n",
    "2. Check if in this substring, we can go up the lex order\n",
    "2. a. For this part we will have two nested _for_ loops and the time is exponential.\n",
    "3. if yes, replace the higher lex order to the rest of the substring\n",
    "4. if not try a longer substring. \n",
    "\n",
    "### Sorting Logic 2 - pivot point\n",
    "#### faster than Logic 1 with two _for_ loops\n",
    "1. Find the pivot point: index of the character after which all letters are in reverse lex. order.\n",
    "1. a. This can be achieved by comparing two at a time, only one _for_ loop\n",
    "2. Replace the ch at this index by the next larger in the following substring.\n",
    "3. Sort the rest of the string including the original character at the pivot index."
   ]
  },
  {
   "cell_type": "code",
   "execution_count": 1,
   "id": "ea9b2f1b",
   "metadata": {},
   "outputs": [],
   "source": [
    "def biggerIsGreater(w):\n",
    "    n=len(w)\n",
    "    idx=-1\n",
    "    \n",
    "    for i in range(n-2,-1,-1):\n",
    "        if ord(w[i])<ord(w[i+1]):\n",
    "            idx=i\n",
    "            #print(idx)\n",
    "            break\n",
    "    #print('idx',idx)       \n",
    "    if idx==-1:\n",
    "        return 'no answer'\n",
    "    \n",
    "    lw=[ch for ch in w]\n",
    "    lw=lw[idx+1:]\n",
    "    #print('lw',lw)\n",
    "    ans=w[:idx]\n",
    "    for j in range(len(lw)-1,-1,-1):\n",
    "        if w[idx]<lw[j]:\n",
    "            ans+=lw[j]\n",
    "            #print(ans)\n",
    "            lw.pop(j)\n",
    "            break\n",
    "    #print('ans=',ans)\n",
    "    lw.append(w[idx])\n",
    "    lw.sort()\n",
    "    #print(lw)\n",
    "    for i in lw:\n",
    "        ans+=i\n",
    "    return ans"
   ]
  },
  {
   "cell_type": "code",
   "execution_count": 2,
   "id": "bdbe7eee",
   "metadata": {},
   "outputs": [],
   "source": [
    "import os\n",
    "import csv\n",
    "dir_path=os.getcwd()\n",
    "file_path=os.path.join(dir_path,'BiggerIsGreater_testcase3.txt')\n",
    "sol_path=os.path.join(dir_path,'BiggerIsGreater_testcase3_sol.txt')\n",
    "\n",
    "with open(file_path, newline='') as csvfile:\n",
    "    file = csv.reader(csvfile)\n",
    "    in_list=[]\n",
    "    for row in file:\n",
    "        in_list+=row\n",
    "        \n",
    "with open(sol_path, newline='') as csvfile:\n",
    "    file = csv.reader(csvfile)\n",
    "    sol_list=[]\n",
    "    for row in file:\n",
    "        sol_list+=row"
   ]
  },
  {
   "cell_type": "code",
   "execution_count": 3,
   "id": "ca58b297",
   "metadata": {},
   "outputs": [
    {
     "name": "stdout",
     "output_type": "stream",
     "text": [
      "q \t end-start\n",
      "True\n",
      "100 \t 0.0\n",
      "True\n",
      "1000 \t 0.03125429153442383\n",
      "True\n",
      "10000 \t 0.11589503288269043\n",
      "True\n",
      "100000 \t 1.1314730644226074\n"
     ]
    }
   ],
   "source": [
    "import time\n",
    "Q=int(in_list[0])\n",
    "print('q','\\t', 'end-start')\n",
    "lq=[int(Q/1000),int(Q/100),int(Q/10),Q]\n",
    "for q in lq:\n",
    "    start=time.time()\n",
    "    test=True\n",
    "    for i in range(q):\n",
    "        a=in_list[i+1]\n",
    "        n=len(a)\n",
    "        b=(biggerIsGreater(a)==sol_list[i])\n",
    "        test = test and b\n",
    "        if not b:\n",
    "            print(i)\n",
    "            print(a)\n",
    "            print(biggerIsGreater(a))\n",
    "            print(sol_list[i])\n",
    "    print(test)\n",
    "    end=time.time()\n",
    "    print(q,'\\t', end-start)\n",
    "# seems like it is constant time"
   ]
  },
  {
   "cell_type": "raw",
   "id": "4afd3ba2",
   "metadata": {},
   "source": [
    "'''\n",
    "'ab'\n",
    "'bb'\n",
    "'hefg'\n",
    "'dhck'\n",
    "'dkhc'\n",
    "\n",
    "**Expected Answer**\n",
    "'ba'\n",
    "'no answer'\n",
    "'hegf'\n",
    "'dhkc'\n",
    "'hcdk'\n",
    "'''"
   ]
  },
  {
   "cell_type": "code",
   "execution_count": 4,
   "id": "0031298c",
   "metadata": {},
   "outputs": [
    {
     "data": {
      "text/plain": [
       "True"
      ]
     },
     "execution_count": 4,
     "metadata": {},
     "output_type": "execute_result"
    }
   ],
   "source": [
    "w='ab'\n",
    "biggerIsGreater(w)=='ba'"
   ]
  },
  {
   "cell_type": "code",
   "execution_count": 5,
   "id": "41a5880a",
   "metadata": {},
   "outputs": [
    {
     "name": "stdout",
     "output_type": "stream",
     "text": [
      "True\n"
     ]
    }
   ],
   "source": [
    "w='bb'\n",
    "print(biggerIsGreater(w)=='no answer')"
   ]
  },
  {
   "cell_type": "code",
   "execution_count": 6,
   "id": "e6439a04",
   "metadata": {},
   "outputs": [
    {
     "name": "stdout",
     "output_type": "stream",
     "text": [
      "True\n"
     ]
    }
   ],
   "source": [
    "w='dkhc'\n",
    "print(biggerIsGreater(w)=='hcdk')"
   ]
  },
  {
   "cell_type": "code",
   "execution_count": 7,
   "id": "1750aea8",
   "metadata": {},
   "outputs": [
    {
     "name": "stdout",
     "output_type": "stream",
     "text": [
      "True\n"
     ]
    }
   ],
   "source": [
    "w='abcde'\n",
    "print(biggerIsGreater(w)=='abced')"
   ]
  }
 ],
 "metadata": {
  "kernelspec": {
   "display_name": "Python 3 (ipykernel)",
   "language": "python",
   "name": "python3"
  },
  "language_info": {
   "codemirror_mode": {
    "name": "ipython",
    "version": 3
   },
   "file_extension": ".py",
   "mimetype": "text/x-python",
   "name": "python",
   "nbconvert_exporter": "python",
   "pygments_lexer": "ipython3",
   "version": "3.7.4"
  }
 },
 "nbformat": 4,
 "nbformat_minor": 5
}
