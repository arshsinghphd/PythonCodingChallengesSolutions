{
 "cells": [
  {
   "cell_type": "markdown",
   "id": "7ad5216f",
   "metadata": {},
   "source": [
    "https://www.hackerrank.com/challenges/larrys-array/problem"
   ]
  },
  {
   "cell_type": "markdown",
   "id": "067fa975",
   "metadata": {},
   "source": [
    "Brute force solving to understand the mechanism"
   ]
  },
  {
   "cell_type": "code",
   "execution_count": 1,
   "id": "d96cb9fb",
   "metadata": {},
   "outputs": [],
   "source": [
    "def larrysArrayBF(A):\n",
    "    # brute force solution to understand the mechanism\n",
    "    # times out at length 1000, since iterations become 1 million.\n",
    "    n=len(A)\n",
    "    goal=[i for i in range(1,n+1,1)]\n",
    "    #print(A)\n",
    "    counter=0\n",
    "    lim=n*n\n",
    "    while counter<lim:\n",
    "        for i in range(1,n+1,1):\n",
    "            t=i-1 # index where it should be\n",
    "            while A[t]!=i:\n",
    "                f=A.index(i) #index in A\n",
    "                #print(i,t,f)\n",
    "                if f-1>=0 and f+1<=n-1:\n",
    "                    # move 1 (move the middle digit of the triad)\n",
    "                    A=A[:f-1]+A[f:f+2]+[A[f-1]]+A[f+2:] \n",
    "                    counter+=1\n",
    "                elif f-2>=0:\n",
    "                    # move 2 (move the last digit of the triad)\n",
    "                    A=A[:f-2]+A[f-1:f+1]+[A[f-2]]+A[f+1:] \n",
    "                    counter+=1\n",
    "                else:\n",
    "                    #print('breaking while loop')\n",
    "                    break    \n",
    "                #print(A)\n",
    "                if A==goal:\n",
    "                    return 'YES'\n",
    "    return 'NO'\n",
    "    #return 'cannot be determined with present counter limit of '+str(lim) # met counter limit"
   ]
  },
  {
   "cell_type": "code",
   "execution_count": 15,
   "id": "2207cff5",
   "metadata": {},
   "outputs": [],
   "source": [
    "def larrysArray(A):\n",
    "    # If the difference between t (where a number should be) and i (where it is) is even, \n",
    "    # we can make i move to t using move 2 alone, many times perhaps, in which AB[C] becomes [C]AB over two moves.\n",
    "    # the sequence does not change much other than C reaches where it should be. See example below.\n",
    "    \n",
    "    # If the difference between t (where a number shoukld be) and i (where it is) is odd, \n",
    "    # we will have to use move 1, in which ABC mecomes BCA, at least once. In move 1 the sequence changes,\n",
    "    # in that the two adjoining digits to the left would have exchanged places. See example below.\n",
    "    \n",
    "    # e.g. moving 1 from index 1 to 0 (even)\n",
    "    # 23[1]4 -> 3[1]24 -> [1]234\n",
    "    # vs. moving 1 from index 3 to 0 (odd)\n",
    "    # 234[1] -> 24[1]3 -> 2[1]34 -> [1]324 \n",
    "    # note 234 ends up as 324 (two digits exchanged)\n",
    "    \n",
    "    #so if we can sort A up until the last two digits: removing the digits sorted, leaving behind the unsorted list, \n",
    "    # We will be left with the last two digits. If these are sorted, the whole list is sorted. \n",
    "    # If these are not sorted, the list cannot be sorted using the constrains in which Larry is working.\n",
    "    \n",
    "    goal=[i for i in range(1,len(A)-1,1)] # leave last two digits\n",
    "    print(goal)\n",
    "    for i in goal:\n",
    "        print(i)\n",
    "        print(A)\n",
    "        if A.index(i) % 2: # odd index\n",
    "            A=A.remove(i)\n",
    "            A[0],A[1]=A[1],A[0]\n",
    "        else:\n",
    "            A=A.remove(i)\n",
    "            \n",
    "    if A[0]<A[1]: # two digit list is sorted\n",
    "        return('YES')\n",
    "    else:\n",
    "        return('NO')"
   ]
  },
  {
   "cell_type": "raw",
   "id": "1e2c98e0",
   "metadata": {},
   "source": [
    "import numpy as np\n",
    "for i in range(10):\n",
    "    A=[]\n",
    "    n=int(np.random.choice(range(3,11),1))\n",
    "    A+=[i for i in np.random.choice(range(1,n+1),n,replace=False)]\n",
    "    print(A)\n",
    "    print(larrysArray(A))"
   ]
  },
  {
   "cell_type": "code",
   "execution_count": 16,
   "id": "c02581d4",
   "metadata": {},
   "outputs": [
    {
     "name": "stdout",
     "output_type": "stream",
     "text": [
      "[1, 2, 3, 4]\n",
      "1\n",
      "[1, 6, 5, 2, 4, 3]\n",
      "2\n"
     ]
    },
    {
     "ename": "TypeError",
     "evalue": "object of type 'NoneType' has no len()",
     "output_type": "error",
     "traceback": [
      "\u001b[1;31m---------------------------------------------------------------------------\u001b[0m",
      "\u001b[1;31mTypeError\u001b[0m                                 Traceback (most recent call last)",
      "\u001b[1;32m~\\AppData\\Local\\Temp\\ipykernel_13772\\2267175006.py\u001b[0m in \u001b[0;36m<module>\u001b[1;34m\u001b[0m\n\u001b[0;32m      1\u001b[0m \u001b[1;32mfor\u001b[0m \u001b[0mA\u001b[0m \u001b[1;32min\u001b[0m \u001b[1;33m[\u001b[0m\u001b[1;33m[\u001b[0m\u001b[1;36m1\u001b[0m\u001b[1;33m,\u001b[0m\u001b[1;36m6\u001b[0m\u001b[1;33m,\u001b[0m\u001b[1;36m5\u001b[0m\u001b[1;33m,\u001b[0m\u001b[1;36m2\u001b[0m\u001b[1;33m,\u001b[0m\u001b[1;36m4\u001b[0m\u001b[1;33m,\u001b[0m\u001b[1;36m3\u001b[0m\u001b[1;33m]\u001b[0m\u001b[1;33m,\u001b[0m\u001b[1;33m[\u001b[0m\u001b[1;36m3\u001b[0m\u001b[1;33m,\u001b[0m\u001b[1;36m1\u001b[0m\u001b[1;33m,\u001b[0m\u001b[1;36m2\u001b[0m\u001b[1;33m]\u001b[0m\u001b[1;33m,\u001b[0m\u001b[1;33m[\u001b[0m\u001b[1;36m1\u001b[0m\u001b[1;33m,\u001b[0m\u001b[1;36m2\u001b[0m\u001b[1;33m,\u001b[0m\u001b[1;36m3\u001b[0m\u001b[1;33m,\u001b[0m\u001b[1;36m5\u001b[0m\u001b[1;33m,\u001b[0m\u001b[1;36m4\u001b[0m\u001b[1;33m]\u001b[0m\u001b[1;33m]\u001b[0m\u001b[1;33m:\u001b[0m\u001b[1;33m\u001b[0m\u001b[1;33m\u001b[0m\u001b[0m\n\u001b[1;32m----> 2\u001b[1;33m     \u001b[0mprint\u001b[0m\u001b[1;33m(\u001b[0m\u001b[0mlarrysArray\u001b[0m\u001b[1;33m(\u001b[0m\u001b[0mA\u001b[0m\u001b[1;33m)\u001b[0m\u001b[1;33m)\u001b[0m\u001b[1;33m\u001b[0m\u001b[1;33m\u001b[0m\u001b[0m\n\u001b[0m",
      "\u001b[1;32m~\\AppData\\Local\\Temp\\ipykernel_13772\\3131829429.py\u001b[0m in \u001b[0;36mlarrysArray\u001b[1;34m(A)\u001b[0m\n\u001b[0;32m     22\u001b[0m     \u001b[1;32mfor\u001b[0m \u001b[0mi\u001b[0m \u001b[1;32min\u001b[0m \u001b[0mgoal\u001b[0m\u001b[1;33m:\u001b[0m\u001b[1;33m\u001b[0m\u001b[1;33m\u001b[0m\u001b[0m\n\u001b[0;32m     23\u001b[0m         \u001b[0mprint\u001b[0m\u001b[1;33m(\u001b[0m\u001b[0mi\u001b[0m\u001b[1;33m)\u001b[0m\u001b[1;33m\u001b[0m\u001b[1;33m\u001b[0m\u001b[0m\n\u001b[1;32m---> 24\u001b[1;33m         \u001b[1;32mif\u001b[0m \u001b[0mlen\u001b[0m\u001b[1;33m(\u001b[0m\u001b[0mA\u001b[0m\u001b[1;33m)\u001b[0m\u001b[1;33m>\u001b[0m\u001b[1;36m1\u001b[0m\u001b[1;33m:\u001b[0m\u001b[1;33m\u001b[0m\u001b[1;33m\u001b[0m\u001b[0m\n\u001b[0m\u001b[0;32m     25\u001b[0m             \u001b[0mprint\u001b[0m\u001b[1;33m(\u001b[0m\u001b[0mA\u001b[0m\u001b[1;33m)\u001b[0m\u001b[1;33m\u001b[0m\u001b[1;33m\u001b[0m\u001b[0m\n\u001b[0;32m     26\u001b[0m             \u001b[1;32mif\u001b[0m \u001b[0mA\u001b[0m\u001b[1;33m.\u001b[0m\u001b[0mindex\u001b[0m\u001b[1;33m(\u001b[0m\u001b[0mi\u001b[0m\u001b[1;33m)\u001b[0m \u001b[1;33m%\u001b[0m \u001b[1;36m2\u001b[0m\u001b[1;33m:\u001b[0m \u001b[1;31m# odd index\u001b[0m\u001b[1;33m\u001b[0m\u001b[1;33m\u001b[0m\u001b[0m\n",
      "\u001b[1;31mTypeError\u001b[0m: object of type 'NoneType' has no len()"
     ]
    }
   ],
   "source": [
    "for A in [[1,6,5,2,4,3],[3,1,2],[1,2,3,5,4]]:\n",
    "    print(larrysArray(A))"
   ]
  },
  {
   "cell_type": "raw",
   "id": "dc0e5771",
   "metadata": {},
   "source": [
    "import os\n",
    "import csv\n",
    "\n",
    "dir_path=os.getcwd()\n",
    "file_path=os.path.join(dir_path,'testcase10.txt')\n",
    "sol_path=os.path.join(dir_path,'testcase10_sol.txt')\n",
    "with open(file_path) as afile:\n",
    "    csvfile=csv.reader(afile)\n",
    "    in_list=[]\n",
    "    for row in csvfile:\n",
    "        in_list+=row\n",
    "with open(sol_path) as afile:\n",
    "    csvfile=csv.reader(afile)\n",
    "    sol_list=[]\n",
    "    for row in csvfile:\n",
    "        sol_list+=row"
   ]
  },
  {
   "cell_type": "raw",
   "id": "8a724210",
   "metadata": {},
   "source": [
    "q=int(in_list[0])\n",
    "for i in range(q):\n",
    "    A=[int(i) for i in in_list[i*2+2].split()]\n",
    "    ans=larrysArray(A)\n",
    "    print(ans==sol_list[i])"
   ]
  },
  {
   "cell_type": "code",
   "execution_count": null,
   "id": "cf04b58d",
   "metadata": {},
   "outputs": [],
   "source": [
    "l=[3, 2, 1, 4, 6, 5]\n",
    "s = [i for i in range(1,len(l)+1,1)]\n",
    "print('s=',s)\n",
    "for i in s[:-2]:\n",
    "    if l.index(i) % 2:\n",
    "        print('index of',i,'is odd in',l)\n",
    "        l.remove(i)\n",
    "        print('removed',i,l)\n",
    "        l[0],l[1]=l[1],l[0]\n",
    "        print('switched 0 and 1', l)\n",
    "    else:\n",
    "        print('index of',i,'is even in',l)\n",
    "        l.remove(i)\n",
    "        print( 'removed',i,l)\n",
    "if l[0]<l[1]:\n",
    "    print(True)\n",
    "else:\n",
    "    print(False)"
   ]
  },
  {
   "cell_type": "code",
   "execution_count": 18,
   "id": "e2a4aeb4",
   "metadata": {},
   "outputs": [
    {
     "data": {
      "text/plain": [
       "[2, 3]"
      ]
     },
     "execution_count": 18,
     "metadata": {},
     "output_type": "execute_result"
    }
   ],
   "source": [
    "A=[1,2,3]\n",
    "A.remove(1)\n",
    "A"
   ]
  }
 ],
 "metadata": {
  "kernelspec": {
   "display_name": "Python 3 (ipykernel)",
   "language": "python",
   "name": "python3"
  },
  "language_info": {
   "codemirror_mode": {
    "name": "ipython",
    "version": 3
   },
   "file_extension": ".py",
   "mimetype": "text/x-python",
   "name": "python",
   "nbconvert_exporter": "python",
   "pygments_lexer": "ipython3",
   "version": "3.7.4"
  }
 },
 "nbformat": 4,
 "nbformat_minor": 5
}
