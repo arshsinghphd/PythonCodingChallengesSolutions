{
 "cells": [
  {
   "cell_type": "markdown",
   "id": "7ad5216f",
   "metadata": {},
   "source": [
    "https://www.hackerrank.com/challenges/larrys-array/problem"
   ]
  },
  {
   "cell_type": "markdown",
   "id": "e7044d1d",
   "metadata": {},
   "source": [
    "'74 107 124 65 115 116 118 23 125 62 134 102 123 56 61 108 95 29 21 121 17 127 111 136 117 60 76 63 2 13 100 78 64 31 11 9 30 24 12 43 41 96 40 112 68 26 114 50 69 129 48 88 5 93 122 34 67 89 55 98 126 131 70 86 57 15 25 7 54 46 109 84 91 85 32 113 120 22 42 110 4 101 6 47 33 44 90 20 80 82 38 106 49 73 133 51 135 52 83 28 3 59 99 1 36 105 45 128 103 66 72 119 35 58 8 71 79 104 81 132 92 53 10 37 39 94 18 75 27 87 97 77 14 16 19 130'\n",
    "\n",
    "'NO'"
   ]
  }
 ],
 "metadata": {
  "kernelspec": {
   "display_name": "Python 3 (ipykernel)",
   "language": "python",
   "name": "python3"
  },
  "language_info": {
   "codemirror_mode": {
    "name": "ipython",
    "version": 3
   },
   "file_extension": ".py",
   "mimetype": "text/x-python",
   "name": "python",
   "nbconvert_exporter": "python",
   "pygments_lexer": "ipython3",
   "version": "3.7.4"
  }
 },
 "nbformat": 4,
 "nbformat_minor": 5
}
