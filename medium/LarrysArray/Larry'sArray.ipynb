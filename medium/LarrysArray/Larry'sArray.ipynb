{
 "cells": [
  {
   "cell_type": "markdown",
   "id": "7ad5216f",
   "metadata": {},
   "source": [
    "https://www.hackerrank.com/challenges/larrys-array/problem"
   ]
  },
  {
   "cell_type": "markdown",
   "id": "68553dfe",
   "metadata": {},
   "source": [
    "Brute force solving to understand the mechanism"
   ]
  },
  {
   "cell_type": "code",
   "execution_count": 12,
   "id": "c7281226",
   "metadata": {},
   "outputs": [],
   "source": [
    "def move(A,f):\n",
    "    A=A[:f-2]+A[f-1:f+1]+[A[f-2]]+A[f+1:] \n",
    "    return A\n",
    "\n",
    "def larrysArray(A):\n",
    "    n=len(A)\n",
    "    goal=[i for i in range(1,n+1,1)]\n",
    "    lim=n*2\n",
    "    counter=0\n",
    "    for i in range(1,n+1,1):\n",
    "        t=i-1 # index where it should be\n",
    "        \n",
    "        while A[t]!=i and counter<lim:\n",
    "            f=A.index(i) # index in A\n",
    "            print(i,t,f)\n",
    "            if f-2>=0:\n",
    "                A=move(A,f)\n",
    "                counter+=1\n",
    "                if A==goal:\n",
    "                    return 'YES'\n",
    "            else:\n",
    "                print('breaking')\n",
    "                break\n",
    "    return 'NO'\n",
    "    #return 'cannot be determined with present counter limit of '+str(lim) # met counter limit"
   ]
  },
  {
   "cell_type": "code",
   "execution_count": 13,
   "id": "79200e44",
   "metadata": {},
   "outputs": [
    {
     "name": "stdout",
     "output_type": "stream",
     "text": [
      "4 3 4\n",
      "5 4 2\n",
      "5 4 1\n",
      "breaking\n"
     ]
    },
    {
     "data": {
      "text/plain": [
       "'NO'"
      ]
     },
     "execution_count": 13,
     "metadata": {},
     "output_type": "execute_result"
    }
   ],
   "source": [
    "A=[3,1,2]\n",
    "A=[1,6,5,2,4,3]\n",
    "A=[1,2,3,5,4]\n",
    "larrysArray(A)"
   ]
  },
  {
   "cell_type": "code",
   "execution_count": 7,
   "id": "adb4bec6",
   "metadata": {},
   "outputs": [
    {
     "name": "stdout",
     "output_type": "stream",
     "text": [
      "NO\n",
      "NO\n",
      "NO\n"
     ]
    }
   ],
   "source": [
    "for A in [[1,6,5,2,4,3],[3,1,2],[1,2,3,5,4]]:\n",
    "    print(larrysArray(A))"
   ]
  }
 ],
 "metadata": {
  "kernelspec": {
   "display_name": "Python 3 (ipykernel)",
   "language": "python",
   "name": "python3"
  },
  "language_info": {
   "codemirror_mode": {
    "name": "ipython",
    "version": 3
   },
   "file_extension": ".py",
   "mimetype": "text/x-python",
   "name": "python",
   "nbconvert_exporter": "python",
   "pygments_lexer": "ipython3",
   "version": "3.7.4"
  }
 },
 "nbformat": 4,
 "nbformat_minor": 5
}
