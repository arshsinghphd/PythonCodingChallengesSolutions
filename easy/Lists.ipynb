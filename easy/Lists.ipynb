{
 "cells": [
  {
   "cell_type": "code",
   "execution_count": 18,
   "id": "94c0591e",
   "metadata": {},
   "outputs": [
    {
     "data": {
      "text/plain": [
       "[[1, 48, 75, 30, 44, 6, 10, 44, 8, 9, 87, 75, 21, 2, 67, 12, 7, 66, 3, 5],\n",
       " [5, 3, 66, 7, 12, 67, 2, 21, 75, 87, 9, 8, 44, 10, 6, 44, 30, 75, 48, 1],\n",
       " [1, 2, 3, 5, 6, 7, 8, 9, 10, 12, 21, 30, 44, 44, 48, 66, 67, 75, 75, 87],\n",
       " [1, 3, 5, 6, 7, 8, 9, 10, 12, 21, 30, 44, 44, 48, 66, 67, 75, 75, 87, 2, 5]]"
      ]
     },
     "execution_count": 18,
     "metadata": {},
     "output_type": "execute_result"
    }
   ],
   "source": [
    "import os\n",
    "import csv\n",
    "\n",
    "dir_path=os.getcwd()\n",
    "file_path=os.path.join(dir_path,'Lists_testcase0.txt')\n",
    "sol_path=os.path.join(dir_path,'Lists_testcase0_sol.txt')\n",
    "\n",
    "with open(file_path, newline='') as file:\n",
    "    csvfile=csv.reader(file)\n",
    "    in_list=[]\n",
    "    for row in csvfile:\n",
    "        in_list.append(row)\n",
    "with open(sol_path, newline='\\n') as file:\n",
    "    csvfile=csv.reader(file)\n",
    "    sol_list=[]\n",
    "    for row in csvfile:\n",
    "        row=[int(i) for i in row[0].split()]\n",
    "        sol_list.append(row)\n",
    "sol_list"
   ]
  },
  {
   "cell_type": "code",
   "execution_count": 16,
   "id": "bb29cb4f",
   "metadata": {},
   "outputs": [
    {
     "data": {
      "text/plain": [
       "['29']"
      ]
     },
     "execution_count": 16,
     "metadata": {},
     "output_type": "execute_result"
    }
   ],
   "source": [
    "in_list.pop(0)"
   ]
  },
  {
   "cell_type": "code",
   "execution_count": 19,
   "id": "19003157",
   "metadata": {},
   "outputs": [
    {
     "name": "stdout",
     "output_type": "stream",
     "text": [
      "[1, 48, 44, 8, 44, 2, 75, 7, 87, 21]\n",
      "[21, 87, 7, 75, 2, 44, 8, 44, 48, 1]\n",
      "[1, 2, 7, 8, 21, 44, 44, 48, 75, 87]\n",
      "[1, 7, 8, 21, 44, 44, 48, 75, 87, 2, 5]\n"
     ]
    }
   ],
   "source": [
    "ans=[]\n",
    "for i in range(len(in_list)):    \n",
    "    row=[i for i in in_list[i][0].split()]\n",
    "    \n",
    "    # insert i e: Insert integer at position\n",
    "    if row[0]=='insert':\n",
    "        i=int(row[1])\n",
    "        e=int(row[2])\n",
    "        n=len(ans)\n",
    "        if n==0 or i==n:\n",
    "            ans.append(e)\n",
    "            #print(ans)\n",
    "        elif i==0:\n",
    "            ans=[e]+ans\n",
    "            #print(ans)\n",
    "        elif i<n and n>0:\n",
    "            ans=ans[:i]+[e]+ans[i+1:]\n",
    "            #print(ans)\n",
    "            \n",
    "    # print: Print the list.\n",
    "    elif row[0]=='print':\n",
    "        print(ans)\n",
    "    \n",
    "    # remove e: Delete the first occurrence of integer\n",
    "    elif row[0]=='remove':\n",
    "        e=int(row[1])\n",
    "        ans.remove(e)\n",
    "        \n",
    "    # append e: Insert integer at the end of the list.\n",
    "    elif row[0]=='append':\n",
    "        e=int(row[1])\n",
    "        ans.append(e)\n",
    "        \n",
    "    # sort: Sort the list.\n",
    "    elif row[0]=='sort':\n",
    "        ans.sort()\n",
    "        \n",
    "    # pop: Pop the last element from the list.\n",
    "    elif row[0]=='pop':\n",
    "        ans.pop(-1)\n",
    "        \n",
    "    # reverse: Reverse the list.\n",
    "    elif row[0]=='reverse':\n",
    "        ans.reverse()"
   ]
  },
  {
   "cell_type": "code",
   "execution_count": null,
   "id": "273dc796",
   "metadata": {},
   "outputs": [],
   "source": [
    "ans"
   ]
  }
 ],
 "metadata": {
  "kernelspec": {
   "display_name": "Python 3 (ipykernel)",
   "language": "python",
   "name": "python3"
  },
  "language_info": {
   "codemirror_mode": {
    "name": "ipython",
    "version": 3
   },
   "file_extension": ".py",
   "mimetype": "text/x-python",
   "name": "python",
   "nbconvert_exporter": "python",
   "pygments_lexer": "ipython3",
   "version": "3.7.4"
  }
 },
 "nbformat": 4,
 "nbformat_minor": 5
}
