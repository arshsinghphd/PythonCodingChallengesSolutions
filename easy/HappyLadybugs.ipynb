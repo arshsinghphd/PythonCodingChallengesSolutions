{
 "cells": [
  {
   "cell_type": "markdown",
   "id": "cab2d856",
   "metadata": {},
   "source": [
    "https://www.hackerrank.com/challenges/happy-ladybugs/problem"
   ]
  },
  {
   "cell_type": "code",
   "execution_count": 7,
   "id": "ccb85714",
   "metadata": {},
   "outputs": [],
   "source": [
    "def happyLadybugs(b):\n",
    "    # Write your code here\n",
    "    \n",
    "    n=len(b)\n",
    "    d={} # Dictionary keyed by the characters, stores indices at which they occur \n",
    "    for i in range(n):\n",
    "        l=b[i]\n",
    "        if l not in d:\n",
    "            d[l]=[i]\n",
    "        else:\n",
    "            d[l].append(i)\n",
    "    \n",
    "    # Consider the special case that they are already happy\n",
    "    nothappy=False\n",
    "    for k in d:\n",
    "        l=d[k]\n",
    "        m=len(l)\n",
    "        if m==1: # single character\n",
    "            nothappy=True\n",
    "            break\n",
    "        else: # m>=2\n",
    "            for i in range(1,m):\n",
    "                if l[i]-l[i-1]!=1: # not next to each other\n",
    "                    nothappy=True \n",
    "                    break\n",
    "    \n",
    "    if nothappy:\n",
    "        if '_' in d.keys(): # At least one empty space\n",
    "            for k in d.keys(): \n",
    "                if k!='_': \n",
    "                    if len(d[k])<2: # All chars other than _ should occur at least twice\n",
    "                        return 'NO'\n",
    "            return 'YES'\n",
    "        else: # If no empty space\n",
    "            return 'NO'\n",
    "    else:  # Special case they are already happy\n",
    "        return 'YES'"
   ]
  },
  {
   "cell_type": "code",
   "execution_count": 8,
   "id": "8a330437",
   "metadata": {},
   "outputs": [
    {
     "data": {
      "text/plain": [
       "True"
      ]
     },
     "execution_count": 8,
     "metadata": {},
     "output_type": "execute_result"
    }
   ],
   "source": [
    "b='AABBC'\n",
    "happyLadybugs(b)=='NO'"
   ]
  }
 ],
 "metadata": {
  "kernelspec": {
   "display_name": "Python 3 (ipykernel)",
   "language": "python",
   "name": "python3"
  },
  "language_info": {
   "codemirror_mode": {
    "name": "ipython",
    "version": 3
   },
   "file_extension": ".py",
   "mimetype": "text/x-python",
   "name": "python",
   "nbconvert_exporter": "python",
   "pygments_lexer": "ipython3",
   "version": "3.7.4"
  }
 },
 "nbformat": 4,
 "nbformat_minor": 5
}
