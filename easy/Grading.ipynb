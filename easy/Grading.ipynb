{
 "cells": [
  {
   "cell_type": "code",
   "execution_count": 1,
   "id": "published-hawaii",
   "metadata": {},
   "outputs": [
    {
     "name": "stdout",
     "output_type": "stream",
     "text": [
      "4\n",
      "73\n",
      "67\n",
      "38\n",
      "33\n"
     ]
    }
   ],
   "source": [
    "grades_count = int(input().strip())\n",
    "grades = []\n",
    "for _ in range(grades_count):\n",
    "    grades_item = int(input().strip())\n",
    "    grades.append(grades_item)"
   ]
  },
  {
   "cell_type": "code",
   "execution_count": 2,
   "id": "declared-password",
   "metadata": {},
   "outputs": [
    {
     "data": {
      "text/plain": [
       "'\\n4\\n73\\n67\\n38\\n33\\n'"
      ]
     },
     "execution_count": 2,
     "metadata": {},
     "output_type": "execute_result"
    }
   ],
   "source": [
    "'''\n",
    "4\n",
    "73\n",
    "67\n",
    "38\n",
    "33\n",
    "'''"
   ]
  },
  {
   "cell_type": "code",
   "execution_count": 3,
   "id": "8f3f8856",
   "metadata": {},
   "outputs": [],
   "source": [
    "def gradingStudents(grades):\n",
    "    # Write your code here\n",
    "    ans=[]\n",
    "    for i in range(len(grades)):\n",
    "        d=(5*((grades[i]//5)+1))-grades[i]\n",
    "        if (d<3) and (grades[i]>=38):\n",
    "            ans.append(5*((grades[i]//5)+1))\n",
    "        else:\n",
    "            ans.append(grades[i])\n",
    "    return ans"
   ]
  },
  {
   "cell_type": "code",
   "execution_count": 4,
   "id": "recognized-hypothetical",
   "metadata": {},
   "outputs": [
    {
     "data": {
      "text/plain": [
       "[75, 67, 40, 33]"
      ]
     },
     "execution_count": 4,
     "metadata": {},
     "output_type": "execute_result"
    }
   ],
   "source": [
    "gradingStudents(grades)"
   ]
  }
 ],
 "metadata": {
  "kernelspec": {
   "display_name": "Python 3 (ipykernel)",
   "language": "python",
   "name": "python3"
  },
  "language_info": {
   "codemirror_mode": {
    "name": "ipython",
    "version": 3
   },
   "file_extension": ".py",
   "mimetype": "text/x-python",
   "name": "python",
   "nbconvert_exporter": "python",
   "pygments_lexer": "ipython3",
   "version": "3.7.4"
  }
 },
 "nbformat": 4,
 "nbformat_minor": 5
}
