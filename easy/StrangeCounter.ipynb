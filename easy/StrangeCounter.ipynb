{
 "cells": [
  {
   "cell_type": "markdown",
   "id": "41209116",
   "metadata": {},
   "source": [
    "https://www.hackerrank.com/challenges/strange-code/problem"
   ]
  },
  {
   "cell_type": "code",
   "execution_count": 1,
   "id": "232d88c9",
   "metadata": {},
   "outputs": [],
   "source": [
    "def strangeCounter(t):\n",
    "    T=1\n",
    "    C=3\n",
    "    e=0\n",
    "    while T<=t: # goes one round further than t\n",
    "        e+=1\n",
    "        T+=C\n",
    "        C=3*(2**e)\n",
    "    # go one round back\n",
    "    e=e-1\n",
    "    C=3*(2**e)\n",
    "    T-=C\n",
    "    \n",
    "    # starting at this (T, C) counter and time move in opposite directions:\n",
    "    # t-T=C-ans\n",
    "    ans=C-(t-T)\n",
    "    return ans"
   ]
  },
  {
   "cell_type": "code",
   "execution_count": 2,
   "id": "83f7a4f4",
   "metadata": {},
   "outputs": [
    {
     "data": {
      "text/plain": [
       "6"
      ]
     },
     "execution_count": 2,
     "metadata": {},
     "output_type": "execute_result"
    }
   ],
   "source": [
    "strangeCounter(4)"
   ]
  }
 ],
 "metadata": {
  "kernelspec": {
   "display_name": "Python 3 (ipykernel)",
   "language": "python",
   "name": "python3"
  },
  "language_info": {
   "codemirror_mode": {
    "name": "ipython",
    "version": 3
   },
   "file_extension": ".py",
   "mimetype": "text/x-python",
   "name": "python",
   "nbconvert_exporter": "python",
   "pygments_lexer": "ipython3",
   "version": "3.7.4"
  }
 },
 "nbformat": 4,
 "nbformat_minor": 5
}
