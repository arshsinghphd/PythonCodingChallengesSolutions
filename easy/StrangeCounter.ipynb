{
 "cells": [
  {
   "cell_type": "markdown",
   "id": "b1a649e7",
   "metadata": {},
   "source": [
    "https://www.hackerrank.com/challenges/strange-code/problem"
   ]
  },
  {
   "cell_type": "code",
   "execution_count": 29,
   "id": "f4ff4531",
   "metadata": {},
   "outputs": [],
   "source": [
    "def strangeCounter(t):\n",
    "    T=1\n",
    "    C=3\n",
    "    e=0\n",
    "    while T<t: \n",
    "        e+=1\n",
    "        T+=C\n",
    "        C=3*(2**e)\n",
    "    e=e-1\n",
    "    C=3*(2**e)\n",
    "    T-=C\n",
    "    ans=C-(t-T)\n",
    "    return ans\n",
    "    "
   ]
  },
  {
   "cell_type": "code",
   "execution_count": 30,
   "id": "d8df5087",
   "metadata": {},
   "outputs": [
    {
     "data": {
      "text/plain": [
       "2"
      ]
     },
     "execution_count": 30,
     "metadata": {},
     "output_type": "execute_result"
    }
   ],
   "source": [
    "strangeCounter(20)"
   ]
  }
 ],
 "metadata": {
  "kernelspec": {
   "display_name": "Python 3 (ipykernel)",
   "language": "python",
   "name": "python3"
  },
  "language_info": {
   "codemirror_mode": {
    "name": "ipython",
    "version": 3
   },
   "file_extension": ".py",
   "mimetype": "text/x-python",
   "name": "python",
   "nbconvert_exporter": "python",
   "pygments_lexer": "ipython3",
   "version": "3.7.4"
  }
 },
 "nbformat": 4,
 "nbformat_minor": 5
}
