{
 "cells": [
  {
   "cell_type": "markdown",
   "id": "3bbcf8bf",
   "metadata": {},
   "source": [
    "https://www.hackerrank.com/challenges/cavity-map/problem"
   ]
  },
  {
   "cell_type": "code",
   "execution_count": 3,
   "id": "409a0a89",
   "metadata": {},
   "outputs": [],
   "source": [
    "def cavityMap(grid):\n",
    "    n=len(grid)\n",
    "    int_grid=[]\n",
    "    for i in range(n):\n",
    "        int_grid.append([int(i) for i in grid[i]])\n",
    "    l_idx=[]\n",
    "    for i in range(1,n-1):\n",
    "        for j in range(1,n-1):\n",
    "            a=int_grid[i][j]\n",
    "            if  a>int_grid[i-1][j] and \\\n",
    "                a>int_grid[i+1][j] and \\\n",
    "                a>int_grid[i][j-1] and \\\n",
    "                a>int_grid[i][j+1]:\n",
    "                    s=grid[i][:j]+'X'+grid[i][j+1:]\n",
    "                    grid[i]=s\n",
    "    return grid"
   ]
  },
  {
   "cell_type": "code",
   "execution_count": 4,
   "id": "f9acb706",
   "metadata": {},
   "outputs": [
    {
     "name": "stdout",
     "output_type": "stream",
     "text": [
      "1112\n",
      "1X12\n",
      "18X2\n",
      "1234\n"
     ]
    }
   ],
   "source": [
    "grid = ['1112', '1912', '1892', '1234']\n",
    "answer=cavityMap(grid)\n",
    "print('\\n'.join(answer))"
   ]
  }
 ],
 "metadata": {
  "kernelspec": {
   "display_name": "Python 3 (ipykernel)",
   "language": "python",
   "name": "python3"
  },
  "language_info": {
   "codemirror_mode": {
    "name": "ipython",
    "version": 3
   },
   "file_extension": ".py",
   "mimetype": "text/x-python",
   "name": "python",
   "nbconvert_exporter": "python",
   "pygments_lexer": "ipython3",
   "version": "3.7.4"
  }
 },
 "nbformat": 4,
 "nbformat_minor": 5
}
