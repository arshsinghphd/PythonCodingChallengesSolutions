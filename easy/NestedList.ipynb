{
 "cells": [
  {
   "cell_type": "markdown",
   "id": "957ffd40",
   "metadata": {},
   "source": [
    "https://www.hackerrank.com/challenges/nested-list/problem"
   ]
  },
  {
   "cell_type": "code",
   "execution_count": 1,
   "id": "44ce3c77",
   "metadata": {},
   "outputs": [],
   "source": [
    "records=[['Harry',37.21],['Berry',37.21],['Tina',37.2],['Akriti',41],['Harsh',39]]"
   ]
  },
  {
   "cell_type": "markdown",
   "id": "0b4e719e",
   "metadata": {},
   "source": [
    "Print the name(s) of any student(s) having [sic] the second lowest grade. If there are multiple students, order their names alphabetically and print each one on a new line."
   ]
  },
  {
   "cell_type": "code",
   "execution_count": 4,
   "id": "8728fee9",
   "metadata": {},
   "outputs": [],
   "source": [
    "d={}\n",
    "for i in records:\n",
    "    d[i[0]]=i[1]"
   ]
  },
  {
   "cell_type": "code",
   "execution_count": 9,
   "id": "f6a355d5",
   "metadata": {},
   "outputs": [
    {
     "name": "stdout",
     "output_type": "stream",
     "text": [
      "Berry\n",
      "Harry\n"
     ]
    }
   ],
   "source": [
    "set_v=set(d.values())\n",
    "l_set_v=[i for i in set_v]\n",
    "l_set_v.sort()\n",
    "l_set_v\n",
    "ans_v=l_set_v[1]\n",
    "if ans_v:\n",
    "    l_ans=[]\n",
    "    for k in d.keys():\n",
    "        if d[k]==ans_v:\n",
    "            l_ans.append(k)\n",
    "    l_ans.sort()\n",
    "    for k in l_ans:\n",
    "        print(k)"
   ]
  }
 ],
 "metadata": {
  "kernelspec": {
   "display_name": "Python 3 (ipykernel)",
   "language": "python",
   "name": "python3"
  },
  "language_info": {
   "codemirror_mode": {
    "name": "ipython",
    "version": 3
   },
   "file_extension": ".py",
   "mimetype": "text/x-python",
   "name": "python",
   "nbconvert_exporter": "python",
   "pygments_lexer": "ipython3",
   "version": "3.7.4"
  }
 },
 "nbformat": 4,
 "nbformat_minor": 5
}
