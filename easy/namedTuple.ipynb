{
 "cells": [
  {
   "cell_type": "code",
   "execution_count": 1,
   "id": "ee057b4b",
   "metadata": {},
   "outputs": [
    {
     "name": "stdout",
     "output_type": "stream",
     "text": [
      "2\n",
      "MARKS\n",
      "MARKS A B C\n",
      "40 \n",
      "45\n",
      "42.5\n"
     ]
    }
   ],
   "source": [
    "from collections import namedtuple\n",
    "n=int(input().strip())\n",
    "p=input()\n",
    "if len(p.split())<4:\n",
    "    for i in range(4-len(p.split())):\n",
    "        A=ord('A')+i\n",
    "        p+=' '+chr(A)\n",
    "print(p)\n",
    "student=namedtuple('student',p)\n",
    "tm=0\n",
    "for i in range(n):\n",
    "    si=input().strip().split()\n",
    "    if len(si)<4:\n",
    "        for i in range(4-len(si)):\n",
    "            si.append('')\n",
    "    s=student(si[0],si[1],si[2],si[3])\n",
    "    tm+=int(s.MARKS)\n",
    "print(round(tm/n,2))"
   ]
  }
 ],
 "metadata": {
  "kernelspec": {
   "display_name": "Python 3 (ipykernel)",
   "language": "python",
   "name": "python3"
  },
  "language_info": {
   "codemirror_mode": {
    "name": "ipython",
    "version": 3
   },
   "file_extension": ".py",
   "mimetype": "text/x-python",
   "name": "python",
   "nbconvert_exporter": "python",
   "pygments_lexer": "ipython3",
   "version": "3.7.4"
  }
 },
 "nbformat": 4,
 "nbformat_minor": 5
}
