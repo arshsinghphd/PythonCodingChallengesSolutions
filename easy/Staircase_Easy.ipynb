{
 "cells": [
  {
   "cell_type": "markdown",
   "id": "011b73bd",
   "metadata": {},
   "source": [
    "https://www.hackerrank.com/challenges/staircase/problem?isFullScreen=true"
   ]
  },
  {
   "cell_type": "code",
   "execution_count": 2,
   "id": "bbb002ec",
   "metadata": {},
   "outputs": [],
   "source": [
    "n=6"
   ]
  },
  {
   "cell_type": "code",
   "execution_count": 25,
   "id": "20ce13a5",
   "metadata": {},
   "outputs": [
    {
     "name": "stdout",
     "output_type": "stream",
     "text": [
      "      \n",
      "     #\n",
      "    ##\n",
      "   ###\n",
      "  ####\n",
      " #####\n",
      "######\n"
     ]
    }
   ],
   "source": [
    "for i in range(n):\n",
    "    spaces=str((n-i-1)*' ')\n",
    "    hashes=str(i*'#')\n",
    "    print(spaces,hashes)\n",
    "hashes=str(n*'#')\n",
    "print(hashes)"
   ]
  }
 ],
 "metadata": {
  "kernelspec": {
   "display_name": "Python 3 (ipykernel)",
   "language": "python",
   "name": "python3"
  },
  "language_info": {
   "codemirror_mode": {
    "name": "ipython",
    "version": 3
   },
   "file_extension": ".py",
   "mimetype": "text/x-python",
   "name": "python",
   "nbconvert_exporter": "python",
   "pygments_lexer": "ipython3",
   "version": "3.7.4"
  }
 },
 "nbformat": 4,
 "nbformat_minor": 5
}
