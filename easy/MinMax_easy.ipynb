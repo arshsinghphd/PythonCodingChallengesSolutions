{
 "cells": [
  {
   "cell_type": "markdown",
   "id": "304f7a36",
   "metadata": {},
   "source": [
    "https://www.hackerrank.com/challenges/mini-max-sum/problem"
   ]
  },
  {
   "cell_type": "code",
   "execution_count": 5,
   "id": "0d26289b",
   "metadata": {},
   "outputs": [
    {
     "data": {
      "text/plain": [
       "[140105069, 448268787, 949693112, 214418120, 507936289]"
      ]
     },
     "execution_count": 5,
     "metadata": {},
     "output_type": "execute_result"
    }
   ],
   "source": [
    "import random \n",
    "n=5\n",
    "arr=[]\n",
    "for i in range(n):\n",
    "    arr.append(random.randint(1,10**9))\n",
    "arr"
   ]
  },
  {
   "cell_type": "code",
   "execution_count": 6,
   "id": "b90ddc99",
   "metadata": {},
   "outputs": [],
   "source": [
    "arr.sort()"
   ]
  },
  {
   "cell_type": "code",
   "execution_count": 14,
   "id": "913213bf",
   "metadata": {},
   "outputs": [
    {
     "data": {
      "text/plain": [
       "([214418120, 448268787, 507936289, 949693112],\n",
       " [140105069, 214418120, 448268787, 507936289])"
      ]
     },
     "execution_count": 14,
     "metadata": {},
     "output_type": "execute_result"
    }
   ],
   "source": [
    "mi=sum(arr[0:4])\n",
    "ma=sum(arr[1:])\n",
    "arr[1:], arr[0:4]"
   ]
  }
 ],
 "metadata": {
  "kernelspec": {
   "display_name": "Python 3 (ipykernel)",
   "language": "python",
   "name": "python3"
  },
  "language_info": {
   "codemirror_mode": {
    "name": "ipython",
    "version": 3
   },
   "file_extension": ".py",
   "mimetype": "text/x-python",
   "name": "python",
   "nbconvert_exporter": "python",
   "pygments_lexer": "ipython3",
   "version": "3.7.4"
  }
 },
 "nbformat": 4,
 "nbformat_minor": 5
}
