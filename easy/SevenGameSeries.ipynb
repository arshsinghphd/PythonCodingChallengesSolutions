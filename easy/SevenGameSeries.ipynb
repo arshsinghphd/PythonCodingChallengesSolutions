{
 "cells": [
  {
   "cell_type": "markdown",
   "id": "1bf514dc",
   "metadata": {},
   "source": [
    "10. Two teams, say the Cavs and the Warriors, are playing a seven game championship series. The first to win four games, therefore, wins the series. The teams are equally good so they each have a 50-50 chance of winning each game. If the Cavs lose the first game, what is the probability that they win the series?"
   ]
  },
  {
   "cell_type": "markdown",
   "id": "86ffb64f",
   "metadata": {},
   "source": [
    "Solution by brute force - make all the possible outcome and count probability by hand. Since the outcomes are equally likely we can treat them like toss of a coin. "
   ]
  },
  {
   "cell_type": "markdown",
   "id": "f59c08cf",
   "metadata": {},
   "source": [
    "Let's say 0 is when Cavs lose/Warrios win, and 1 is the other scenario. \n",
    "There are no draws in this problem."
   ]
  },
  {
   "cell_type": "markdown",
   "id": "41fdc1bc",
   "metadata": {},
   "source": [
    "7 games can only happen if both teams win 3 games each in first 6 games. The outcome of the first game is know and is 0. Permutation of the of (0,0,1,1,1) over the 5 games gives us all the possible 6 games. 7th game can be 0 or 1.\n",
    "\n",
    "0 [0 0 1 1 1] 0 or \n",
    "\n",
    "0 [0 0 1 1 1] 1, \n",
    "\n",
    " where numbers inside brackets can be rearranged."
   ]
  },
  {
   "cell_type": "markdown",
   "id": "d56b520a",
   "metadata": {},
   "source": [
    "Total possible arrangements = 5!/2!/3! * 2 = 20\n",
    "\n",
    "Out of which 10 are favourable to cavs winning series."
   ]
  },
  {
   "cell_type": "markdown",
   "id": "0fdc50dd",
   "metadata": {},
   "source": [
    "6 games are only possible if neither of the teams wins 4 of the first 5 games, but the sixth game is fourth win for one of the teams.\n",
    "\n",
    "Possible outcomes:\n",
    "\n",
    " 0 [0 1 1 1] 1, or \n",
    " \n",
    " 0 [0 0 1 1] 0.\n",
    " "
   ]
  },
  {
   "cell_type": "markdown",
   "id": "ccdea063",
   "metadata": {},
   "source": [
    "Total = 4!/3! + 4!/2!/2! = 4 + 6 = 10\n",
    "\n",
    "Favourable = 4!/3! = 4"
   ]
  },
  {
   "cell_type": "markdown",
   "id": "c9ec1cc6",
   "metadata": {},
   "source": [
    "5 games:\n",
    "\n",
    "0 [1 1 1] 1 or \n",
    "\n",
    "0 [0 0 1] 0\n",
    "\n",
    "Total = 1 + 3 = 4 \n",
    "\n",
    "out of which 1 is favourable\n",
    "\n",
    "4 games:\n",
    "\n",
    "0 0 0 0 \n",
    "\n",
    "Total = 1\n",
    "\n",
    "Favourable = 0\n",
    "\n",
    "\n",
    "Overall, Total = 20 + 10 + 4 + 1 = 35\n",
    "Favourable = 10 + 4 + 1 + 0 = 15"
   ]
  },
  {
   "cell_type": "code",
   "execution_count": 1,
   "id": "193f19d2",
   "metadata": {
    "scrolled": true
   },
   "outputs": [
    {
     "data": {
      "text/plain": [
       "0.42857142857142855"
      ]
     },
     "execution_count": 1,
     "metadata": {},
     "output_type": "execute_result"
    }
   ],
   "source": [
    "15/35"
   ]
  },
  {
   "cell_type": "markdown",
   "id": "e969cbf7",
   "metadata": {},
   "source": [
    "Monte carlo simulation for the brute force solution:"
   ]
  },
  {
   "cell_type": "code",
   "execution_count": 2,
   "id": "666efab6",
   "metadata": {},
   "outputs": [],
   "source": [
    "import random "
   ]
  },
  {
   "cell_type": "code",
   "execution_count": 3,
   "id": "1f2f13d1",
   "metadata": {},
   "outputs": [],
   "source": [
    "def seven_games():\n",
    "    cav=[0,1]\n",
    "    games=[0]\n",
    "    for i in range(2,8):\n",
    "        #print(i)\n",
    "        games+=random.choices(cav, k=1, weights=[.5,.5])\n",
    "        #print(games)\n",
    "        if  (i==4 and sum(games)==0) or \\\n",
    "        (i==5 and sum(games)==1) or (i==5 and sum(games)==4) |\\\n",
    "        (i==6 and sum(games)==2) or (i==6 and sum(games)==4):\n",
    "            break\n",
    "    return games\n",
    "    "
   ]
  },
  {
   "cell_type": "code",
   "execution_count": 4,
   "id": "4e87e5ae",
   "metadata": {},
   "outputs": [],
   "source": [
    "def monte_carlo_games(S=10**4):\n",
    "    sc=[]\n",
    "    for i in range(S):\n",
    "        games=seven_games()\n",
    "        #print(i, games)\n",
    "        if games not in sc:\n",
    "            sc.append(games)\n",
    "        i+=1\n",
    "        \n",
    "    d_s={}\n",
    "    for scene in sc:\n",
    "        k = len(scene)\n",
    "        if k not in d_s:\n",
    "            d_s[k]=[]\n",
    "            d_s[k].append(scene)\n",
    "        else: \n",
    "            d_s[k].append(scene)\n",
    "    return d_s"
   ]
  },
  {
   "cell_type": "code",
   "execution_count": 5,
   "id": "1992a5b0",
   "metadata": {},
   "outputs": [],
   "source": [
    "S = 10**4 # Monte carlo simulations \n",
    "scenarios=monte_carlo_games(S) # returns a dictionary of games keyed by the no. of games in the series"
   ]
  },
  {
   "cell_type": "code",
   "execution_count": 6,
   "id": "81ee3046",
   "metadata": {},
   "outputs": [
    {
     "data": {
      "text/plain": [
       "{4: [[0, 0, 0, 0]],\n",
       " 6: [[0, 1, 0, 1, 0, 0],\n",
       "  [0, 0, 1, 1, 1, 1],\n",
       "  [0, 1, 0, 1, 1, 1],\n",
       "  [0, 0, 0, 1, 1, 0],\n",
       "  [0, 0, 1, 1, 0, 0],\n",
       "  [0, 1, 1, 1, 0, 1],\n",
       "  [0, 1, 1, 0, 1, 1],\n",
       "  [0, 1, 1, 0, 0, 0],\n",
       "  [0, 0, 1, 0, 1, 0],\n",
       "  [0, 1, 0, 0, 1, 0]],\n",
       " 7: [[0, 1, 0, 1, 0, 1, 0],\n",
       "  [0, 0, 1, 1, 0, 1, 1],\n",
       "  [0, 1, 1, 0, 0, 1, 0],\n",
       "  [0, 1, 0, 1, 1, 0, 1],\n",
       "  [0, 1, 0, 1, 0, 1, 1],\n",
       "  [0, 1, 0, 1, 1, 0, 0],\n",
       "  [0, 1, 1, 0, 1, 0, 1],\n",
       "  [0, 1, 1, 1, 0, 0, 0],\n",
       "  [0, 1, 1, 0, 1, 0, 0],\n",
       "  [0, 1, 0, 0, 1, 1, 1],\n",
       "  [0, 0, 1, 1, 0, 1, 0],\n",
       "  [0, 0, 1, 0, 1, 1, 0],\n",
       "  [0, 0, 1, 1, 1, 0, 1],\n",
       "  [0, 0, 0, 1, 1, 1, 0],\n",
       "  [0, 1, 0, 0, 1, 1, 0],\n",
       "  [0, 1, 1, 0, 0, 1, 1],\n",
       "  [0, 0, 1, 0, 1, 1, 1],\n",
       "  [0, 0, 0, 1, 1, 1, 1],\n",
       "  [0, 0, 1, 1, 1, 0, 0],\n",
       "  [0, 1, 1, 1, 0, 0, 1]],\n",
       " 5: [[0, 1, 0, 0, 0], [0, 1, 1, 1, 1], [0, 0, 1, 0, 0], [0, 0, 0, 1, 0]]}"
      ]
     },
     "execution_count": 6,
     "metadata": {},
     "output_type": "execute_result"
    }
   ],
   "source": [
    "scenarios # cav winning scenarios end in 1"
   ]
  },
  {
   "cell_type": "code",
   "execution_count": 7,
   "id": "389d241b",
   "metadata": {},
   "outputs": [],
   "source": [
    "cavs=0\n",
    "n_scenes=0\n",
    "for k in scenarios:\n",
    "    for games in scenarios[k]:\n",
    "        n_scenes+=1\n",
    "        cavs+=sum(games)==4"
   ]
  },
  {
   "cell_type": "code",
   "execution_count": 8,
   "id": "dddfef1f",
   "metadata": {},
   "outputs": [
    {
     "data": {
      "text/plain": [
       "15"
      ]
     },
     "execution_count": 8,
     "metadata": {},
     "output_type": "execute_result"
    }
   ],
   "source": [
    "cavs"
   ]
  },
  {
   "cell_type": "code",
   "execution_count": 9,
   "id": "b0bb139f",
   "metadata": {
    "scrolled": true
   },
   "outputs": [
    {
     "data": {
      "text/plain": [
       "35"
      ]
     },
     "execution_count": 9,
     "metadata": {},
     "output_type": "execute_result"
    }
   ],
   "source": [
    "n_scenes"
   ]
  },
  {
   "cell_type": "code",
   "execution_count": 10,
   "id": "6f5940a6",
   "metadata": {},
   "outputs": [
    {
     "data": {
      "text/plain": [
       "0.42857142857142855"
      ]
     },
     "execution_count": 10,
     "metadata": {},
     "output_type": "execute_result"
    }
   ],
   "source": [
    "15/35"
   ]
  },
  {
   "cell_type": "markdown",
   "id": "5b965f9a",
   "metadata": {},
   "source": [
    "Now, Monte Carlo simulation for p directly"
   ]
  },
  {
   "cell_type": "code",
   "execution_count": 11,
   "id": "b78224c2",
   "metadata": {},
   "outputs": [],
   "source": [
    "def cav_wins_series():\n",
    "    cav=[0,1]\n",
    "    games=[0]\n",
    "    for i in range(2,8):\n",
    "        games+=random.choices(cav, k=1, weights=[.5,.5])\n",
    "        if  (i==4 and sum(games)==0) or \\\n",
    "        (i==5 and sum(games)==1) or (i==5 and sum(games)==4) |\\\n",
    "        (i==6 and sum(games)==2) or (i==6 and sum(games)==4):\n",
    "            break\n",
    "    cav_wins=(sum(games)==4)*1\n",
    "    return cav_wins"
   ]
  },
  {
   "cell_type": "code",
   "execution_count": 12,
   "id": "3fe03c8a",
   "metadata": {},
   "outputs": [],
   "source": [
    "def mc_cav_wins_series(S=10**5):\n",
    "    cav_wins=0\n",
    "    for i in range(S):\n",
    "        out=cav_wins_series()\n",
    "        cav_wins+=out\n",
    "    return cav_wins/S"
   ]
  },
  {
   "cell_type": "code",
   "execution_count": 13,
   "id": "97691421",
   "metadata": {},
   "outputs": [],
   "source": [
    "p=mc_cav_wins_series()"
   ]
  },
  {
   "cell_type": "code",
   "execution_count": 14,
   "id": "3c135f77",
   "metadata": {},
   "outputs": [
    {
     "data": {
      "text/plain": [
       "0.34429"
      ]
     },
     "execution_count": 14,
     "metadata": {},
     "output_type": "execute_result"
    }
   ],
   "source": [
    "p"
   ]
  }
 ],
 "metadata": {
  "kernelspec": {
   "display_name": "Python 3 (ipykernel)",
   "language": "python",
   "name": "python3"
  },
  "language_info": {
   "codemirror_mode": {
    "name": "ipython",
    "version": 3
   },
   "file_extension": ".py",
   "mimetype": "text/x-python",
   "name": "python",
   "nbconvert_exporter": "python",
   "pygments_lexer": "ipython3",
   "version": "3.7.4"
  }
 },
 "nbformat": 4,
 "nbformat_minor": 5
}
