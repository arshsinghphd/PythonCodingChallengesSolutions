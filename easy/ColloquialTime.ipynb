{
 "cells": [
  {
   "cell_type": "markdown",
   "id": "bulgarian-apparatus",
   "metadata": {},
   "source": [
    "#### https://www.hackerrank.com/challenges/the-time-in-words/problem"
   ]
  },
  {
   "cell_type": "code",
   "execution_count": null,
   "id": "preceding-passing",
   "metadata": {},
   "outputs": [],
   "source": [
    "'''\n",
    "Star 1:10\n",
    "Stop  \n",
    "Fins     \n",
    "'''"
   ]
  },
  {
   "cell_type": "code",
   "execution_count": 36,
   "id": "scheduled-senior",
   "metadata": {},
   "outputs": [
    {
     "name": "stdout",
     "output_type": "stream",
     "text": [
      "1\n",
      "1\n"
     ]
    }
   ],
   "source": [
    "h=int(input())\n",
    "m=int(input())"
   ]
  },
  {
   "cell_type": "code",
   "execution_count": 38,
   "id": "potential-ottawa",
   "metadata": {},
   "outputs": [],
   "source": [
    "d={1:'one',2:'two',3:'three',4:'four',5:'five',6:'six',7:'seven',8: 'eight',9: 'nine',10: 'ten',\n",
    "       11:'eleven',12: 'twelve',13:'thirteen',14:'fourteen',16:'sixteen',17:'seventeen',18:'eighteen',\n",
    "       19:'nineteen',20:'twenty',21:'twenty one',22:'twenty two',23:'twenty three',24:'twenty four',\n",
    "       25:'twenty five',26:'twenty six',27:'twenty seven',28:'twenty eight',29:'twenty nine'} \n",
    "\n",
    "def timeInWords(h, m): \n",
    "    # Note 1,15,30 missing\n",
    "    s_m1=''\n",
    "    s_m2=''\n",
    "    s_m2=''   \n",
    "\n",
    "    if m<=30:\n",
    "       s_h=str(d[h])   \n",
    "       s_m2='past'\n",
    "    else:\n",
    "       s_m2='to'\n",
    "       m=60-m\n",
    "       s_h=str(d[h+1])\n",
    "\n",
    "\n",
    "    if m==0:\n",
    "        s_m='o\\' clock'\n",
    "        return(s_h+' '+s_m)\n",
    "    else:\n",
    "       if m==15:\n",
    "           s_m1='quarter'\n",
    "       elif m==30:\n",
    "           s_m1='half'\n",
    "       elif m==1:\n",
    "           s_m1='one minute'\n",
    "       else:\n",
    "           s_m1=d[m]+' '+'minutes'\n",
    "       return(s_m1+' '+s_m2+' '+s_h)"
   ]
  },
  {
   "cell_type": "code",
   "execution_count": 39,
   "id": "competent-clark",
   "metadata": {},
   "outputs": [
    {
     "name": "stdout",
     "output_type": "stream",
     "text": [
      "one minute past one\n"
     ]
    }
   ],
   "source": [
    "print(timeInWords(h, m))"
   ]
  },
  {
   "cell_type": "code",
   "execution_count": null,
   "id": "european-ancient",
   "metadata": {},
   "outputs": [],
   "source": []
  }
 ],
 "metadata": {
  "kernelspec": {
   "display_name": "Python 3",
   "language": "python",
   "name": "python3"
  },
  "language_info": {
   "codemirror_mode": {
    "name": "ipython",
    "version": 3
   },
   "file_extension": ".py",
   "mimetype": "text/x-python",
   "name": "python",
   "nbconvert_exporter": "python",
   "pygments_lexer": "ipython3",
   "version": "3.7.4"
  }
 },
 "nbformat": 4,
 "nbformat_minor": 5
}
