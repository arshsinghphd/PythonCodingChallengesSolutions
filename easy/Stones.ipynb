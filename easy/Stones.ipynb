{
 "cells": [
  {
   "cell_type": "markdown",
   "id": "215bb247",
   "metadata": {},
   "source": [
    "https://www.hackerrank.com/challenges/manasa-and-stones/problem"
   ]
  },
  {
   "cell_type": "code",
   "execution_count": 1,
   "id": "d7b91a96",
   "metadata": {},
   "outputs": [],
   "source": [
    "def stones(n,a,b):\n",
    "    l=[a]*(n-1)\n",
    "    ans=[sum(l)]\n",
    "    for i in range(n):\n",
    "        l.pop(-i)\n",
    "        l.append(b)\n",
    "        ans.append(sum(l))\n",
    "    ans=[i for i in set(ans)]\n",
    "    ans.sort()\n",
    "    return ans"
   ]
  },
  {
   "cell_type": "code",
   "execution_count": 3,
   "id": "36385969",
   "metadata": {},
   "outputs": [
    {
     "data": {
      "text/plain": [
       "[30, 120, 210, 300]"
      ]
     },
     "execution_count": 3,
     "metadata": {},
     "output_type": "execute_result"
    }
   ],
   "source": [
    "n=4\n",
    "a=10\n",
    "b=100\n",
    "stones(n,a,b)"
   ]
  }
 ],
 "metadata": {
  "kernelspec": {
   "display_name": "Python 3 (ipykernel)",
   "language": "python",
   "name": "python3"
  },
  "language_info": {
   "codemirror_mode": {
    "name": "ipython",
    "version": 3
   },
   "file_extension": ".py",
   "mimetype": "text/x-python",
   "name": "python",
   "nbconvert_exporter": "python",
   "pygments_lexer": "ipython3",
   "version": "3.7.4"
  }
 },
 "nbformat": 4,
 "nbformat_minor": 5
}
