{
 "cells": [
  {
   "cell_type": "markdown",
   "id": "instrumental-thirty",
   "metadata": {},
   "source": [
    "##### https://www.hackerrank.com/challenges/flatland-space-stations/problem"
   ]
  },
  {
   "cell_type": "code",
   "execution_count": 1,
   "id": "driving-champagne",
   "metadata": {},
   "outputs": [],
   "source": [
    "import random\n",
    "#n=random.randint(10**5)\n",
    "#m=random.randint(n)\n",
    "\n",
    "n=5\n",
    "m=2\n",
    "c=[0,4]\n",
    "# expected answer=2"
   ]
  },
  {
   "cell_type": "markdown",
   "id": "literary-trade",
   "metadata": {},
   "source": [
    "##### O(n) solution:"
   ]
  },
  {
   "cell_type": "code",
   "execution_count": 2,
   "id": "tough-modification",
   "metadata": {},
   "outputs": [],
   "source": [
    "l_spstn=[0]*n #an array of IsSpaceStation (1/0)\n",
    "for i in range(n):\n",
    "    if i in c:\n",
    "        l_spstn[i]=1"
   ]
  },
  {
   "cell_type": "code",
   "execution_count": 3,
   "id": "mental-patent",
   "metadata": {},
   "outputs": [
    {
     "name": "stdout",
     "output_type": "stream",
     "text": [
      "[0, 1, 2, 3, 0]\n"
     ]
    }
   ],
   "source": [
    "# loop only once to find distance from space station on the left\n",
    "d_left=[0]*n\n",
    "for i in range(1,n):\n",
    "    if l_spstn[i]==0:\n",
    "        d_left[i]=d_left[i-1]+1\n",
    "    else:\n",
    "        d_left[i]=0\n",
    "print(d_left)"
   ]
  },
  {
   "cell_type": "code",
   "execution_count": 4,
   "id": "prime-statement",
   "metadata": {},
   "outputs": [
    {
     "name": "stdout",
     "output_type": "stream",
     "text": [
      "[0, 3, 2, 1, 0]\n"
     ]
    }
   ],
   "source": [
    "# loop only once to find distance from space station on the right\n",
    "d_right=[0]*n\n",
    "for i in range(n-1,-1,-1):\n",
    "    if l_spstn[i]==0:\n",
    "        d_right[i]=d_right[i+1]+1\n",
    "    else:\n",
    "        d_right[i]=0\n",
    "print(d_right)"
   ]
  },
  {
   "cell_type": "code",
   "execution_count": 5,
   "id": "sustainable-vessel",
   "metadata": {},
   "outputs": [
    {
     "name": "stdout",
     "output_type": "stream",
     "text": [
      "[0, 1, 2, 1, 0]\n"
     ]
    }
   ],
   "source": [
    "# loop only once to find min of the two for each i\n",
    "d=[0]*n\n",
    "for i in range(n):\n",
    "    d[i]=min(d_left[i],d_right[i])\n",
    "print(d)"
   ]
  },
  {
   "cell_type": "code",
   "execution_count": 6,
   "id": "ordered-timothy",
   "metadata": {},
   "outputs": [
    {
     "data": {
      "text/plain": [
       "2"
      ]
     },
     "execution_count": 6,
     "metadata": {},
     "output_type": "execute_result"
    }
   ],
   "source": [
    "answer=max(d)\n",
    "answer"
   ]
  },
  {
   "cell_type": "code",
   "execution_count": null,
   "id": "lesser-official",
   "metadata": {},
   "outputs": [],
   "source": []
  }
 ],
 "metadata": {
  "kernelspec": {
   "display_name": "Python 3",
   "language": "python",
   "name": "python3"
  },
  "language_info": {
   "codemirror_mode": {
    "name": "ipython",
    "version": 3
   },
   "file_extension": ".py",
   "mimetype": "text/x-python",
   "name": "python",
   "nbconvert_exporter": "python",
   "pygments_lexer": "ipython3",
   "version": "3.7.4"
  }
 },
 "nbformat": 4,
 "nbformat_minor": 5
}
